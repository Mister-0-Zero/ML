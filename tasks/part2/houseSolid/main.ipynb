{
 "cells": [
  {
   "cell_type": "markdown",
   "metadata": {},
   "source": [
    "Импорт библиотек, для визиулизации и редактирования"
   ]
  },
  {
   "cell_type": "code",
   "execution_count": 35,
   "metadata": {},
   "outputs": [],
   "source": [
    "import pandas as pd\n",
    "import seaborn as sns\n",
    "import matplotlib.pyplot as plt"
   ]
  },
  {
   "cell_type": "markdown",
   "metadata": {},
   "source": [
    "Загрузка данных"
   ]
  },
  {
   "cell_type": "code",
   "execution_count": 36,
   "metadata": {},
   "outputs": [],
   "source": [
    "data = pd.read_csv(r'data\\train.csv')"
   ]
  },
  {
   "cell_type": "markdown",
   "metadata": {},
   "source": [
    "Изучим данные"
   ]
  },
  {
   "cell_type": "code",
   "execution_count": 37,
   "metadata": {},
   "outputs": [
    {
     "data": {
      "text/html": [
       "<div>\n",
       "<style scoped>\n",
       "    .dataframe tbody tr th:only-of-type {\n",
       "        vertical-align: middle;\n",
       "    }\n",
       "\n",
       "    .dataframe tbody tr th {\n",
       "        vertical-align: top;\n",
       "    }\n",
       "\n",
       "    .dataframe thead th {\n",
       "        text-align: right;\n",
       "    }\n",
       "</style>\n",
       "<table border=\"1\" class=\"dataframe\">\n",
       "  <thead>\n",
       "    <tr style=\"text-align: right;\">\n",
       "      <th></th>\n",
       "      <th>Id</th>\n",
       "      <th>MSSubClass</th>\n",
       "      <th>MSZoning</th>\n",
       "      <th>LotFrontage</th>\n",
       "      <th>LotArea</th>\n",
       "      <th>Street</th>\n",
       "      <th>Alley</th>\n",
       "      <th>LotShape</th>\n",
       "      <th>LandContour</th>\n",
       "      <th>Utilities</th>\n",
       "      <th>...</th>\n",
       "      <th>PoolArea</th>\n",
       "      <th>PoolQC</th>\n",
       "      <th>Fence</th>\n",
       "      <th>MiscFeature</th>\n",
       "      <th>MiscVal</th>\n",
       "      <th>MoSold</th>\n",
       "      <th>YrSold</th>\n",
       "      <th>SaleType</th>\n",
       "      <th>SaleCondition</th>\n",
       "      <th>SalePrice</th>\n",
       "    </tr>\n",
       "  </thead>\n",
       "  <tbody>\n",
       "    <tr>\n",
       "      <th>0</th>\n",
       "      <td>1</td>\n",
       "      <td>60</td>\n",
       "      <td>RL</td>\n",
       "      <td>65.0</td>\n",
       "      <td>8450</td>\n",
       "      <td>Pave</td>\n",
       "      <td>NaN</td>\n",
       "      <td>Reg</td>\n",
       "      <td>Lvl</td>\n",
       "      <td>AllPub</td>\n",
       "      <td>...</td>\n",
       "      <td>0</td>\n",
       "      <td>NaN</td>\n",
       "      <td>NaN</td>\n",
       "      <td>NaN</td>\n",
       "      <td>0</td>\n",
       "      <td>2</td>\n",
       "      <td>2008</td>\n",
       "      <td>WD</td>\n",
       "      <td>Normal</td>\n",
       "      <td>208500</td>\n",
       "    </tr>\n",
       "    <tr>\n",
       "      <th>1</th>\n",
       "      <td>2</td>\n",
       "      <td>20</td>\n",
       "      <td>RL</td>\n",
       "      <td>80.0</td>\n",
       "      <td>9600</td>\n",
       "      <td>Pave</td>\n",
       "      <td>NaN</td>\n",
       "      <td>Reg</td>\n",
       "      <td>Lvl</td>\n",
       "      <td>AllPub</td>\n",
       "      <td>...</td>\n",
       "      <td>0</td>\n",
       "      <td>NaN</td>\n",
       "      <td>NaN</td>\n",
       "      <td>NaN</td>\n",
       "      <td>0</td>\n",
       "      <td>5</td>\n",
       "      <td>2007</td>\n",
       "      <td>WD</td>\n",
       "      <td>Normal</td>\n",
       "      <td>181500</td>\n",
       "    </tr>\n",
       "    <tr>\n",
       "      <th>2</th>\n",
       "      <td>3</td>\n",
       "      <td>60</td>\n",
       "      <td>RL</td>\n",
       "      <td>68.0</td>\n",
       "      <td>11250</td>\n",
       "      <td>Pave</td>\n",
       "      <td>NaN</td>\n",
       "      <td>IR1</td>\n",
       "      <td>Lvl</td>\n",
       "      <td>AllPub</td>\n",
       "      <td>...</td>\n",
       "      <td>0</td>\n",
       "      <td>NaN</td>\n",
       "      <td>NaN</td>\n",
       "      <td>NaN</td>\n",
       "      <td>0</td>\n",
       "      <td>9</td>\n",
       "      <td>2008</td>\n",
       "      <td>WD</td>\n",
       "      <td>Normal</td>\n",
       "      <td>223500</td>\n",
       "    </tr>\n",
       "    <tr>\n",
       "      <th>3</th>\n",
       "      <td>4</td>\n",
       "      <td>70</td>\n",
       "      <td>RL</td>\n",
       "      <td>60.0</td>\n",
       "      <td>9550</td>\n",
       "      <td>Pave</td>\n",
       "      <td>NaN</td>\n",
       "      <td>IR1</td>\n",
       "      <td>Lvl</td>\n",
       "      <td>AllPub</td>\n",
       "      <td>...</td>\n",
       "      <td>0</td>\n",
       "      <td>NaN</td>\n",
       "      <td>NaN</td>\n",
       "      <td>NaN</td>\n",
       "      <td>0</td>\n",
       "      <td>2</td>\n",
       "      <td>2006</td>\n",
       "      <td>WD</td>\n",
       "      <td>Abnorml</td>\n",
       "      <td>140000</td>\n",
       "    </tr>\n",
       "    <tr>\n",
       "      <th>4</th>\n",
       "      <td>5</td>\n",
       "      <td>60</td>\n",
       "      <td>RL</td>\n",
       "      <td>84.0</td>\n",
       "      <td>14260</td>\n",
       "      <td>Pave</td>\n",
       "      <td>NaN</td>\n",
       "      <td>IR1</td>\n",
       "      <td>Lvl</td>\n",
       "      <td>AllPub</td>\n",
       "      <td>...</td>\n",
       "      <td>0</td>\n",
       "      <td>NaN</td>\n",
       "      <td>NaN</td>\n",
       "      <td>NaN</td>\n",
       "      <td>0</td>\n",
       "      <td>12</td>\n",
       "      <td>2008</td>\n",
       "      <td>WD</td>\n",
       "      <td>Normal</td>\n",
       "      <td>250000</td>\n",
       "    </tr>\n",
       "  </tbody>\n",
       "</table>\n",
       "<p>5 rows × 81 columns</p>\n",
       "</div>"
      ],
      "text/plain": [
       "   Id  MSSubClass MSZoning  LotFrontage  LotArea Street Alley LotShape  \\\n",
       "0   1          60       RL         65.0     8450   Pave   NaN      Reg   \n",
       "1   2          20       RL         80.0     9600   Pave   NaN      Reg   \n",
       "2   3          60       RL         68.0    11250   Pave   NaN      IR1   \n",
       "3   4          70       RL         60.0     9550   Pave   NaN      IR1   \n",
       "4   5          60       RL         84.0    14260   Pave   NaN      IR1   \n",
       "\n",
       "  LandContour Utilities  ... PoolArea PoolQC Fence MiscFeature MiscVal MoSold  \\\n",
       "0         Lvl    AllPub  ...        0    NaN   NaN         NaN       0      2   \n",
       "1         Lvl    AllPub  ...        0    NaN   NaN         NaN       0      5   \n",
       "2         Lvl    AllPub  ...        0    NaN   NaN         NaN       0      9   \n",
       "3         Lvl    AllPub  ...        0    NaN   NaN         NaN       0      2   \n",
       "4         Lvl    AllPub  ...        0    NaN   NaN         NaN       0     12   \n",
       "\n",
       "  YrSold  SaleType  SaleCondition  SalePrice  \n",
       "0   2008        WD         Normal     208500  \n",
       "1   2007        WD         Normal     181500  \n",
       "2   2008        WD         Normal     223500  \n",
       "3   2006        WD        Abnorml     140000  \n",
       "4   2008        WD         Normal     250000  \n",
       "\n",
       "[5 rows x 81 columns]"
      ]
     },
     "execution_count": 37,
     "metadata": {},
     "output_type": "execute_result"
    }
   ],
   "source": [
    "data.head()"
   ]
  },
  {
   "cell_type": "code",
   "execution_count": 38,
   "metadata": {},
   "outputs": [
    {
     "data": {
      "text/plain": [
       "(1460, 81)"
      ]
     },
     "execution_count": 38,
     "metadata": {},
     "output_type": "execute_result"
    }
   ],
   "source": [
    "data.shape"
   ]
  },
  {
   "cell_type": "code",
   "execution_count": 39,
   "metadata": {},
   "outputs": [
    {
     "data": {
      "text/html": [
       "<div>\n",
       "<style scoped>\n",
       "    .dataframe tbody tr th:only-of-type {\n",
       "        vertical-align: middle;\n",
       "    }\n",
       "\n",
       "    .dataframe tbody tr th {\n",
       "        vertical-align: top;\n",
       "    }\n",
       "\n",
       "    .dataframe thead th {\n",
       "        text-align: right;\n",
       "    }\n",
       "</style>\n",
       "<table border=\"1\" class=\"dataframe\">\n",
       "  <thead>\n",
       "    <tr style=\"text-align: right;\">\n",
       "      <th></th>\n",
       "      <th>Id</th>\n",
       "      <th>MSSubClass</th>\n",
       "      <th>LotFrontage</th>\n",
       "      <th>LotArea</th>\n",
       "      <th>OverallQual</th>\n",
       "      <th>OverallCond</th>\n",
       "      <th>YearBuilt</th>\n",
       "      <th>YearRemodAdd</th>\n",
       "      <th>MasVnrArea</th>\n",
       "      <th>BsmtFinSF1</th>\n",
       "      <th>...</th>\n",
       "      <th>WoodDeckSF</th>\n",
       "      <th>OpenPorchSF</th>\n",
       "      <th>EnclosedPorch</th>\n",
       "      <th>3SsnPorch</th>\n",
       "      <th>ScreenPorch</th>\n",
       "      <th>PoolArea</th>\n",
       "      <th>MiscVal</th>\n",
       "      <th>MoSold</th>\n",
       "      <th>YrSold</th>\n",
       "      <th>SalePrice</th>\n",
       "    </tr>\n",
       "  </thead>\n",
       "  <tbody>\n",
       "    <tr>\n",
       "      <th>count</th>\n",
       "      <td>1460.000000</td>\n",
       "      <td>1460.000000</td>\n",
       "      <td>1201.000000</td>\n",
       "      <td>1460.000000</td>\n",
       "      <td>1460.000000</td>\n",
       "      <td>1460.000000</td>\n",
       "      <td>1460.000000</td>\n",
       "      <td>1460.000000</td>\n",
       "      <td>1452.000000</td>\n",
       "      <td>1460.000000</td>\n",
       "      <td>...</td>\n",
       "      <td>1460.000000</td>\n",
       "      <td>1460.000000</td>\n",
       "      <td>1460.000000</td>\n",
       "      <td>1460.000000</td>\n",
       "      <td>1460.000000</td>\n",
       "      <td>1460.000000</td>\n",
       "      <td>1460.000000</td>\n",
       "      <td>1460.000000</td>\n",
       "      <td>1460.000000</td>\n",
       "      <td>1460.000000</td>\n",
       "    </tr>\n",
       "    <tr>\n",
       "      <th>mean</th>\n",
       "      <td>730.500000</td>\n",
       "      <td>56.897260</td>\n",
       "      <td>70.049958</td>\n",
       "      <td>10516.828082</td>\n",
       "      <td>6.099315</td>\n",
       "      <td>5.575342</td>\n",
       "      <td>1971.267808</td>\n",
       "      <td>1984.865753</td>\n",
       "      <td>103.685262</td>\n",
       "      <td>443.639726</td>\n",
       "      <td>...</td>\n",
       "      <td>94.244521</td>\n",
       "      <td>46.660274</td>\n",
       "      <td>21.954110</td>\n",
       "      <td>3.409589</td>\n",
       "      <td>15.060959</td>\n",
       "      <td>2.758904</td>\n",
       "      <td>43.489041</td>\n",
       "      <td>6.321918</td>\n",
       "      <td>2007.815753</td>\n",
       "      <td>180921.195890</td>\n",
       "    </tr>\n",
       "    <tr>\n",
       "      <th>std</th>\n",
       "      <td>421.610009</td>\n",
       "      <td>42.300571</td>\n",
       "      <td>24.284752</td>\n",
       "      <td>9981.264932</td>\n",
       "      <td>1.382997</td>\n",
       "      <td>1.112799</td>\n",
       "      <td>30.202904</td>\n",
       "      <td>20.645407</td>\n",
       "      <td>181.066207</td>\n",
       "      <td>456.098091</td>\n",
       "      <td>...</td>\n",
       "      <td>125.338794</td>\n",
       "      <td>66.256028</td>\n",
       "      <td>61.119149</td>\n",
       "      <td>29.317331</td>\n",
       "      <td>55.757415</td>\n",
       "      <td>40.177307</td>\n",
       "      <td>496.123024</td>\n",
       "      <td>2.703626</td>\n",
       "      <td>1.328095</td>\n",
       "      <td>79442.502883</td>\n",
       "    </tr>\n",
       "    <tr>\n",
       "      <th>min</th>\n",
       "      <td>1.000000</td>\n",
       "      <td>20.000000</td>\n",
       "      <td>21.000000</td>\n",
       "      <td>1300.000000</td>\n",
       "      <td>1.000000</td>\n",
       "      <td>1.000000</td>\n",
       "      <td>1872.000000</td>\n",
       "      <td>1950.000000</td>\n",
       "      <td>0.000000</td>\n",
       "      <td>0.000000</td>\n",
       "      <td>...</td>\n",
       "      <td>0.000000</td>\n",
       "      <td>0.000000</td>\n",
       "      <td>0.000000</td>\n",
       "      <td>0.000000</td>\n",
       "      <td>0.000000</td>\n",
       "      <td>0.000000</td>\n",
       "      <td>0.000000</td>\n",
       "      <td>1.000000</td>\n",
       "      <td>2006.000000</td>\n",
       "      <td>34900.000000</td>\n",
       "    </tr>\n",
       "    <tr>\n",
       "      <th>25%</th>\n",
       "      <td>365.750000</td>\n",
       "      <td>20.000000</td>\n",
       "      <td>59.000000</td>\n",
       "      <td>7553.500000</td>\n",
       "      <td>5.000000</td>\n",
       "      <td>5.000000</td>\n",
       "      <td>1954.000000</td>\n",
       "      <td>1967.000000</td>\n",
       "      <td>0.000000</td>\n",
       "      <td>0.000000</td>\n",
       "      <td>...</td>\n",
       "      <td>0.000000</td>\n",
       "      <td>0.000000</td>\n",
       "      <td>0.000000</td>\n",
       "      <td>0.000000</td>\n",
       "      <td>0.000000</td>\n",
       "      <td>0.000000</td>\n",
       "      <td>0.000000</td>\n",
       "      <td>5.000000</td>\n",
       "      <td>2007.000000</td>\n",
       "      <td>129975.000000</td>\n",
       "    </tr>\n",
       "    <tr>\n",
       "      <th>50%</th>\n",
       "      <td>730.500000</td>\n",
       "      <td>50.000000</td>\n",
       "      <td>69.000000</td>\n",
       "      <td>9478.500000</td>\n",
       "      <td>6.000000</td>\n",
       "      <td>5.000000</td>\n",
       "      <td>1973.000000</td>\n",
       "      <td>1994.000000</td>\n",
       "      <td>0.000000</td>\n",
       "      <td>383.500000</td>\n",
       "      <td>...</td>\n",
       "      <td>0.000000</td>\n",
       "      <td>25.000000</td>\n",
       "      <td>0.000000</td>\n",
       "      <td>0.000000</td>\n",
       "      <td>0.000000</td>\n",
       "      <td>0.000000</td>\n",
       "      <td>0.000000</td>\n",
       "      <td>6.000000</td>\n",
       "      <td>2008.000000</td>\n",
       "      <td>163000.000000</td>\n",
       "    </tr>\n",
       "    <tr>\n",
       "      <th>75%</th>\n",
       "      <td>1095.250000</td>\n",
       "      <td>70.000000</td>\n",
       "      <td>80.000000</td>\n",
       "      <td>11601.500000</td>\n",
       "      <td>7.000000</td>\n",
       "      <td>6.000000</td>\n",
       "      <td>2000.000000</td>\n",
       "      <td>2004.000000</td>\n",
       "      <td>166.000000</td>\n",
       "      <td>712.250000</td>\n",
       "      <td>...</td>\n",
       "      <td>168.000000</td>\n",
       "      <td>68.000000</td>\n",
       "      <td>0.000000</td>\n",
       "      <td>0.000000</td>\n",
       "      <td>0.000000</td>\n",
       "      <td>0.000000</td>\n",
       "      <td>0.000000</td>\n",
       "      <td>8.000000</td>\n",
       "      <td>2009.000000</td>\n",
       "      <td>214000.000000</td>\n",
       "    </tr>\n",
       "    <tr>\n",
       "      <th>max</th>\n",
       "      <td>1460.000000</td>\n",
       "      <td>190.000000</td>\n",
       "      <td>313.000000</td>\n",
       "      <td>215245.000000</td>\n",
       "      <td>10.000000</td>\n",
       "      <td>9.000000</td>\n",
       "      <td>2010.000000</td>\n",
       "      <td>2010.000000</td>\n",
       "      <td>1600.000000</td>\n",
       "      <td>5644.000000</td>\n",
       "      <td>...</td>\n",
       "      <td>857.000000</td>\n",
       "      <td>547.000000</td>\n",
       "      <td>552.000000</td>\n",
       "      <td>508.000000</td>\n",
       "      <td>480.000000</td>\n",
       "      <td>738.000000</td>\n",
       "      <td>15500.000000</td>\n",
       "      <td>12.000000</td>\n",
       "      <td>2010.000000</td>\n",
       "      <td>755000.000000</td>\n",
       "    </tr>\n",
       "  </tbody>\n",
       "</table>\n",
       "<p>8 rows × 38 columns</p>\n",
       "</div>"
      ],
      "text/plain": [
       "                Id   MSSubClass  LotFrontage        LotArea  OverallQual  \\\n",
       "count  1460.000000  1460.000000  1201.000000    1460.000000  1460.000000   \n",
       "mean    730.500000    56.897260    70.049958   10516.828082     6.099315   \n",
       "std     421.610009    42.300571    24.284752    9981.264932     1.382997   \n",
       "min       1.000000    20.000000    21.000000    1300.000000     1.000000   \n",
       "25%     365.750000    20.000000    59.000000    7553.500000     5.000000   \n",
       "50%     730.500000    50.000000    69.000000    9478.500000     6.000000   \n",
       "75%    1095.250000    70.000000    80.000000   11601.500000     7.000000   \n",
       "max    1460.000000   190.000000   313.000000  215245.000000    10.000000   \n",
       "\n",
       "       OverallCond    YearBuilt  YearRemodAdd   MasVnrArea   BsmtFinSF1  ...  \\\n",
       "count  1460.000000  1460.000000   1460.000000  1452.000000  1460.000000  ...   \n",
       "mean      5.575342  1971.267808   1984.865753   103.685262   443.639726  ...   \n",
       "std       1.112799    30.202904     20.645407   181.066207   456.098091  ...   \n",
       "min       1.000000  1872.000000   1950.000000     0.000000     0.000000  ...   \n",
       "25%       5.000000  1954.000000   1967.000000     0.000000     0.000000  ...   \n",
       "50%       5.000000  1973.000000   1994.000000     0.000000   383.500000  ...   \n",
       "75%       6.000000  2000.000000   2004.000000   166.000000   712.250000  ...   \n",
       "max       9.000000  2010.000000   2010.000000  1600.000000  5644.000000  ...   \n",
       "\n",
       "        WoodDeckSF  OpenPorchSF  EnclosedPorch    3SsnPorch  ScreenPorch  \\\n",
       "count  1460.000000  1460.000000    1460.000000  1460.000000  1460.000000   \n",
       "mean     94.244521    46.660274      21.954110     3.409589    15.060959   \n",
       "std     125.338794    66.256028      61.119149    29.317331    55.757415   \n",
       "min       0.000000     0.000000       0.000000     0.000000     0.000000   \n",
       "25%       0.000000     0.000000       0.000000     0.000000     0.000000   \n",
       "50%       0.000000    25.000000       0.000000     0.000000     0.000000   \n",
       "75%     168.000000    68.000000       0.000000     0.000000     0.000000   \n",
       "max     857.000000   547.000000     552.000000   508.000000   480.000000   \n",
       "\n",
       "          PoolArea       MiscVal       MoSold       YrSold      SalePrice  \n",
       "count  1460.000000   1460.000000  1460.000000  1460.000000    1460.000000  \n",
       "mean      2.758904     43.489041     6.321918  2007.815753  180921.195890  \n",
       "std      40.177307    496.123024     2.703626     1.328095   79442.502883  \n",
       "min       0.000000      0.000000     1.000000  2006.000000   34900.000000  \n",
       "25%       0.000000      0.000000     5.000000  2007.000000  129975.000000  \n",
       "50%       0.000000      0.000000     6.000000  2008.000000  163000.000000  \n",
       "75%       0.000000      0.000000     8.000000  2009.000000  214000.000000  \n",
       "max     738.000000  15500.000000    12.000000  2010.000000  755000.000000  \n",
       "\n",
       "[8 rows x 38 columns]"
      ]
     },
     "execution_count": 39,
     "metadata": {},
     "output_type": "execute_result"
    }
   ],
   "source": [
    "data.describe()"
   ]
  },
  {
   "cell_type": "markdown",
   "metadata": {},
   "source": [
    "Посмотрим heatmap данных на пустые значения"
   ]
  },
  {
   "cell_type": "code",
   "execution_count": 40,
   "metadata": {},
   "outputs": [
    {
     "data": {
      "text/plain": [
       "<Axes: >"
      ]
     },
     "execution_count": 40,
     "metadata": {},
     "output_type": "execute_result"
    },
    {
     "data": {
      "image/png": "[encoded data removed]",
      "text/plain": [
       "<Figure size 640x480 with 2 Axes>"
      ]
     },
     "metadata": {},
     "output_type": "display_data"
    }
   ],
   "source": [
    "sns.heatmap(data = data.isnull())"
   ]
  },
  {
   "cell_type": "markdown",
   "metadata": {},
   "source": [
    "Много пустых значений, отсортируем данные"
   ]
  },
  {
   "cell_type": "code",
   "execution_count": 41,
   "metadata": {},
   "outputs": [
    {
     "name": "stdout",
     "output_type": "stream",
     "text": [
      "LotFrontage      259\n",
      "Alley           1369\n",
      "MasVnrType       872\n",
      "MasVnrArea         8\n",
      "BsmtQual          37\n",
      "BsmtCond          37\n",
      "BsmtExposure      38\n",
      "BsmtFinType1      37\n",
      "BsmtFinType2      38\n",
      "Electrical         1\n",
      "FireplaceQu      690\n",
      "GarageType        81\n",
      "GarageYrBlt       81\n",
      "GarageFinish      81\n",
      "GarageQual        81\n",
      "GarageCond        81\n",
      "PoolQC          1453\n",
      "Fence           1179\n",
      "MiscFeature     1406\n",
      "dtype: int64\n"
     ]
    }
   ],
   "source": [
    "empty_data = data.isnull().sum()[data.isnull().sum() > 0]\n",
    "print(empty_data)"
   ]
  },
  {
   "cell_type": "markdown",
   "metadata": {},
   "source": [
    "Удалим столбцы в которых больше 10 % данных null"
   ]
  },
  {
   "cell_type": "code",
   "execution_count": 42,
   "metadata": {},
   "outputs": [],
   "source": [
    "empty_data_per = empty_data / data.shape[0]\n",
    "column_for_delete = empty_data_per[empty_data_per > 0.1].index.tolist()\n",
    "data.drop(column_for_delete, axis=1, inplace=True)"
   ]
  },
  {
   "cell_type": "code",
   "execution_count": 43,
   "metadata": {},
   "outputs": [
    {
     "data": {
      "text/plain": [
       "(1460, 74)"
      ]
     },
     "execution_count": 43,
     "metadata": {},
     "output_type": "execute_result"
    }
   ],
   "source": [
    "data.shape"
   ]
  },
  {
   "cell_type": "code",
   "execution_count": 44,
   "metadata": {},
   "outputs": [
    {
     "data": {
      "text/plain": [
       "(1349, 74)"
      ]
     },
     "execution_count": 44,
     "metadata": {},
     "output_type": "execute_result"
    }
   ],
   "source": [
    "row_with_more_empty_values = data.isnull().sum(axis = 1)[data.isnull().sum(axis = 1) > 3].index.tolist()\n",
    "data.drop(row_with_more_empty_values, axis = 0, inplace=True)\n",
    "data.shape"
   ]
  },
  {
   "cell_type": "markdown",
   "metadata": {},
   "source": [
    "посмотрим heatmap"
   ]
  },
  {
   "cell_type": "code",
   "execution_count": 45,
   "metadata": {},
   "outputs": [
    {
     "data": {
      "text/plain": [
       "<Axes: >"
      ]
     },
     "execution_count": 45,
     "metadata": {},
     "output_type": "execute_result"
    },
    {
     "data": {
      "image/png": "[encoded data removed]",
      "text/plain": [
       "<Figure size 640x480 with 2 Axes>"
      ]
     },
     "metadata": {},
     "output_type": "display_data"
    }
   ],
   "source": [
    "sns.heatmap(data = data.isnull())"
   ]
  },
  {
   "cell_type": "markdown",
   "metadata": {},
   "source": [
    "Так намного лучше, как будто очень мало строк с пропущенными значениями осталось, если это так, то удалим и их"
   ]
  },
  {
   "cell_type": "code",
   "execution_count": 46,
   "metadata": {},
   "outputs": [
    {
     "name": "stdout",
     "output_type": "stream",
     "text": [
      "[234, 332, 529, 650, 936, 948, 973, 977, 1243, 1278, 1379]\n"
     ]
    }
   ],
   "source": [
    "str_with_empty_val = data.isnull().sum(axis = 1)[data.isnull().sum(axis = 1) > 0].index.tolist()\n",
    "print(str_with_empty_val)"
   ]
  },
  {
   "cell_type": "markdown",
   "metadata": {},
   "source": [
    "Верно было подмечено, удалим и их"
   ]
  },
  {
   "cell_type": "code",
   "execution_count": 47,
   "metadata": {},
   "outputs": [
    {
     "data": {
      "text/plain": [
       "<Axes: >"
      ]
     },
     "execution_count": 47,
     "metadata": {},
     "output_type": "execute_result"
    },
    {
     "data": {
      "image/png": "[encoded data removed]",
      "text/plain": [
       "<Figure size 640x480 with 2 Axes>"
      ]
     },
     "metadata": {},
     "output_type": "display_data"
    }
   ],
   "source": [
    "data.drop(str_with_empty_val, axis = 0, inplace=True)\n",
    "sns.heatmap(data = data.isnull())"
   ]
  },
  {
   "cell_type": "markdown",
   "metadata": {},
   "source": [
    "Отлично, думаю теперь стоит отсеять лишние признаки, используем l1 регуляризацию"
   ]
  },
  {
   "cell_type": "markdown",
   "metadata": {},
   "source": [
    "Подготовим данные"
   ]
  },
  {
   "cell_type": "code",
   "execution_count": 48,
   "metadata": {},
   "outputs": [
    {
     "name": "stdout",
     "output_type": "stream",
     "text": [
      "['MSZoning', 'Street', 'LotShape', 'LandContour', 'Utilities', 'LotConfig', 'LandSlope', 'Neighborhood', 'Condition1', 'Condition2', 'BldgType', 'HouseStyle', 'RoofStyle', 'RoofMatl', 'Exterior1st', 'Exterior2nd', 'ExterQual', 'ExterCond', 'Foundation', 'BsmtQual', 'BsmtCond', 'BsmtExposure', 'BsmtFinType1', 'BsmtFinType2', 'Heating', 'HeatingQC', 'CentralAir', 'Electrical', 'KitchenQual', 'Functional', 'GarageType', 'GarageFinish', 'GarageQual', 'GarageCond', 'PavedDrive', 'SaleType', 'SaleCondition']\n"
     ]
    }
   ],
   "source": [
    "column_no_num = data.select_dtypes(exclude=['number']).columns.tolist()\n",
    "print(column_no_num)"
   ]
  },
  {
   "cell_type": "markdown",
   "metadata": {},
   "source": [
    "Довольно много данных не относщихся к числовым, применим LabelEncoder"
   ]
  },
  {
   "cell_type": "code",
   "execution_count": 49,
   "metadata": {},
   "outputs": [
    {
     "data": {
      "text/html": [
       "<div>\n",
       "<style scoped>\n",
       "    .dataframe tbody tr th:only-of-type {\n",
       "        vertical-align: middle;\n",
       "    }\n",
       "\n",
       "    .dataframe tbody tr th {\n",
       "        vertical-align: top;\n",
       "    }\n",
       "\n",
       "    .dataframe thead th {\n",
       "        text-align: right;\n",
       "    }\n",
       "</style>\n",
       "<table border=\"1\" class=\"dataframe\">\n",
       "  <thead>\n",
       "    <tr style=\"text-align: right;\">\n",
       "      <th></th>\n",
       "      <th>Id</th>\n",
       "      <th>MSSubClass</th>\n",
       "      <th>MSZoning</th>\n",
       "      <th>LotArea</th>\n",
       "      <th>Street</th>\n",
       "      <th>LotShape</th>\n",
       "      <th>LandContour</th>\n",
       "      <th>Utilities</th>\n",
       "      <th>LotConfig</th>\n",
       "      <th>LandSlope</th>\n",
       "      <th>...</th>\n",
       "      <th>EnclosedPorch</th>\n",
       "      <th>3SsnPorch</th>\n",
       "      <th>ScreenPorch</th>\n",
       "      <th>PoolArea</th>\n",
       "      <th>MiscVal</th>\n",
       "      <th>MoSold</th>\n",
       "      <th>YrSold</th>\n",
       "      <th>SaleType</th>\n",
       "      <th>SaleCondition</th>\n",
       "      <th>SalePrice</th>\n",
       "    </tr>\n",
       "  </thead>\n",
       "  <tbody>\n",
       "    <tr>\n",
       "      <th>0</th>\n",
       "      <td>1</td>\n",
       "      <td>60</td>\n",
       "      <td>3.0</td>\n",
       "      <td>8450</td>\n",
       "      <td>1.0</td>\n",
       "      <td>3.0</td>\n",
       "      <td>3.0</td>\n",
       "      <td>0.0</td>\n",
       "      <td>4.0</td>\n",
       "      <td>0.0</td>\n",
       "      <td>...</td>\n",
       "      <td>0</td>\n",
       "      <td>0</td>\n",
       "      <td>0</td>\n",
       "      <td>0</td>\n",
       "      <td>0</td>\n",
       "      <td>2</td>\n",
       "      <td>2008</td>\n",
       "      <td>8.0</td>\n",
       "      <td>4.0</td>\n",
       "      <td>208500</td>\n",
       "    </tr>\n",
       "    <tr>\n",
       "      <th>1</th>\n",
       "      <td>2</td>\n",
       "      <td>20</td>\n",
       "      <td>3.0</td>\n",
       "      <td>9600</td>\n",
       "      <td>1.0</td>\n",
       "      <td>3.0</td>\n",
       "      <td>3.0</td>\n",
       "      <td>0.0</td>\n",
       "      <td>2.0</td>\n",
       "      <td>0.0</td>\n",
       "      <td>...</td>\n",
       "      <td>0</td>\n",
       "      <td>0</td>\n",
       "      <td>0</td>\n",
       "      <td>0</td>\n",
       "      <td>0</td>\n",
       "      <td>5</td>\n",
       "      <td>2007</td>\n",
       "      <td>8.0</td>\n",
       "      <td>4.0</td>\n",
       "      <td>181500</td>\n",
       "    </tr>\n",
       "    <tr>\n",
       "      <th>2</th>\n",
       "      <td>3</td>\n",
       "      <td>60</td>\n",
       "      <td>3.0</td>\n",
       "      <td>11250</td>\n",
       "      <td>1.0</td>\n",
       "      <td>0.0</td>\n",
       "      <td>3.0</td>\n",
       "      <td>0.0</td>\n",
       "      <td>4.0</td>\n",
       "      <td>0.0</td>\n",
       "      <td>...</td>\n",
       "      <td>0</td>\n",
       "      <td>0</td>\n",
       "      <td>0</td>\n",
       "      <td>0</td>\n",
       "      <td>0</td>\n",
       "      <td>9</td>\n",
       "      <td>2008</td>\n",
       "      <td>8.0</td>\n",
       "      <td>4.0</td>\n",
       "      <td>223500</td>\n",
       "    </tr>\n",
       "    <tr>\n",
       "      <th>3</th>\n",
       "      <td>4</td>\n",
       "      <td>70</td>\n",
       "      <td>3.0</td>\n",
       "      <td>9550</td>\n",
       "      <td>1.0</td>\n",
       "      <td>0.0</td>\n",
       "      <td>3.0</td>\n",
       "      <td>0.0</td>\n",
       "      <td>0.0</td>\n",
       "      <td>0.0</td>\n",
       "      <td>...</td>\n",
       "      <td>272</td>\n",
       "      <td>0</td>\n",
       "      <td>0</td>\n",
       "      <td>0</td>\n",
       "      <td>0</td>\n",
       "      <td>2</td>\n",
       "      <td>2006</td>\n",
       "      <td>8.0</td>\n",
       "      <td>0.0</td>\n",
       "      <td>140000</td>\n",
       "    </tr>\n",
       "    <tr>\n",
       "      <th>4</th>\n",
       "      <td>5</td>\n",
       "      <td>60</td>\n",
       "      <td>3.0</td>\n",
       "      <td>14260</td>\n",
       "      <td>1.0</td>\n",
       "      <td>0.0</td>\n",
       "      <td>3.0</td>\n",
       "      <td>0.0</td>\n",
       "      <td>2.0</td>\n",
       "      <td>0.0</td>\n",
       "      <td>...</td>\n",
       "      <td>0</td>\n",
       "      <td>0</td>\n",
       "      <td>0</td>\n",
       "      <td>0</td>\n",
       "      <td>0</td>\n",
       "      <td>12</td>\n",
       "      <td>2008</td>\n",
       "      <td>8.0</td>\n",
       "      <td>4.0</td>\n",
       "      <td>250000</td>\n",
       "    </tr>\n",
       "  </tbody>\n",
       "</table>\n",
       "<p>5 rows × 74 columns</p>\n",
       "</div>"
      ],
      "text/plain": [
       "   Id  MSSubClass  MSZoning  LotArea  Street  LotShape  LandContour  \\\n",
       "0   1          60       3.0     8450     1.0       3.0          3.0   \n",
       "1   2          20       3.0     9600     1.0       3.0          3.0   \n",
       "2   3          60       3.0    11250     1.0       0.0          3.0   \n",
       "3   4          70       3.0     9550     1.0       0.0          3.0   \n",
       "4   5          60       3.0    14260     1.0       0.0          3.0   \n",
       "\n",
       "   Utilities  LotConfig  LandSlope  ...  EnclosedPorch  3SsnPorch  \\\n",
       "0        0.0        4.0        0.0  ...              0          0   \n",
       "1        0.0        2.0        0.0  ...              0          0   \n",
       "2        0.0        4.0        0.0  ...              0          0   \n",
       "3        0.0        0.0        0.0  ...            272          0   \n",
       "4        0.0        2.0        0.0  ...              0          0   \n",
       "\n",
       "   ScreenPorch  PoolArea  MiscVal  MoSold  YrSold  SaleType  SaleCondition  \\\n",
       "0            0         0        0       2    2008       8.0            4.0   \n",
       "1            0         0        0       5    2007       8.0            4.0   \n",
       "2            0         0        0       9    2008       8.0            4.0   \n",
       "3            0         0        0       2    2006       8.0            0.0   \n",
       "4            0         0        0      12    2008       8.0            4.0   \n",
       "\n",
       "   SalePrice  \n",
       "0     208500  \n",
       "1     181500  \n",
       "2     223500  \n",
       "3     140000  \n",
       "4     250000  \n",
       "\n",
       "[5 rows x 74 columns]"
      ]
     },
     "execution_count": 49,
     "metadata": {},
     "output_type": "execute_result"
    }
   ],
   "source": [
    "from sklearn.preprocessing import OrdinalEncoder\n",
    "\n",
    "data[column_no_num] = OrdinalEncoder().fit_transform(data[column_no_num])\n",
    "data.head()"
   ]
  },
  {
   "cell_type": "code",
   "execution_count": 50,
   "metadata": {},
   "outputs": [
    {
     "name": "stdout",
     "output_type": "stream",
     "text": [
      "        Id  MSSubClass  MSZoning  LotArea  Street  LotShape  LandContour  \\\n",
      "0        1          60       3.0     8450     1.0       3.0          3.0   \n",
      "1        2          20       3.0     9600     1.0       3.0          3.0   \n",
      "2        3          60       3.0    11250     1.0       0.0          3.0   \n",
      "3        4          70       3.0     9550     1.0       0.0          3.0   \n",
      "4        5          60       3.0    14260     1.0       0.0          3.0   \n",
      "...    ...         ...       ...      ...     ...       ...          ...   \n",
      "1455  1456          60       3.0     7917     1.0       3.0          3.0   \n",
      "1456  1457          20       3.0    13175     1.0       3.0          3.0   \n",
      "1457  1458          70       3.0     9042     1.0       3.0          3.0   \n",
      "1458  1459          20       3.0     9717     1.0       3.0          3.0   \n",
      "1459  1460          20       3.0     9937     1.0       3.0          3.0   \n",
      "\n",
      "      Utilities  LotConfig  LandSlope  ...  OpenPorchSF  EnclosedPorch  \\\n",
      "0           0.0        4.0        0.0  ...           61              0   \n",
      "1           0.0        2.0        0.0  ...            0              0   \n",
      "2           0.0        4.0        0.0  ...           42              0   \n",
      "3           0.0        0.0        0.0  ...           35            272   \n",
      "4           0.0        2.0        0.0  ...           84              0   \n",
      "...         ...        ...        ...  ...          ...            ...   \n",
      "1455        0.0        4.0        0.0  ...           40              0   \n",
      "1456        0.0        4.0        0.0  ...            0              0   \n",
      "1457        0.0        4.0        0.0  ...           60              0   \n",
      "1458        0.0        4.0        0.0  ...            0            112   \n",
      "1459        0.0        4.0        0.0  ...           68              0   \n",
      "\n",
      "      3SsnPorch  ScreenPorch  PoolArea  MiscVal  MoSold  YrSold  SaleType  \\\n",
      "0             0            0         0        0       2    2008       8.0   \n",
      "1             0            0         0        0       5    2007       8.0   \n",
      "2             0            0         0        0       9    2008       8.0   \n",
      "3             0            0         0        0       2    2006       8.0   \n",
      "4             0            0         0        0      12    2008       8.0   \n",
      "...         ...          ...       ...      ...     ...     ...       ...   \n",
      "1455          0            0         0        0       8    2007       8.0   \n",
      "1456          0            0         0        0       2    2010       8.0   \n",
      "1457          0            0         0     2500       5    2010       8.0   \n",
      "1458          0            0         0        0       4    2010       8.0   \n",
      "1459          0            0         0        0       6    2008       8.0   \n",
      "\n",
      "      SaleCondition  \n",
      "0               4.0  \n",
      "1               4.0  \n",
      "2               4.0  \n",
      "3               0.0  \n",
      "4               4.0  \n",
      "...             ...  \n",
      "1455            4.0  \n",
      "1456            4.0  \n",
      "1457            4.0  \n",
      "1458            4.0  \n",
      "1459            4.0  \n",
      "\n",
      "[1338 rows x 73 columns]\n"
     ]
    }
   ],
   "source": [
    "Y = data[\"SalePrice\"]\n",
    "X = data.drop(\"SalePrice\", axis = 1)\n",
    "print(X)"
   ]
  },
  {
   "cell_type": "code",
   "execution_count": 51,
   "metadata": {},
   "outputs": [],
   "source": [
    "from sklearn.model_selection import train_test_split\n",
    "\n",
    "X_train, x_tv, Y_train, y_tv  = train_test_split(X, Y, test_size=0.4, random_state=42)\n",
    "X_test, X_validation, Y_test, Y_validation = train_test_split(X, Y, test_size=0.5, random_state=42)"
   ]
  },
  {
   "cell_type": "markdown",
   "metadata": {},
   "source": [
    "Данные готовы, теперь используем lasso для отбора признаков и randomForest."
   ]
  },
  {
   "cell_type": "code",
   "execution_count": 52,
   "metadata": {},
   "outputs": [],
   "source": [
    "from sklearn.linear_model import Lasso\n",
    "from sklearn.ensemble import RandomForestRegressor\n",
    "from sklearn.model_selection import GridSearchCV\n",
    "import os\n",
    "import joblib\n",
    "\n",
    "def model_RF_SF(save_model = 0):  \n",
    "    model_RF = RandomForestRegressor(n_estimators=100, random_state=42)\n",
    "    model_RF.fit(X_validation, Y_validation)\n",
    "    if save_model: \n",
    "        joblib.dump(model_RF, \"model\\model_RF_select_feature.pkl\")\n",
    "\n",
    "    return model_RF\n",
    "\n",
    "def model_lasso_SF(save_model = 0):\n",
    "    model_lasso = Lasso(alpha=0.1)\n",
    "    model_lasso.fit(X_validation, Y_validation)\n",
    "    if save_model:\n",
    "        joblib.dump(model_lasso, \"model\\model_lasso_select_feature.pkl\")\n",
    "\n",
    "    return model_lasso\n",
    "\n",
    "\n",
    "if not os.path.exists(\"model\\model_RF_select_feature.pkl\"):\n",
    "    model_RF = model_RF_SF(save_model = 1)\n",
    "else:\n",
    "    model_RF = joblib.load(\"model\\model_RF_select_feature.pkl\")\n",
    "\n",
    "if not os.path.exists(\"model\\model_lasso_select_feature.pkl\"):\n",
    "    model_lasso = model_lasso_SF()\n",
    "else:\n",
    "    model_lasso = joblib.load(\"model\\model_lasso_select_feature.pkl\")\n"
   ]
  },
  {
   "cell_type": "code",
   "execution_count": 53,
   "metadata": {},
   "outputs": [
    {
     "name": "stdout",
     "output_type": "stream",
     "text": [
      "mean_lasso_coef: 4176.4698623121685\n",
      "mean_RF_coef: 0.0136986301369863\n"
     ]
    }
   ],
   "source": [
    "mean_lasso_coef = abs(model_lasso.coef_).mean()\n",
    "mean_RF_coef = model_RF.feature_importances_.mean()\n",
    "\n",
    "print(f\"mean_lasso_coef: {mean_lasso_coef}\")\n",
    "print(f\"mean_RF_coef: {mean_RF_coef}\")"
   ]
  },
  {
   "cell_type": "code",
   "execution_count": 54,
   "metadata": {},
   "outputs": [
    {
     "name": "stdout",
     "output_type": "stream",
     "text": [
      "['MSZoning', 'Fireplaces', 'BsmtFullBath', 'OverallCond', 'FullBath', 'GarageCars', 'TotRmsAbvGrd', 'KitchenQual', 'OverallQual']\n"
     ]
    }
   ],
   "source": [
    "\n",
    "def selected_feature(threshold_l, threshold_rf):\n",
    "    global lasso_selected_features, rf_selected_features\n",
    "    lasso_selected_features = [X.columns[i] for i in range(len(model_lasso.coef_)) if abs(model_lasso.coef_[i]) > threshold_l]\n",
    "\n",
    "    rf_selected_features = [X.columns[i] for i in range(len(model_RF.feature_importances_)) if model_RF.feature_importances_[i] > threshold_rf]\n",
    "\n",
    "    common_selected_features = list(set(lasso_selected_features) & set(rf_selected_features))\n",
    "    \n",
    "    print(common_selected_features)\n",
    "\n",
    "    return common_selected_features\n",
    "\n",
    "common_selected_features = selected_feature(mean_lasso_coef / 5, mean_RF_coef / 5) "
   ]
  },
  {
   "cell_type": "code",
   "execution_count": 55,
   "metadata": {},
   "outputs": [],
   "source": [
    "def print_coef(title, massive):\n",
    "    print(title)\n",
    "    i = 0\n",
    "    while i < len(massive):\n",
    "        print(massive[i: i + 5])\n",
    "        i += 5\n",
    "    print()"
   ]
  },
  {
   "cell_type": "code",
   "execution_count": 56,
   "metadata": {},
   "outputs": [
    {
     "name": "stdout",
     "output_type": "stream",
     "text": [
      "lasso_selected_features: \n",
      "['MSZoning', 'Street', 'LandContour', 'Utilities', 'LandSlope']\n",
      "['Condition2', 'BldgType', 'HouseStyle', 'OverallQual', 'OverallCond']\n",
      "['RoofStyle', 'RoofMatl', 'Exterior1st', 'Exterior2nd', 'ExterQual']\n",
      "['Foundation', 'BsmtQual', 'BsmtCond', 'BsmtExposure', 'BsmtFinType1']\n",
      "['BsmtFinType2', 'Heating', 'HeatingQC', 'CentralAir', 'BsmtFullBath']\n",
      "['FullBath', 'BedroomAbvGr', 'KitchenAbvGr', 'KitchenQual', 'TotRmsAbvGrd']\n",
      "['Functional', 'Fireplaces', 'GarageType', 'GarageCars', 'YrSold']\n",
      "['SaleCondition']\n",
      "\n",
      "rf_selected_features: \n",
      "['Id', 'MSZoning', 'LotArea', 'Neighborhood', 'OverallQual']\n",
      "['OverallCond', 'YearBuilt', 'YearRemodAdd', 'MasVnrArea', 'BsmtFinSF1']\n",
      "['BsmtFinSF2', 'BsmtUnfSF', 'TotalBsmtSF', '1stFlrSF', '2ndFlrSF']\n",
      "['GrLivArea', 'BsmtFullBath', 'FullBath', 'KitchenQual', 'TotRmsAbvGrd']\n",
      "['Fireplaces', 'GarageYrBlt', 'GarageFinish', 'GarageCars', 'GarageArea']\n",
      "['WoodDeckSF', 'OpenPorchSF', 'MoSold']\n",
      "\n"
     ]
    }
   ],
   "source": [
    "print_coef(\"lasso_selected_features: \", lasso_selected_features)\n",
    "print_coef(\"rf_selected_features: \", rf_selected_features)"
   ]
  },
  {
   "cell_type": "code",
   "execution_count": 57,
   "metadata": {},
   "outputs": [
    {
     "name": "stdout",
     "output_type": "stream",
     "text": [
      "Lasso coef:\n",
      "[0.29, 130.95, 998.56, 0.52, 47537.85]\n",
      "[619.92, 3688.33, 67106.79, 174.39, 8945.87]\n",
      "[749.6, 450.33, 17993.57, 1044.32, 1484.37]\n",
      "[15357.05, 2162.96, 250.61, 80.92, 1170.41]\n",
      "[5093.59, 1948.63, 1295.11, 23.55, 7796.02]\n",
      "[788.32, 4119.85, 4558.07, 1885.43, 2181.45]\n",
      "[1193.09, 4.74, 1933.83, 10.53, 9.99]\n",
      "[7.16, 7728.2, 1597.51, 10179.0, 270.35]\n",
      "[31.81, 27.24, 39.96, 2.62, 11619.77]\n",
      "[48.32, 7546.41, 425.23, 4100.74, 17847.57]\n",
      "[7454.91, 7099.27, 3594.71, 4336.64, 1327.4]\n",
      "[240.66, 491.14, 8673.51, 26.24, 630.07]\n",
      "[83.83, 821.83, 21.26, 19.37, 28.42]\n",
      "[68.15, 99.87, 322.57, 1.6, 310.65]\n",
      "[1207.27, 561.17, 3200.07]\n",
      "\n",
      "RF feature importances:\n",
      "[0.63, 0.22, 0.33, 2.13, 0.0]\n",
      "[0.16, 0.16, 0.0, 0.07, 0.07]\n",
      "[0.79, 0.05, 0.01, 0.03, 0.07]\n",
      "[57.11, 0.78, 1.31, 0.75, 0.14]\n",
      "[0.01, 0.24, 0.19, 1.06, 0.19]\n",
      "[0.08, 0.04, 0.26, 0.04, 0.13]\n",
      "[0.21, 2.57, 0.03, 0.39, 0.92]\n",
      "[1.82, 0.04, 0.12, 0.12, 0.03]\n",
      "[1.65, 1.68, 0.0, 10.02, 0.45]\n",
      "[0.03, 3.42, 0.16, 0.18, 0.09]\n",
      "[0.31, 1.51, 0.07, 0.3, 0.24]\n",
      "[0.5, 0.31, 2.03, 1.44, 0.01]\n",
      "[0.0, 0.03, 0.51, 0.53, 0.05]\n",
      "[0.0, 0.22, 0.03, 0.0, 0.41]\n",
      "[0.19, 0.14, 0.15]\n",
      "\n"
     ]
    }
   ],
   "source": [
    "lasso_coef = [round(float(abs(coef)), 2) for coef in model_lasso.coef_]\n",
    "RF_coef = [round(float(abs(coef * 100)), 2) for coef in model_RF.feature_importances_]\n",
    "\n",
    "print_coef(\"Lasso coef:\", lasso_coef)\n",
    "print_coef(\"RF feature importances:\" ,RF_coef)"
   ]
  },
  {
   "cell_type": "code",
   "execution_count": 61,
   "metadata": {},
   "outputs": [],
   "source": [
    "import numpy as np\n",
    "\n",
    "def model_RF_general(select_col, save_model = 0):\n",
    "    param_grid_RF = {\n",
    "        \"n_estimators\": [30, 80, 200, 400],\n",
    "        \"max_depth\": [None, 2, 5],\n",
    "        \"min_samples_split\": [2, 5, 10]\n",
    "    }\n",
    "\n",
    "    model_RF = RandomForestRegressor()\n",
    "    GS_RF = GridSearchCV(model_RF, param_grid=param_grid_RF, cv=4, scoring='neg_mean_squared_error', n_jobs=-1)\n",
    "    \n",
    "    GS_RF.fit(X_train[select_col], Y_train)\n",
    "\n",
    "    model_RF = GS_RF.best_estimator_\n",
    "    if save_model: \n",
    "        joblib.dump(model_RF, \"model\\model_RF.pkl\")\n",
    "    \n",
    "    \n",
    "    return model_RF\n",
    "\n",
    "if not os.path.exists(\"model\\model_RF.pkl\"):\n",
    "    model_RF = model_RF_general(common_selected_features, save_model = 1)\n",
    "else:\n",
    "    model_RF = joblib.load(\"model\\model_RF.pkl\")\n"
   ]
  },
  {
   "cell_type": "code",
   "execution_count": 62,
   "metadata": {},
   "outputs": [
    {
     "name": "stdout",
     "output_type": "stream",
     "text": [
      "🔹 Predicted: 129956 323983 90541 279695 196862 151911 235727 88982 199985 128765\n",
      "🔸 Actual:    125000 410000 79500 311872 215000 139500 239799 80000 187500 145000\n",
      "Per val:  0.96 0.79 0.88 0.9 0.92 0.92 0.98 0.9 0.94 0.89\n",
      "Averange:  0.91\n"
     ]
    }
   ],
   "source": [
    "def via_predict_actual(model, select_col):\n",
    "    global predicted\n",
    "    predicted = model.predict(X_test[select_col])\n",
    "\n",
    "    predict_10 = np.round(predicted[:10]).astype(int).tolist()\n",
    "    true_10 = Y_test.iloc[:10].values.tolist()\n",
    "\n",
    "    print(\"🔹 Predicted:\", *predict_10)\n",
    "    print(\"🔸 Actual:   \", *true_10)\n",
    "\n",
    "    per_val = [round(min(x, y) / max(x,y), 2) for x, y in zip(predict_10, true_10)]\n",
    "\n",
    "    print(\"Per val: \", *per_val)\n",
    "    print(\"Averange: \", round(sum(per_val) / len(per_val), 2))\n",
    "\n",
    "via_predict_actual(model_RF, common_selected_features)"
   ]
  },
  {
   "cell_type": "markdown",
   "metadata": {},
   "source": [
    "Получилась довольно хорошая точность, теперь я бы хотел посмотреть точность на всех данных, но перед этим, рассмотрим отобранные признаки более подробно:<br><br> - MSZoning: The general zoning classification <br> - OverallCond: Overall condition rating <br> - OverallQual: Overall material and finish quality <br> - Fireplaces: Number of fireplaces <br> - FullBath: Full bathrooms above grade <br> - KitchenQual: Kitchen quality <br> - GarageCars: Size of garage in car capacity <br> - BsmtFullBath: Basement full bathrooms"
   ]
  },
  {
   "cell_type": "code",
   "execution_count": 63,
   "metadata": {},
   "outputs": [
    {
     "name": "stdout",
     "output_type": "stream",
     "text": [
      "9.34\n"
     ]
    }
   ],
   "source": [
    "from sklearn.metrics import mean_absolute_percentage_error\n",
    "\n",
    "mape = round(mean_absolute_percentage_error(Y_test, predicted) * 100, 2)\n",
    "\n",
    "print(mape)"
   ]
  },
  {
   "cell_type": "code",
   "execution_count": 64,
   "metadata": {},
   "outputs": [],
   "source": [
    "def save_data(model, select_col):\n",
    "    #Загружаем данные \n",
    "    test_file_data = pd.read_csv(r\"data\\test.csv\")\n",
    "\n",
    "    #Отбор и редактирование данных\n",
    "    x_id = test_file_data[\"Id\"]\n",
    "    x_test = test_file_data[select_col]\n",
    "    column_no_num = x_test.select_dtypes(exclude=['number']).columns.tolist()\n",
    "    x_test[column_no_num] = OrdinalEncoder().fit_transform(x_test[column_no_num])\n",
    "\n",
    "    #Прогноз\n",
    "    predict = model.predict(x_test)\n",
    "\n",
    "    #Ну и дальше запись и проверка\n",
    "    df_predict = pd.DataFrame({\"Id\": x_id.values,\n",
    "                            \"SalePrice\": np.round(predict).astype(int)})\n",
    "\n",
    "    df_predict.head()\n",
    "\n",
    "    df_predict.to_csv(\"predict.csv\", index = False)"
   ]
  },
  {
   "cell_type": "markdown",
   "metadata": {},
   "source": [
    "Результат вышел печельный, модель плохо себя показала на соревновании, попробуем перестроить модель."
   ]
  },
  {
   "cell_type": "code",
   "execution_count": 65,
   "metadata": {},
   "outputs": [
    {
     "name": "stdout",
     "output_type": "stream",
     "text": [
      "['OverallCond', 'OverallQual', 'FullBath', 'YearBuilt', 'GarageCars', 'Neighborhood', 'TotRmsAbvGrd', 'GarageYrBlt']\n"
     ]
    }
   ],
   "source": [
    "model_RF = model_RF_SF()\n",
    "select_col = selected_feature(threshold_l= mean_lasso_coef / 20, threshold_rf= mean_RF_coef / 3)"
   ]
  },
  {
   "cell_type": "code",
   "execution_count": null,
   "metadata": {},
   "outputs": [],
   "source": [
    "model_RF = model_RF_general(select_col)"
   ]
  },
  {
   "cell_type": "code",
   "execution_count": null,
   "metadata": {},
   "outputs": [
    {
     "name": "stdout",
     "output_type": "stream",
     "text": [
      "🔹 Predicted: 128615 342103 94165 278462 211384 149398 241192 88152 218168 145906\n",
      "🔸 Actual:    125000 410000 79500 311872 215000 139500 239799 80000 187500 145000\n",
      "Per val:  0.97 0.83 0.84 0.89 0.98 0.93 0.99 0.91 0.86 0.99\n",
      "Averange:  0.92\n"
     ]
    }
   ],
   "source": [
    "via_predict_actual(model_RF, select_col)"
   ]
  },
  {
   "cell_type": "code",
   "execution_count": null,
   "metadata": {},
   "outputs": [
    {
     "name": "stderr",
     "output_type": "stream",
     "text": [
      "C:\\Users\\Alexey\\AppData\\Local\\Temp\\ipykernel_7080\\1768985031.py:9: SettingWithCopyWarning: \n",
      "A value is trying to be set on a copy of a slice from a DataFrame.\n",
      "Try using .loc[row_indexer,col_indexer] = value instead\n",
      "\n",
      "See the caveats in the documentation: https://pandas.pydata.org/pandas-docs/stable/user_guide/indexing.html#returning-a-view-versus-a-copy\n",
      "  x_test[column_no_num] = OrdinalEncoder().fit_transform(x_test[column_no_num])\n"
     ]
    }
   ],
   "source": [
    "save_data(model_RF, select_col)"
   ]
  },
  {
   "cell_type": "markdown",
   "metadata": {},
   "source": [
    "Результат лишь чуть лучше, странно это, ведь у меня на тестовых данных большая точность, видимо overfiting или просачились данные. Либо у всех модель дает такие высокие результаты. "
   ]
  },
  {
   "cell_type": "markdown",
   "metadata": {},
   "source": [
    "RMSE дал результат в 23800, хочу посмотерть сколько у меня, при приближении к 90% точности."
   ]
  },
  {
   "cell_type": "code",
   "execution_count": null,
   "metadata": {},
   "outputs": [
    {
     "name": "stdout",
     "output_type": "stream",
     "text": [
      "19905.052524862815\n"
     ]
    }
   ],
   "source": [
    "from sklearn.metrics import root_mean_squared_error\n",
    "\n",
    "def RMSE(model, select_col):\n",
    "    predict = model.predict(X_test[select_col])\n",
    "\n",
    "    RMSE =  root_mean_squared_error(predict, Y_test)\n",
    "\n",
    "    print(RMSE)\n",
    "\n",
    "RMSE(model_RF, select_col)"
   ]
  },
  {
   "cell_type": "markdown",
   "metadata": {},
   "source": [
    "Изменим модель, чтобы во время обучения ее loos был RMSE"
   ]
  },
  {
   "cell_type": "code",
   "execution_count": null,
   "metadata": {},
   "outputs": [],
   "source": [
    "def model_RF_general_RMSE(select_col, save_model = 0):\n",
    "    param_grid_RF = {\n",
    "        \"n_estimators\": [30, 80, 200, 400, 1000],\n",
    "        \"max_depth\": [None, 2, 5, 8],\n",
    "        \"min_samples_split\": [2, 5, 10]\n",
    "    }\n",
    "\n",
    "    model_RF = RandomForestRegressor()\n",
    "    GS_RF = GridSearchCV(model_RF, param_grid=param_grid_RF, cv=4, scoring='neg_root_mean_squared_error', n_jobs=-1)\n",
    "    \n",
    "    GS_RF.fit(X_train[select_col], Y_train)\n",
    "\n",
    "    model_RF = GS_RF.best_estimator_\n",
    "    if save_model: \n",
    "        joblib.dump(model_RF, \"model\\model_RF_RMSE.pkl\")\n",
    "    \n",
    "    \n",
    "    return model_RF\n",
    "\n",
    "if not os.path.exists(\"model\\model_RF_RMSE.pkl\"):\n",
    "    model_RF_RMSE = model_RF_general_RMSE(select_col, save_model = 1)\n",
    "else:\n",
    "    model_RF_RMSE = joblib.load(\"model\\model_RF_RMSE.pkl\")"
   ]
  },
  {
   "cell_type": "code",
   "execution_count": null,
   "metadata": {},
   "outputs": [
    {
     "name": "stdout",
     "output_type": "stream",
     "text": [
      "🔹 Predicted: 128405 345244 91978 279350 211094 150861 243732 89076 221719 145873\n",
      "🔸 Actual:    125000 410000 79500 311872 215000 139500 239799 80000 187500 145000\n",
      "Per val:  0.97 0.84 0.86 0.9 0.98 0.92 0.98 0.9 0.85 0.99\n",
      "Averange:  0.92\n"
     ]
    }
   ],
   "source": [
    "via_predict_actual(model_RF_RMSE, select_col)"
   ]
  },
  {
   "cell_type": "code",
   "execution_count": null,
   "metadata": {},
   "outputs": [
    {
     "name": "stdout",
     "output_type": "stream",
     "text": [
      "19773.045757445696\n"
     ]
    }
   ],
   "source": [
    "RMSE(model_RF_RMSE, select_col)"
   ]
  },
  {
   "cell_type": "markdown",
   "metadata": {},
   "source": [
    "Слабо изменилось, давайте тогда попробуем обучить модель на признаках отталкиваясь от тех, что важны именно для деревьев"
   ]
  },
  {
   "cell_type": "code",
   "execution_count": null,
   "metadata": {},
   "outputs": [
    {
     "name": "stdout",
     "output_type": "stream",
     "text": [
      "['GarageArea', 'GrLivArea', 'TotalBsmtSF', 'TotRmsAbvGrd', 'OverallQual', 'FullBath', '1stFlrSF', 'LotArea', 'BsmtFinSF1', '2ndFlrSF', 'GarageCars']\n"
     ]
    }
   ],
   "source": [
    "select_col = selected_feature(threshold_l=0.01, threshold_rf= mean_RF_coef)"
   ]
  },
  {
   "cell_type": "code",
   "execution_count": null,
   "metadata": {},
   "outputs": [
    {
     "name": "stdout",
     "output_type": "stream",
     "text": [
      "🔹 Predicted: 123390 397364 93701 282272 223819 140246 239152 84245 198007 137583\n",
      "🔸 Actual:    125000 410000 79500 311872 215000 139500 239799 80000 187500 145000\n",
      "Per val:  0.99 0.97 0.85 0.91 0.96 0.99 1.0 0.95 0.95 0.95\n",
      "Averange:  0.95\n",
      "10647.914176492299\n"
     ]
    }
   ],
   "source": [
    "model_RF_RMSE = model_RF_general_RMSE(select_col=select_col)\n",
    "via_predict_actual(model_RF_RMSE, select_col)\n",
    "RMSE(model_RF_RMSE, select_col)"
   ]
  },
  {
   "cell_type": "markdown",
   "metadata": {},
   "source": [
    "рещультат заметно улучшился, попробую загрузить модель"
   ]
  },
  {
   "cell_type": "code",
   "execution_count": null,
   "metadata": {},
   "outputs": [],
   "source": [
    "def save_model(path, model):\n",
    "    joblib.dump(model, path)"
   ]
  },
  {
   "cell_type": "code",
   "execution_count": null,
   "metadata": {},
   "outputs": [],
   "source": [
    "save_model(path= \"model\\model_RF_RMSE\", model = model_RF_RMSE)"
   ]
  },
  {
   "cell_type": "code",
   "execution_count": null,
   "metadata": {},
   "outputs": [],
   "source": [
    "save_data(select_col=select_col, model= model_RF_RMSE)"
   ]
  },
  {
   "cell_type": "markdown",
   "metadata": {},
   "source": [
    "продвинулся на 3000 мест, но тем не менее на 3500 только. есть моменты которые я переосмыслил, так что в новом файле переделаю работу."
   ]
  }
 ],
 "metadata": {
  "kernelspec": {
   "display_name": "Python 3",
   "language": "python",
   "name": "python3"
  },
  "language_info": {
   "codemirror_mode": {
    "name": "ipython",
    "version": 3
   },
   "file_extension": ".py",
   "mimetype": "text/x-python",
   "name": "python",
   "nbconvert_exporter": "python",
   "pygments_lexer": "ipython3",
   "version": "3.11.2"
  }
 },
 "nbformat": 4,
 "nbformat_minor": 2
}
