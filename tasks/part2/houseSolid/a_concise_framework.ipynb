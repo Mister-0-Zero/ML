{
 "cells": [
  {
   "cell_type": "code",
   "execution_count": 39,
   "id": "913d4e03",
   "metadata": {},
   "outputs": [],
   "source": [
    "from sklearn.compose import ColumnTransformer\n",
    "from sklearn.pipeline import Pipeline\n",
    "from sklearn.impute import SimpleImputer, KNNImputer\n",
    "from sklearn.preprocessing import OrdinalEncoder, OneHotEncoder\n",
    "from sklearn.preprocessing import LabelEncoder\n",
    "from sklearn.preprocessing import StandardScaler\n",
    "from sklearn.model_selection import train_test_split\n",
    "import pandas as pd\n",
    "import seaborn as sns\n",
    "import matplotlib.pyplot as plt\n",
    "from sklearn.model_selection import train_test_split\n",
    "from sklearn.ensemble import RandomForestRegressor\n",
    "from sklearn.metrics import root_mean_squared_error\n",
    "import numpy as np\n",
    "import time\n",
    "import xgboost as xgb\n",
    "import joblib\n",
    "import os\n",
    "from sklearn.linear_model import Lasso\n",
    "from sklearn.feature_selection import SelectFromModel, SelectKBest, mutual_info_regression\n",
    "from sklearn.neighbors import KNeighborsRegressor\n",
    "from sklearn.model_selection import ParameterGrid\n",
    "from sklearn.metrics import mean_squared_error\n",
    "from sklearn.model_selection import GridSearchCV\n",
    "from sklearn.linear_model import LinearRegression"
   ]
  },
  {
   "cell_type": "markdown",
   "id": "f0b051ca",
   "metadata": {},
   "source": [
    "# Обработка данных"
   ]
  },
  {
   "cell_type": "markdown",
   "id": "6c1f9536",
   "metadata": {},
   "source": [
    "### Обработка Null (NaN)"
   ]
  },
  {
   "cell_type": "code",
   "execution_count": 40,
   "id": "acf99cc9",
   "metadata": {},
   "outputs": [],
   "source": [
    "def data_processing_NAN(df, test = 0):\n",
    "\n",
    "    print(f\"Начальная размерность: {df.shape}\")\n",
    "    print(f\"Количество пропусков: {df.isnull().sum().sum()}\")\n",
    "\n",
    "    # удаляем все столбцы, в которых слишком много пропущенных значений\n",
    "    num_str = df.shape[0]\n",
    "    sum_null_in_cols = df.isnull().sum()\n",
    "    missing_cols = sum_null_in_cols[sum_null_in_cols > num_str * 0.1]\n",
    "    df = df.drop(columns=missing_cols.index.tolist())\n",
    "\n",
    "    print(f\"Размерность после первичной обработки: {df.shape}\")\n",
    "    print(f\"Количество пропусков: {df.isnull().sum().sum()}\")\n",
    "\n",
    "    # разделяем данные на признаки и целевую переменную\n",
    "\n",
    "    if not test: target = np.log1p(df[\"SalePrice\"]) # логорифмируем, чтобы выбросы не так сильно влияли\n",
    "    feature = df.drop(columns=['SalePrice']) if not test else df\n",
    "\n",
    "    # заполняем оставшиеся пропуски\n",
    "    num_features = feature.select_dtypes(exclude=['object']).columns.tolist()\n",
    "    cat_features = feature.select_dtypes(include=['object']).columns.tolist()\n",
    "\n",
    "    imputer_num = KNNImputer(n_neighbors = 5, weights = \"distance\")\n",
    "    imputer_cat = SimpleImputer(strategy=\"most_frequent\")\n",
    "\n",
    "    feature[num_features] = imputer_num.fit_transform(feature[num_features])\n",
    "    feature[cat_features] = imputer_cat.fit_transform(feature[cat_features])\n",
    "\n",
    "    print(f\"Размерность после вторичной обработки обработки: {feature.shape}\")\n",
    "    print(f\"Количество пропусков: {feature.isnull().sum().sum()}\")\n",
    "\n",
    "    if not test:\n",
    "        return feature, target # выводим признаки и целевую переменную\n",
    "    else:\n",
    "        return feature\n"
   ]
  },
  {
   "cell_type": "markdown",
   "id": "8d9d3cc7",
   "metadata": {},
   "source": [
    "### Обработка категориальных признаков"
   ]
  },
  {
   "cell_type": "code",
   "execution_count": 41,
   "id": "73afad4a",
   "metadata": {},
   "outputs": [],
   "source": [
    "def data_processing_cat_features(feature_train, feature_test):\n",
    "    print('\\nНачало обработки категориальных признаков')\n",
    "\n",
    "    # --- OneHotEncoding ---\n",
    "    ohe_cols = ['MSZoning', 'Street', 'LotConfig', 'BldgType', 'HouseStyle', \n",
    "                'RoofStyle', 'RoofMatl', 'Foundation', 'Heating', 'CentralAir', \n",
    "                'PavedDrive', 'SaleType', 'SaleCondition', 'Utilities']\n",
    "\n",
    "    ohe = OneHotEncoder(handle_unknown='ignore', sparse_output=False)\n",
    "    ohe.fit(feature_train[ohe_cols])\n",
    "\n",
    "    ohe_train = ohe.transform(feature_train[ohe_cols])\n",
    "    ohe_test = ohe.transform(feature_test[ohe_cols])\n",
    "\n",
    "    ohe_cols_names = ohe.get_feature_names_out(ohe_cols)\n",
    "    \n",
    "    ohe_train_df = pd.DataFrame(ohe_train, columns=ohe_cols_names, index=feature_train.index)\n",
    "    ohe_test_df = pd.DataFrame(ohe_test, columns=ohe_cols_names, index=feature_test.index)\n",
    "\n",
    "    # --- Удаляем закодированные колонки и добавляем обратно one-hot ---\n",
    "    feature_train = feature_train.drop(columns=ohe_cols)\n",
    "    feature_test = feature_test.drop(columns=ohe_cols)\n",
    "\n",
    "    feature_train = pd.concat([feature_train, ohe_train_df], axis=1)\n",
    "    feature_test = pd.concat([feature_test, ohe_test_df], axis=1)\n",
    "\n",
    "    # --- Ordinal + Label Encoding ---\n",
    "    ordinal_cols = [\n",
    "        'LotShape', 'LandSlope', 'ExterQual', 'ExterCond', 'HeatingQC', 'KitchenQual', \n",
    "        'Functional', 'LandContour', 'BsmtQual', 'BsmtCond', 'BsmtExposure', \n",
    "        'BsmtFinType1', 'BsmtFinType2', 'Electrical', 'GarageType', 'GarageFinish', \n",
    "        'GarageQual', 'GarageCond'\n",
    "    ]\n",
    "\n",
    "    ordinal_mapping = [\n",
    "        ['Reg', 'IR1', 'IR2', 'IR3'], \n",
    "        ['Gtl', 'Mod', 'Sev'], \n",
    "        ['Ex', 'Gd', 'TA', 'Fa'], \n",
    "        ['Ex', 'Gd', 'TA', 'Fa', 'Po'], \n",
    "        ['Ex', 'Gd', 'TA', 'Fa', 'Po'], \n",
    "        ['Ex', 'Gd', 'TA', 'Fa'], \n",
    "        ['Typ', 'Min1', 'Min2', 'Mod', 'Maj1', 'Maj2', 'Sev'],\n",
    "        ['Bnk', 'Lvl', 'HLS', 'Low'],\n",
    "        ['Ex', 'Gd', 'TA', 'Fa'],  \n",
    "        ['TA', 'Gd', 'Fa', 'Po'], \n",
    "        ['No', 'Gd', 'Mn', 'Av'],  \n",
    "        ['GLQ', 'ALQ', 'Unf', 'Rec', 'BLQ', 'LwQ'],  \n",
    "        ['Unf', 'BLQ', 'ALQ', 'Rec', 'LwQ', 'GLQ'], \n",
    "        ['SBrkr', 'FuseF', 'FuseA', 'FuseP', 'Mix'],  \n",
    "        ['Attchd', 'Detchd', 'BuiltIn', 'CarPort', 'Basment', '2Types'],  \n",
    "        ['RFn', 'Unf', 'Fin'],  \n",
    "        ['TA', 'Fa', 'Gd', 'Ex', 'Po'], \n",
    "        ['TA', 'Fa', 'Gd', 'Po', 'Ex']  \n",
    "    ]\n",
    "\n",
    "    ordinal_encoder = OrdinalEncoder(categories=ordinal_mapping)\n",
    "    ordinal_encoder.fit(feature_train[ordinal_cols])\n",
    "\n",
    "    feature_train[ordinal_cols] = ordinal_encoder.transform(feature_train[ordinal_cols])\n",
    "    feature_test[ordinal_cols] = ordinal_encoder.transform(feature_test[ordinal_cols])\n",
    "\n",
    "    # --- Label Encoding ---\n",
    "    label_cols = ['Neighborhood', 'Condition1', 'Condition2', 'Exterior1st', 'Exterior2nd']\n",
    "    for col in label_cols:\n",
    "        le = LabelEncoder()\n",
    "        le.fit(feature_train[col])  # обучаем на train\n",
    "        feature_train[col] = le.transform(feature_train[col])\n",
    "        feature_test[col] = le.transform(feature_test[col])  # transform на test\n",
    "\n",
    "    # --- Проверка оставшихся категориальных признаков ---\n",
    "    for title, data in [('Train', feature_train), ('Test', feature_test)]:\n",
    "        cat_features = data.select_dtypes(include=['object']).columns.tolist()\n",
    "        print(f\"Количество не закодированных признаков в {title}: {len(cat_features)}\")\n",
    "        if cat_features:\n",
    "            for col in cat_features:\n",
    "                print(f\"{title} - {col}: {data[col].unique()}\")\n",
    "\n",
    "    print(\"Обработка категориальных признаков закончена\")\n",
    "    return feature_train, feature_test"
   ]
  },
  {
   "cell_type": "code",
   "execution_count": 42,
   "id": "3d41a0e7",
   "metadata": {},
   "outputs": [],
   "source": [
    "def data_separation(feature, target):\n",
    "    print('\\n', \"Разделение данных на тренировочную, валидационную и тестовую выборку началось.\", sep = \"\")\n",
    "    X_train, X_test, Y_train, Y_test = train_test_split(feature, target, test_size= 0.2, random_state=42)\n",
    "    Y_test = np.expm1(Y_test)\n",
    "    print(\"Разделение данных завершено.\")\n",
    "\n",
    "    return X_train, X_test, Y_train, Y_test"
   ]
  },
  {
   "cell_type": "code",
   "execution_count": 43,
   "id": "fdc73019",
   "metadata": {},
   "outputs": [
    {
     "name": "stdout",
     "output_type": "stream",
     "text": [
      "Начальная размерность: (1460, 81)\n",
      "Количество пропусков: 7829\n",
      "Размерность после первичной обработки: (1460, 74)\n",
      "Количество пропусков: 601\n",
      "Размерность после вторичной обработки обработки: (1460, 73)\n",
      "Количество пропусков: 0\n",
      "Начальная размерность: (1459, 80)\n",
      "Количество пропусков: 7878\n",
      "Размерность после первичной обработки: (1459, 73)\n",
      "Количество пропусков: 642\n",
      "Размерность после вторичной обработки обработки: (1459, 73)\n",
      "Количество пропусков: 0\n",
      "\n",
      "Начало обработки категориальных признаков\n",
      "Количество не закодированных признаков в Train: 0\n",
      "Количество не закодированных признаков в Test: 0\n",
      "Обработка категориальных признаков закончена\n",
      "\n",
      "Разделение данных на тренировочную, валидационную и тестовую выборку началось.\n",
      "Разделение данных завершено.\n"
     ]
    }
   ],
   "source": [
    "df_train = pd.read_csv(r\"data\\train.csv\")\n",
    "df_test = pd.read_csv(r\"data\\test.csv\")\n",
    "\n",
    "feature_train, target = data_processing_NAN(df = df_train)\n",
    "feature_test = data_processing_NAN(df = df_test, test = 1)\n",
    "\n",
    "feature, feature_test = data_processing_cat_features(feature_train= feature_train, feature_test= feature_test)\n",
    "X_train, X_test, Y_train, Y_test = data_separation(feature = feature, target = target)"
   ]
  },
  {
   "cell_type": "markdown",
   "id": "2211c04e",
   "metadata": {},
   "source": [
    "# Функция подсчета RMSE"
   ]
  },
  {
   "cell_type": "code",
   "execution_count": 44,
   "id": "29baa00f",
   "metadata": {},
   "outputs": [],
   "source": [
    "def RMSE(model, select_col = X_train.columns):\n",
    "    predicted = np.expm1(model.predict(X_test[select_col]))\n",
    "\n",
    "    loss = root_mean_squared_error(predicted, Y_test)\n",
    "\n",
    "    print(loss)\n",
    "\n",
    "    return loss"
   ]
  },
  {
   "cell_type": "markdown",
   "id": "32ad14df",
   "metadata": {},
   "source": [
    "*функция для красивых выводов признаков (понадобиться далее)"
   ]
  },
  {
   "cell_type": "code",
   "execution_count": 45,
   "id": "4b94c010",
   "metadata": {},
   "outputs": [],
   "source": [
    "def print_feature(feature, title = \"\"):\n",
    "    if title:\n",
    "        print(title)\n",
    "\n",
    "    for i in range(0, len(feature), 5):\n",
    "        print(*feature[i: i + 5])"
   ]
  },
  {
   "cell_type": "markdown",
   "id": "7ef0653c",
   "metadata": {},
   "source": [
    "# Подбор признаков для моделей"
   ]
  },
  {
   "cell_type": "markdown",
   "id": "feb1407d",
   "metadata": {},
   "source": [
    "NOTE: Какой процент брать для отбора признаков был подобран эксперементально. Далее вы поймете о чем речь."
   ]
  },
  {
   "cell_type": "markdown",
   "id": "9b3f6d53",
   "metadata": {},
   "source": [
    "### Подбор признаков для RF"
   ]
  },
  {
   "cell_type": "code",
   "execution_count": 46,
   "id": "c773166a",
   "metadata": {},
   "outputs": [],
   "source": [
    "def simplest_model_RF(select_col = X_train.columns, title = \"\"):\n",
    "    start = time.time()\n",
    "\n",
    "    if title:\n",
    "        print(title, '\\n')\n",
    "\n",
    "    model = RandomForestRegressor(n_estimators=100, random_state=42)\n",
    "    model.fit(X_train[select_col], Y_train)\n",
    "\n",
    "    RMSE(model, select_col)\n",
    "\n",
    "    end = time.time()\n",
    "    print(f\"time: {end - start}\", '\\n')\n",
    "\n",
    "    return model"
   ]
  },
  {
   "cell_type": "code",
   "execution_count": 47,
   "id": "85c2472c",
   "metadata": {},
   "outputs": [
    {
     "name": "stdout",
     "output_type": "stream",
     "text": [
      "Модель RF для подбора признаков \n",
      "\n",
      "30005.12132630982\n",
      "time: 3.8871798515319824 \n",
      "\n",
      "Лучшие признаки для RF:\n",
      "LotArea Neighborhood OverallQual OverallCond YearBuilt\n",
      "YearRemodAdd BsmtQual BsmtFinSF1 BsmtUnfSF TotalBsmtSF\n",
      "1stFlrSF 2ndFlrSF GrLivArea Fireplaces GarageCars\n",
      "GarageArea OpenPorchSF CentralAir_N CentralAir_Y\n"
     ]
    }
   ],
   "source": [
    "model_RF = simplest_model_RF(title=\"Модель RF для подбора признаков\")\n",
    "\n",
    "coef = model_RF.feature_importances_ * 100\n",
    "\n",
    "table_coef = pd.DataFrame({\n",
    "    'Feature': X_train.columns.tolist(),\n",
    "    'Persentage importance': coef\n",
    "})\n",
    "\n",
    "best_feature_RF = table_coef[table_coef[\"Persentage importance\"] > 0.5][\"Feature\"].tolist()\n",
    "print_feature(feature = best_feature_RF, title = \"Лучшие признаки для RF:\")"
   ]
  },
  {
   "cell_type": "markdown",
   "id": "65312df3",
   "metadata": {},
   "source": [
    "### Подбор признаков для XGB"
   ]
  },
  {
   "cell_type": "code",
   "execution_count": 48,
   "id": "3d8324fe",
   "metadata": {},
   "outputs": [],
   "source": [
    "X_train_ = X_train.astype({col: \"int32\" for col in X_train.select_dtypes(include=\"bool\").columns})\n",
    "X_test_ = X_test.astype({col: \"int32\" for col in X_test.select_dtypes(include=\"bool\").columns})"
   ]
  },
  {
   "cell_type": "code",
   "execution_count": 49,
   "id": "a763c9a1",
   "metadata": {},
   "outputs": [],
   "source": [
    "def XGBoost_model_simplest(select_col = X_train_.columns, title = \"\"):\n",
    "    start = time.time()\n",
    "\n",
    "    if title:\n",
    "        print(title, '\\n')\n",
    "\n",
    "    model = xgb.XGBRegressor(\n",
    "        objective=\"reg:squarederror\",  \n",
    "        n_estimators=500,              \n",
    "        learning_rate=0.05,           \n",
    "        max_depth=6,                  \n",
    "        subsample=0.8,                \n",
    "        colsample_bytree=0.8,          \n",
    "        random_state=42\n",
    "        )\n",
    "\n",
    "    model.fit(X_train_[select_col], Y_train)\n",
    "\n",
    "    predicted = np.expm1(model.predict(X_test_[select_col]))\n",
    "\n",
    "    loss = root_mean_squared_error(predicted, Y_test)\n",
    "\n",
    "    print(f\"RMSE: {loss}\")\n",
    "\n",
    "    end = time.time()\n",
    "    print(f\"time: {end - start}\", '\\n')\n",
    "\n",
    "    return model"
   ]
  },
  {
   "cell_type": "code",
   "execution_count": 50,
   "id": "48bda130",
   "metadata": {},
   "outputs": [
    {
     "name": "stdout",
     "output_type": "stream",
     "text": [
      "Модель XGB для подбора признаков \n",
      "\n",
      "RMSE: 25129.23406497067\n",
      "time: 2.210637092590332 \n",
      "\n",
      "Лучшие признаки для XGB:\n",
      "Id MSSubClass LotArea LotShape LandContour\n",
      "LandSlope Neighborhood Condition1 Condition2 OverallQual\n",
      "OverallCond YearBuilt YearRemodAdd Exterior1st Exterior2nd\n",
      "MasVnrArea ExterQual ExterCond BsmtQual BsmtCond\n",
      "BsmtExposure BsmtFinType1 BsmtFinSF1 BsmtFinType2 BsmtFinSF2\n",
      "BsmtUnfSF TotalBsmtSF HeatingQC Electrical 1stFlrSF\n",
      "2ndFlrSF LowQualFinSF GrLivArea BsmtFullBath BsmtHalfBath\n",
      "FullBath HalfBath BedroomAbvGr KitchenAbvGr KitchenQual\n",
      "TotRmsAbvGrd Functional Fireplaces GarageType GarageYrBlt\n",
      "GarageFinish GarageCars GarageArea GarageQual GarageCond\n",
      "WoodDeckSF OpenPorchSF EnclosedPorch 3SsnPorch ScreenPorch\n",
      "PoolArea MiscVal MoSold YrSold MSZoning_C (all)\n",
      "MSZoning_FV MSZoning_RH MSZoning_RL MSZoning_RM LotConfig_Corner\n",
      "LotConfig_CulDSac LotConfig_FR2 LotConfig_FR3 LotConfig_Inside BldgType_1Fam\n",
      "BldgType_2fmCon BldgType_Duplex BldgType_Twnhs BldgType_TwnhsE HouseStyle_1.5Fin\n",
      "HouseStyle_1.5Unf HouseStyle_1Story HouseStyle_2.5Fin HouseStyle_2.5Unf HouseStyle_2Story\n",
      "HouseStyle_SFoyer HouseStyle_SLvl RoofStyle_Flat RoofStyle_Gable RoofStyle_Hip\n",
      "RoofMatl_CompShg Foundation_BrkTil Foundation_CBlock Foundation_PConc Foundation_Slab\n",
      "Foundation_Wood Heating_GasA Heating_GasW Heating_Grav CentralAir_N\n",
      "CentralAir_Y PavedDrive_N PavedDrive_P PavedDrive_Y SaleType_COD\n",
      "SaleType_CWD SaleType_ConLD SaleType_ConLI SaleType_ConLw SaleType_New\n",
      "SaleType_Oth SaleType_WD SaleCondition_Abnorml SaleCondition_AdjLand SaleCondition_Family\n",
      "SaleCondition_Normal SaleCondition_Partial\n"
     ]
    }
   ],
   "source": [
    "model_xgb = XGBoost_model_simplest(title=\"Модель XGB для подбора признаков\")\n",
    "\n",
    "coef = model_xgb.feature_importances_ * 100\n",
    "\n",
    "table_coef = pd.DataFrame({\n",
    "    'Feature': X_train.columns.tolist(),\n",
    "    'Persentage importance': coef\n",
    "})\n",
    "\n",
    "feature_more_0001_per_imp = table_coef[table_coef[\"Persentage importance\"] > 0.001][\"Feature\"].tolist()\n",
    "\n",
    "best_feature_XGB = feature_more_0001_per_imp\n",
    "\n",
    "print_feature(feature = best_feature_XGB, title = \"Лучшие признаки для XGB:\")"
   ]
  },
  {
   "cell_type": "markdown",
   "id": "0df9e612",
   "metadata": {},
   "source": [
    "### Для KNN"
   ]
  },
  {
   "cell_type": "code",
   "execution_count": 51,
   "id": "9dc43814",
   "metadata": {},
   "outputs": [
    {
     "name": "stdout",
     "output_type": "stream",
     "text": [
      "Выбраны признаки: ['YearBuilt', 'GarageCars', 'KitchenQual', 'GrLivArea', 'TotalBsmtSF', 'BsmtQual', 'OverallQual', 'GarageArea']\n"
     ]
    }
   ],
   "source": [
    "#Выделим признаки пересечением тех признаков что имеют не нулевлй коэффициент у lasso\n",
    "pipe = Pipeline([\n",
    "    (\"scaler\", StandardScaler()),\n",
    "    (\"model\", Lasso(alpha=0.05))\n",
    "])\n",
    "\n",
    "pipe.fit(X_train, Y_train)\n",
    "\n",
    "coef = pipe.named_steps[\"model\"].coef_\n",
    "select_feature_lasso = X_train.columns[coef != 0]\n",
    "\n",
    "#И лучшие признаки отобранные с помощью SelectKBest\n",
    "pipe = Pipeline([\n",
    "    (\"scaler\", StandardScaler()),\n",
    "    (\"selector\", SelectKBest(score_func=mutual_info_regression, k=10))\n",
    "])\n",
    "\n",
    "pipe.fit(X_train, Y_train)\n",
    "\n",
    "coef = pipe.named_steps[\"selector\"].get_support()\n",
    "select_feature_SelKBest = X_train.columns[coef != 0]\n",
    "\n",
    "#Вот и пересечение признаков\n",
    "best_feature_KNN = list(set(select_feature_lasso).intersection(set(select_feature_SelKBest)))\n",
    "\n",
    "print(f\"Выбраны признаки: {best_feature_KNN}\")\n"
   ]
  },
  {
   "cell_type": "markdown",
   "id": "243fd168",
   "metadata": {},
   "source": [
    "# Создание и обучение основных моделей"
   ]
  },
  {
   "cell_type": "markdown",
   "id": "5fa1764a",
   "metadata": {},
   "source": [
    "### RF"
   ]
  },
  {
   "cell_type": "code",
   "execution_count": 52,
   "id": "88b0603b",
   "metadata": {},
   "outputs": [],
   "source": [
    "def general_RF(save_model = 0, title = \"\", selected_cols = X_train.columns):\n",
    "    start = time.time()\n",
    "\n",
    "    if title:\n",
    "        print(title)\n",
    "\n",
    "    param_grid_RF = {\n",
    "        'n_estimators': [40, 100, 300, 550, 1000],\n",
    "        'max_depth': [7, 9, 11],\n",
    "        'min_samples_split': [2, 3, 4, 6]\n",
    "    }\n",
    "\n",
    "    model_RF = RandomForestRegressor()\n",
    "\n",
    "    grid_search_RF = GridSearchCV(model_RF, param_grid = param_grid_RF, cv = 4, scoring = \"neg_root_mean_squared_error\", n_jobs = -1)\n",
    "\n",
    "    grid_search_RF.fit(X_train[selected_cols], Y_train) \n",
    "\n",
    "    best_param = grid_search_RF.best_params_\n",
    "\n",
    "    print(\"Best params:\", best_param)\n",
    "\n",
    "    model_RF = grid_search_RF.best_estimator_\n",
    "\n",
    "    rmse = RMSE(model_RF, select_col= selected_cols)\n",
    "\n",
    "    # save_model = 0 - модель не сохраняется\n",
    "    # save_model = 1 - модель сохраняется в любос случае\n",
    "    # save_model = 2 - модель сохраняется только если модель дает лучшие результаты\n",
    "    if save_model:\n",
    "        if save_model == 2: \n",
    "            try: #используем try если будет ошибка, например до этого не было сохраненной модели или были другие \n",
    "                #признаки в обучении, если срабатывает, то модель сохраняется, даже если не лучше\n",
    "                model_RF_ = joblib.load(\"model\\model_RF_general_file2\")\n",
    "                rmse_ = RMSE(model_RF_, select_col= selected_cols)\n",
    "                if rmse < rmse_:\n",
    "                    joblib.dump(model_RF, \"model\\model_RF_general_file2\")\n",
    "            except:\n",
    "                joblib.dump(model_RF, \"model\\model_RF_general_file2\")\n",
    "        else: # если подавалась единица \n",
    "            joblib.dump(model_RF, \"model\\model_RF_general_file2\")\n",
    "    \n",
    "    end = time.time()\n",
    "\n",
    "    print(f\"time: {end - start:.2f} sec\")\n",
    "\n",
    "    return model_RF\n",
    "\n"
   ]
  },
  {
   "cell_type": "code",
   "execution_count": 53,
   "id": "b3094ed7",
   "metadata": {},
   "outputs": [
    {
     "name": "stdout",
     "output_type": "stream",
     "text": [
      "general_model_RF\n",
      "Best params: {'max_depth': 11, 'min_samples_split': 4, 'n_estimators': 40}\n",
      "29346.126649774447\n",
      "time: 162.87 sec\n"
     ]
    }
   ],
   "source": [
    "model_RF = general_RF(save_model=2, title = \"general_model_RF\", selected_cols = best_feature_RF)"
   ]
  },
  {
   "cell_type": "code",
   "execution_count": 54,
   "id": "4522f91a",
   "metadata": {},
   "outputs": [],
   "source": [
    "def general_XGB(save_model=0, title=\"\", selected_cols=X_train.columns):\n",
    "    start = time.time()\n",
    "\n",
    "    if title:\n",
    "        print(title)\n",
    "\n",
    "    # Параметры для подбора\n",
    "    param_grid_XGB = {\n",
    "        'n_estimators': [100, 300],\n",
    "        'max_depth': [3, 5, 7],\n",
    "        'learning_rate': [0.01, 0.05, 0.1],\n",
    "        'subsample': [0.8, 1.0],\n",
    "        'colsample_bytree': [0.8, 1.0],\n",
    "        'gamma': [0, 1]\n",
    "    }\n",
    "\n",
    "    model_XGB = xgb.XGBRegressor(\n",
    "        objective='reg:squarederror',\n",
    "        n_jobs=-1,\n",
    "        verbosity=0,\n",
    "        random_state=42\n",
    "    )\n",
    "\n",
    "    grid_search_XGB = GridSearchCV(\n",
    "        model_XGB,\n",
    "        param_grid=param_grid_XGB,\n",
    "        cv=4,\n",
    "        scoring=\"neg_root_mean_squared_error\",\n",
    "        n_jobs=-1\n",
    "    )\n",
    "\n",
    "    grid_search_XGB.fit(X_val[selected_cols], Y_val)\n",
    "\n",
    "    best_param = grid_search_XGB.best_params_\n",
    "\n",
    "    print(\"Best params:\", best_param)\n",
    "\n",
    "\n",
    "    model_XGB = grid_search_XGB.best_estimator_\n",
    "\n",
    "    rmse = RMSE(model_XGB, select_col=selected_cols)\n",
    "\n",
    "    if save_model:\n",
    "        if save_model == 2:\n",
    "            try:\n",
    "                model_XGB_ = joblib.load(\"model/model_XGB_general_file2\")\n",
    "                rmse_ = RMSE(model_XGB_, select_col=selected_cols)\n",
    "                if rmse < rmse_:\n",
    "                    joblib.dump(model_XGB, \"model/model_XGB_general_file2\")\n",
    "            except:\n",
    "                joblib.dump(model_XGB, \"model/model_XGB_general_file2\")\n",
    "        else:\n",
    "            joblib.dump(model_XGB, \"model/model_XGB_general_file2\")\n",
    "\n",
    "    end = time.time()\n",
    "\n",
    "    print(f\"time: {end - start:.2f} sec\")\n",
    "\n",
    "    return model_XGB"
   ]
  },
  {
   "cell_type": "code",
   "execution_count": 55,
   "id": "a857d6b0",
   "metadata": {},
   "outputs": [
    {
     "name": "stdout",
     "output_type": "stream",
     "text": [
      "general model XGB\n",
      "Best params: {'colsample_bytree': 0.8, 'gamma': 0, 'learning_rate': 0.05, 'max_depth': 3, 'n_estimators': 300, 'subsample': 0.8}\n",
      "16195.274255747217\n",
      "time: 61.53 sec\n"
     ]
    }
   ],
   "source": [
    "model_XGB = general_XGB(save_model=2, title=\"general model XGB\", selected_cols= best_feature_XGB)"
   ]
  },
  {
   "cell_type": "code",
   "execution_count": 56,
   "id": "e3023ef1",
   "metadata": {},
   "outputs": [],
   "source": [
    "def general_KNN(save_model=0, title=\"\", selected_cols=X_train.columns):\n",
    "    start = time.time()\n",
    "\n",
    "    if title:\n",
    "        print(title)\n",
    "\n",
    "    param_grid_KNN = {\n",
    "        'n_neighbors': [3, 5, 7, 10],\n",
    "        'weights': ['uniform', 'distance'],\n",
    "        'p': [1, 2]\n",
    "    }\n",
    "\n",
    "    model_KNN = KNeighborsRegressor()\n",
    "\n",
    "    grid_search_KNN = GridSearchCV(\n",
    "        model_KNN,\n",
    "        param_grid=param_grid_KNN,\n",
    "        cv=4,\n",
    "        scoring=\"neg_root_mean_squared_error\",\n",
    "        n_jobs=-1\n",
    "    )\n",
    "\n",
    "    grid_search_KNN.fit(X_val[selected_cols], Y_val)\n",
    "\n",
    "    best_params = grid_search_KNN.best_params_\n",
    "    print(\"Best params:\", best_params)\n",
    "\n",
    "    model_KNN = grid_search_KNN.best_estimator_\n",
    "\n",
    "    rmse = RMSE(model = model_KNN, select_col= selected_cols)\n",
    "\n",
    "    if save_model:\n",
    "        if save_model == 2:\n",
    "            try:\n",
    "                model_KNN_ = joblib.load(\"model/model_KNN_general_file2\")\n",
    "                rmse_ = RMSE(model_KNN_, select_col=selected_cols)\n",
    "                if rmse < rmse_:\n",
    "                    joblib.dump(model_KNN, \"model/model_KNN_general_file2\")\n",
    "            except:\n",
    "                joblib.dump(model_KNN, \"model/model_KNN_general_file2\")\n",
    "        else:\n",
    "            joblib.dump(model_KNN, \"model/model_KNN_general_file2\")\n",
    "\n",
    "    end = time.time()\n",
    "    print(f\"time: {end - start:.2f} sec\")\n",
    "\n",
    "    return model_KNN\n"
   ]
  },
  {
   "cell_type": "code",
   "execution_count": 57,
   "id": "44fac4ca",
   "metadata": {},
   "outputs": [
    {
     "name": "stdout",
     "output_type": "stream",
     "text": [
      "general model KNN\n",
      "Best params: {'n_neighbors': 10, 'p': 1, 'weights': 'distance'}\n",
      "22294.731261459383\n",
      "time: 0.29 sec\n"
     ]
    }
   ],
   "source": [
    "model_KNN = general_KNN(save_model=2, title=\"general model KNN\", selected_cols= best_feature_KNN)"
   ]
  },
  {
   "cell_type": "markdown",
   "id": "3ceb74ef",
   "metadata": {},
   "source": [
    "# Создание окончательного предикта"
   ]
  },
  {
   "cell_type": "code",
   "execution_count": 65,
   "id": "26011f85",
   "metadata": {},
   "outputs": [],
   "source": [
    "def final_predict(data, model_KNN, model_RF, model_XGB, best_feature_KNN, best_feature_RF, best_feature_XGB):\n",
    "    predicted_XGB = np.expm1(model_XGB.predict(data[best_feature_XGB]))\n",
    "    predicted_RF = np.expm1(model_RF.predict(data[best_feature_RF]))\n",
    "    predicted_KNN = np.expm1(model_KNN.predict(data[best_feature_KNN]))\n",
    "\n",
    "    final_predict = predicted_XGB * 0.6 + predicted_RF * 0.3 + predicted_KNN * 0.1\n",
    "    \n",
    "    return final_predict"
   ]
  },
  {
   "cell_type": "code",
   "execution_count": 66,
   "id": "6090d6ca",
   "metadata": {},
   "outputs": [
    {
     "name": "stdout",
     "output_type": "stream",
     "text": [
      "17869.40220610184\n"
     ]
    }
   ],
   "source": [
    "final_pred = final_predict(X_test, model_KNN, model_RF, model_XGB, best_feature_KNN, best_feature_RF, best_feature_XGB)\n",
    "print(root_mean_squared_error(final_pred, Y_test))"
   ]
  },
  {
   "cell_type": "markdown",
   "id": "655c4d0d",
   "metadata": {},
   "source": [
    "# Сохранение результата"
   ]
  },
  {
   "cell_type": "code",
   "execution_count": 67,
   "id": "c9f769f5",
   "metadata": {},
   "outputs": [],
   "source": [
    "def save_predict(df, predict):\n",
    "    submission = pd.DataFrame({\n",
    "    \"Id\": df[\"Id\"],\n",
    "    \"SalePrice\": predict\n",
    "    })\n",
    "\n",
    "    timestamp = time.strftime(\"%Y%m%d_%H%M%S\")  # Формат: 20230411_153200\n",
    "    file_name = f\"submissions/submission_{timestamp}.csv\"\n",
    "\n",
    "    submission.to_csv(file_name, index=False)\n",
    "    print(f\"Файл сохранён как {file_name}\")"
   ]
  },
  {
   "cell_type": "markdown",
   "id": "be2ad765",
   "metadata": {},
   "source": [
    "# Теперь делаем для теста, сохраняем результаты"
   ]
  },
  {
   "cell_type": "code",
   "execution_count": 68,
   "id": "85373251",
   "metadata": {},
   "outputs": [
    {
     "name": "stdout",
     "output_type": "stream",
     "text": [
      "Файл сохранён как submissions/submission_20250411_174019.csv\n"
     ]
    }
   ],
   "source": [
    "final_predict = final_predict(feature_test, model_KNN, model_RF, model_XGB, best_feature_KNN, best_feature_RF, best_feature_XGB)\n",
    "save_predict(df_test, final_predict)"
   ]
  }
 ],
 "metadata": {
  "kernelspec": {
   "display_name": "Python 3",
   "language": "python",
   "name": "python3"
  },
  "language_info": {
   "codemirror_mode": {
    "name": "ipython",
    "version": 3
   },
   "file_extension": ".py",
   "mimetype": "text/x-python",
   "name": "python",
   "nbconvert_exporter": "python",
   "pygments_lexer": "ipython3",
   "version": "3.11.2"
  }
 },
 "nbformat": 4,
 "nbformat_minor": 5
}
