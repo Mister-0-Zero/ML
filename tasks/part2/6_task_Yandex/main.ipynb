{
 "cells": [
  {
   "cell_type": "code",
   "execution_count": 28,
   "id": "b9ad38cc",
   "metadata": {},
   "outputs": [],
   "source": [
    "from sklearn.model_selection import train_test_split\n",
    "import pandas as pd\n",
    "import seaborn as sns\n",
    "import matplotlib.pyplot as plt\n",
    "from sklearn.ensemble import RandomForestRegressor\n",
    "from sklearn.metrics import root_mean_squared_error, mean_absolute_error, r2_score\n",
    "import xgboost as xgb\n",
    "from sklearn.linear_model import LinearRegression\n",
    "from sklearn.model_selection import GridSearchCV\n",
    "import joblib"
   ]
  },
  {
   "cell_type": "code",
   "execution_count": 2,
   "id": "76004fae",
   "metadata": {},
   "outputs": [
    {
     "data": {
      "text/html": [
       "<div>\n",
       "<style scoped>\n",
       "    .dataframe tbody tr th:only-of-type {\n",
       "        vertical-align: middle;\n",
       "    }\n",
       "\n",
       "    .dataframe tbody tr th {\n",
       "        vertical-align: top;\n",
       "    }\n",
       "\n",
       "    .dataframe thead th {\n",
       "        text-align: right;\n",
       "    }\n",
       "</style>\n",
       "<table border=\"1\" class=\"dataframe\">\n",
       "  <thead>\n",
       "    <tr style=\"text-align: right;\">\n",
       "      <th></th>\n",
       "      <th>x_0</th>\n",
       "      <th>x_1</th>\n",
       "      <th>x_2</th>\n",
       "      <th>x_3</th>\n",
       "      <th>x_4</th>\n",
       "      <th>x_5</th>\n",
       "      <th>x_6</th>\n",
       "      <th>x_7</th>\n",
       "      <th>x_8</th>\n",
       "      <th>x_9</th>\n",
       "      <th>...</th>\n",
       "      <th>x_12</th>\n",
       "      <th>x_13</th>\n",
       "      <th>x_14</th>\n",
       "      <th>x_15</th>\n",
       "      <th>x_16</th>\n",
       "      <th>x_17</th>\n",
       "      <th>x_18</th>\n",
       "      <th>x_19</th>\n",
       "      <th>x_20</th>\n",
       "      <th>y</th>\n",
       "    </tr>\n",
       "  </thead>\n",
       "  <tbody>\n",
       "    <tr>\n",
       "      <th>0</th>\n",
       "      <td>-2.509198</td>\n",
       "      <td>9.014286</td>\n",
       "      <td>4.639879</td>\n",
       "      <td>1.973170</td>\n",
       "      <td>-6.879627</td>\n",
       "      <td>-6.880110</td>\n",
       "      <td>-8.838328</td>\n",
       "      <td>7.323523</td>\n",
       "      <td>2.022300</td>\n",
       "      <td>4.161452</td>\n",
       "      <td>...</td>\n",
       "      <td>6.648853</td>\n",
       "      <td>-5.753218</td>\n",
       "      <td>-6.363501</td>\n",
       "      <td>-6.331910</td>\n",
       "      <td>-3.915155</td>\n",
       "      <td>0.495129</td>\n",
       "      <td>-1.361100</td>\n",
       "      <td>-4.175417</td>\n",
       "      <td>2.237058</td>\n",
       "      <td>38.446314</td>\n",
       "    </tr>\n",
       "    <tr>\n",
       "      <th>1</th>\n",
       "      <td>-7.210123</td>\n",
       "      <td>-4.157107</td>\n",
       "      <td>-2.672763</td>\n",
       "      <td>-0.878600</td>\n",
       "      <td>5.703519</td>\n",
       "      <td>-6.006524</td>\n",
       "      <td>0.284689</td>\n",
       "      <td>1.848291</td>\n",
       "      <td>-9.070992</td>\n",
       "      <td>2.150897</td>\n",
       "      <td>...</td>\n",
       "      <td>8.977711</td>\n",
       "      <td>9.312641</td>\n",
       "      <td>6.167947</td>\n",
       "      <td>-3.907725</td>\n",
       "      <td>-8.046558</td>\n",
       "      <td>3.684661</td>\n",
       "      <td>-1.196950</td>\n",
       "      <td>-7.559235</td>\n",
       "      <td>-0.096462</td>\n",
       "      <td>12.794101</td>\n",
       "    </tr>\n",
       "    <tr>\n",
       "      <th>2</th>\n",
       "      <td>-9.312230</td>\n",
       "      <td>8.186408</td>\n",
       "      <td>-4.824400</td>\n",
       "      <td>3.250446</td>\n",
       "      <td>-3.765778</td>\n",
       "      <td>0.401360</td>\n",
       "      <td>0.934206</td>\n",
       "      <td>-6.302911</td>\n",
       "      <td>9.391693</td>\n",
       "      <td>5.502656</td>\n",
       "      <td>...</td>\n",
       "      <td>1.958000</td>\n",
       "      <td>8.437485</td>\n",
       "      <td>-8.230150</td>\n",
       "      <td>-6.080343</td>\n",
       "      <td>-9.095454</td>\n",
       "      <td>-3.493393</td>\n",
       "      <td>-2.226454</td>\n",
       "      <td>-4.573019</td>\n",
       "      <td>6.574750</td>\n",
       "      <td>31.741684</td>\n",
       "    </tr>\n",
       "    <tr>\n",
       "      <th>3</th>\n",
       "      <td>-2.864933</td>\n",
       "      <td>-4.381310</td>\n",
       "      <td>0.853922</td>\n",
       "      <td>-7.181516</td>\n",
       "      <td>6.043940</td>\n",
       "      <td>-8.508987</td>\n",
       "      <td>9.737739</td>\n",
       "      <td>5.444895</td>\n",
       "      <td>-6.025686</td>\n",
       "      <td>-9.889558</td>\n",
       "      <td>...</td>\n",
       "      <td>4.580143</td>\n",
       "      <td>5.425407</td>\n",
       "      <td>-8.519107</td>\n",
       "      <td>-2.830685</td>\n",
       "      <td>-7.682619</td>\n",
       "      <td>7.262069</td>\n",
       "      <td>2.465963</td>\n",
       "      <td>-3.382040</td>\n",
       "      <td>-8.728833</td>\n",
       "      <td>6.389571</td>\n",
       "    </tr>\n",
       "    <tr>\n",
       "      <th>4</th>\n",
       "      <td>-3.780354</td>\n",
       "      <td>-3.496334</td>\n",
       "      <td>4.592124</td>\n",
       "      <td>2.751149</td>\n",
       "      <td>7.744255</td>\n",
       "      <td>-0.555701</td>\n",
       "      <td>-7.608115</td>\n",
       "      <td>4.264896</td>\n",
       "      <td>5.215701</td>\n",
       "      <td>1.225544</td>\n",
       "      <td>...</td>\n",
       "      <td>0.454657</td>\n",
       "      <td>-1.449180</td>\n",
       "      <td>-9.491617</td>\n",
       "      <td>-7.842171</td>\n",
       "      <td>-9.371416</td>\n",
       "      <td>2.728208</td>\n",
       "      <td>-3.712880</td>\n",
       "      <td>0.171414</td>\n",
       "      <td>8.151329</td>\n",
       "      <td>16.003422</td>\n",
       "    </tr>\n",
       "  </tbody>\n",
       "</table>\n",
       "<p>5 rows × 22 columns</p>\n",
       "</div>"
      ],
      "text/plain": [
       "        x_0       x_1       x_2       x_3       x_4       x_5       x_6  \\\n",
       "0 -2.509198  9.014286  4.639879  1.973170 -6.879627 -6.880110 -8.838328   \n",
       "1 -7.210123 -4.157107 -2.672763 -0.878600  5.703519 -6.006524  0.284689   \n",
       "2 -9.312230  8.186408 -4.824400  3.250446 -3.765778  0.401360  0.934206   \n",
       "3 -2.864933 -4.381310  0.853922 -7.181516  6.043940 -8.508987  9.737739   \n",
       "4 -3.780354 -3.496334  4.592124  2.751149  7.744255 -0.555701 -7.608115   \n",
       "\n",
       "        x_7       x_8       x_9  ...      x_12      x_13      x_14      x_15  \\\n",
       "0  7.323523  2.022300  4.161452  ...  6.648853 -5.753218 -6.363501 -6.331910   \n",
       "1  1.848291 -9.070992  2.150897  ...  8.977711  9.312641  6.167947 -3.907725   \n",
       "2 -6.302911  9.391693  5.502656  ...  1.958000  8.437485 -8.230150 -6.080343   \n",
       "3  5.444895 -6.025686 -9.889558  ...  4.580143  5.425407 -8.519107 -2.830685   \n",
       "4  4.264896  5.215701  1.225544  ...  0.454657 -1.449180 -9.491617 -7.842171   \n",
       "\n",
       "       x_16      x_17      x_18      x_19      x_20          y  \n",
       "0 -3.915155  0.495129 -1.361100 -4.175417  2.237058  38.446314  \n",
       "1 -8.046558  3.684661 -1.196950 -7.559235 -0.096462  12.794101  \n",
       "2 -9.095454 -3.493393 -2.226454 -4.573019  6.574750  31.741684  \n",
       "3 -7.682619  7.262069  2.465963 -3.382040 -8.728833   6.389571  \n",
       "4 -9.371416  2.728208 -3.712880  0.171414  8.151329  16.003422  \n",
       "\n",
       "[5 rows x 22 columns]"
      ]
     },
     "execution_count": 2,
     "metadata": {},
     "output_type": "execute_result"
    }
   ],
   "source": [
    "df = pd.read_csv(r\"data\\train.csv\")\n",
    "df.head()"
   ]
  },
  {
   "cell_type": "code",
   "execution_count": 11,
   "id": "c1f03365",
   "metadata": {},
   "outputs": [
    {
     "data": {
      "text/plain": [
       "(10000, 22)"
      ]
     },
     "execution_count": 11,
     "metadata": {},
     "output_type": "execute_result"
    }
   ],
   "source": [
    "df.shape"
   ]
  },
  {
   "cell_type": "code",
   "execution_count": 4,
   "id": "0bfa6af1",
   "metadata": {},
   "outputs": [],
   "source": [
    "X = df.drop(columns = [\"y\",])\n",
    "Y = df[\"y\"]"
   ]
  },
  {
   "cell_type": "code",
   "execution_count": 8,
   "id": "ee38d4e8",
   "metadata": {},
   "outputs": [],
   "source": [
    "X_train, x_test, Y_train, y_test = train_test_split(X, Y, test_size=0.1, random_state=23)"
   ]
  },
  {
   "cell_type": "code",
   "execution_count": 29,
   "id": "3da765aa",
   "metadata": {},
   "outputs": [
    {
     "name": "stdout",
     "output_type": "stream",
     "text": [
      "Best params: {'max_depth': 5, 'min_samples_split': 4, 'n_estimators': 300}\n",
      "MAE: 14.72296739231603\n",
      "R2: 0.28208535244022437\n"
     ]
    },
    {
     "data": {
      "text/plain": [
       "['model\\\\modelRF']"
      ]
     },
     "execution_count": 29,
     "metadata": {},
     "output_type": "execute_result"
    }
   ],
   "source": [
    "param_grid_RF = {\n",
    "    'n_estimators': [40, 100, 300, 1000],\n",
    "    'max_depth': [3, 5],\n",
    "    'min_samples_split': [2, 4, 6]\n",
    "}\n",
    "\n",
    "model_RF = RandomForestRegressor()\n",
    "\n",
    "grid_search_RF = GridSearchCV(model_RF, param_grid = param_grid_RF, cv = 4, scoring = \"neg_mean_squared_error\", n_jobs = -1)\n",
    "\n",
    "grid_search_RF.fit(X_train, Y_train) \n",
    "\n",
    "best_param = grid_search_RF.best_params_\n",
    "\n",
    "print(\"Best params:\", best_param)\n",
    "\n",
    "modelRF = grid_search_RF.best_estimator_\n",
    "\n",
    "predictRF = modelRF.predict(x_test)\n",
    "\n",
    "MAE = mean_absolute_error(y_test, predictRF)\n",
    "R2 = r2_score(y_test, predictRF)\n",
    "\n",
    "print(f\"MAE: {MAE}\")\n",
    "print(f\"R2: {R2}\")\n",
    "\n",
    "joblib.dump(modelRF, \"model\\modelRF\")"
   ]
  },
  {
   "cell_type": "code",
   "execution_count": 32,
   "id": "090cae59",
   "metadata": {},
   "outputs": [
    {
     "name": "stdout",
     "output_type": "stream",
     "text": [
      "Best params: {'colsample_bytree': 1.0, 'gamma': 0, 'learning_rate': 0.1, 'max_depth': 5, 'n_estimators': 300, 'subsample': 0.8}\n",
      "MAE: 14.72296739231603\n",
      "R2: 0.28208535244022437\n"
     ]
    },
    {
     "data": {
      "text/plain": [
       "['model\\\\modelXGB']"
      ]
     },
     "execution_count": 32,
     "metadata": {},
     "output_type": "execute_result"
    }
   ],
   "source": [
    "param_grid_XGB = {\n",
    "    'n_estimators': [100, 300],\n",
    "    'max_depth': [3, 5, 7],\n",
    "    'learning_rate': [0.01, 0.05, 0.1],\n",
    "    'subsample': [0.8, 1.0],\n",
    "    'colsample_bytree': [0.8, 1.0],\n",
    "    'gamma': [0, 1]\n",
    "}\n",
    "\n",
    "model_XGB = xgb.XGBRegressor(\n",
    "    objective='reg:squarederror',\n",
    "    n_jobs=-1,\n",
    "    verbosity=0,\n",
    "    random_state=42\n",
    ")\n",
    "\n",
    "grid_search_XGB = GridSearchCV(\n",
    "    model_XGB,\n",
    "    param_grid=param_grid_XGB,\n",
    "    cv=4,\n",
    "    scoring=\"neg_mean_squared_error\",\n",
    "    n_jobs=-1\n",
    ")\n",
    "\n",
    "grid_search_XGB.fit(X_train, Y_train)\n",
    "\n",
    "best_param = grid_search_XGB.best_params_\n",
    "\n",
    "print(\"Best params:\", best_param)\n",
    "\n",
    "\n",
    "modelXGB = grid_search_XGB.best_estimator_\n",
    "\n",
    "predictXGB = modelRF.predict(x_test)\n",
    "\n",
    "MAE = mean_absolute_error(y_test, predictXGB)\n",
    "R2 = r2_score(y_test, predictXGB)\n",
    "\n",
    "print(f\"MAE: {MAE}\")\n",
    "print(f\"R2: {R2}\")\n",
    "\n",
    "joblib.dump(modelXGB, \"model\\modelXGB\")"
   ]
  },
  {
   "cell_type": "code",
   "execution_count": 36,
   "id": "61bd794b",
   "metadata": {},
   "outputs": [
    {
     "name": "stdout",
     "output_type": "stream",
     "text": [
      "MAE: 9.36001\n",
      "R2: 0.72040\n"
     ]
    }
   ],
   "source": [
    "predict1_train = modelRF.predict(X_train)\n",
    "predict2_train = modelXGB.predict(X_train)\n",
    "\n",
    "X_meta_train = pd.DataFrame({\n",
    "    \"predict1\": predict1_train,\n",
    "    \"predict2\": predict2_train\n",
    "})\n",
    "\n",
    "meta_model = LinearRegression()\n",
    "meta_model.fit(X_meta_train, Y_train)\n",
    "\n",
    "predict1_test = modelRF.predict(x_test)\n",
    "predict2_test = modelXGB.predict(x_test)\n",
    "\n",
    "X_meta_test = pd.DataFrame({\n",
    "    \"predict1\": predict1_test,\n",
    "    \"predict2\": predict2_test\n",
    "})\n",
    "\n",
    "y_pred = meta_model.predict(X_meta_test)\n",
    "\n",
    "MAE = mean_absolute_error(y_test, y_pred)\n",
    "R2 = r2_score(y_test, y_pred)\n",
    "\n",
    "print(f\"MAE: {MAE:.5f}\")\n",
    "print(f\"R2: {R2:.5f}\")"
   ]
  },
  {
   "cell_type": "code",
   "execution_count": null,
   "id": "191ff51c",
   "metadata": {},
   "outputs": [],
   "source": []
  },
  {
   "cell_type": "code",
   "execution_count": null,
   "id": "dd717c86",
   "metadata": {},
   "outputs": [],
   "source": []
  }
 ],
 "metadata": {
  "kernelspec": {
   "display_name": "Python 3",
   "language": "python",
   "name": "python3"
  },
  "language_info": {
   "codemirror_mode": {
    "name": "ipython",
    "version": 3
   },
   "file_extension": ".py",
   "mimetype": "text/x-python",
   "name": "python",
   "nbconvert_exporter": "python",
   "pygments_lexer": "ipython3",
   "version": "3.11.2"
  }
 },
 "nbformat": 4,
 "nbformat_minor": 5
}
