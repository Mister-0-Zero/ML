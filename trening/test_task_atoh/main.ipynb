{
 "cells": [
  {
   "cell_type": "code",
   "execution_count": 40,
   "id": "84273a97",
   "metadata": {},
   "outputs": [],
   "source": [
    "import pandas as pd\n",
    "import numpy as np\n",
    "from datetime import datetime, timedelta\n",
    "import matplotlib.pyplot as plt\n",
    "import seaborn as sns"
   ]
  },
  {
   "cell_type": "markdown",
   "id": "bbe7bdaf",
   "metadata": {},
   "source": [
    "## Чтение и знакомство с данными"
   ]
  },
  {
   "cell_type": "code",
   "execution_count": 2,
   "id": "d8be64d6",
   "metadata": {},
   "outputs": [
    {
     "data": {
      "text/html": [
       "<div>\n",
       "<style scoped>\n",
       "    .dataframe tbody tr th:only-of-type {\n",
       "        vertical-align: middle;\n",
       "    }\n",
       "\n",
       "    .dataframe tbody tr th {\n",
       "        vertical-align: top;\n",
       "    }\n",
       "\n",
       "    .dataframe thead th {\n",
       "        text-align: right;\n",
       "    }\n",
       "</style>\n",
       "<table border=\"1\" class=\"dataframe\">\n",
       "  <thead>\n",
       "    <tr style=\"text-align: right;\">\n",
       "      <th></th>\n",
       "      <th>transaction_id</th>\n",
       "      <th>client_id</th>\n",
       "      <th>transaction_date</th>\n",
       "      <th>service</th>\n",
       "      <th>amount</th>\n",
       "      <th>payment_method</th>\n",
       "      <th>city</th>\n",
       "      <th>consultant</th>\n",
       "    </tr>\n",
       "  </thead>\n",
       "  <tbody>\n",
       "    <tr>\n",
       "      <th>0</th>\n",
       "      <td>ff36597c-df41-44a0-9f46-6aa1fe615270</td>\n",
       "      <td>1ec5ab91-fdd0-4925-a221-f0c4e04fe0e7</td>\n",
       "      <td>2025-01-04 00:02:20</td>\n",
       "      <td>Структурирование капитала</td>\n",
       "      <td>55838.059789</td>\n",
       "      <td>Банковский перевод</td>\n",
       "      <td>North Patrickport</td>\n",
       "      <td>Cheryl Waller</td>\n",
       "    </tr>\n",
       "    <tr>\n",
       "      <th>1</th>\n",
       "      <td>0d5263ec-413d-44d9-a9d3-a996e3a56b05</td>\n",
       "      <td>c940f45c-d29b-439a-8fa3-f75018cef528</td>\n",
       "      <td>2025-03-10 17:16:50</td>\n",
       "      <td>Структурирование капитала</td>\n",
       "      <td>37514.809209</td>\n",
       "      <td>Неизвестно</td>\n",
       "      <td>New Zacharyport</td>\n",
       "      <td>Frank Pollard</td>\n",
       "    </tr>\n",
       "    <tr>\n",
       "      <th>2</th>\n",
       "      <td>5e9a8978-df1c-483f-a53b-16149c93f11e</td>\n",
       "      <td>cfa21d7e-8499-43d0-9dfb-f4a1b94ce44c</td>\n",
       "      <td>2025-02-13 19:43:49</td>\n",
       "      <td>Структурирование капитала</td>\n",
       "      <td>21022.146872</td>\n",
       "      <td>Неизвестно</td>\n",
       "      <td>Port Michellemouth</td>\n",
       "      <td>Alexandra Meyer</td>\n",
       "    </tr>\n",
       "    <tr>\n",
       "      <th>3</th>\n",
       "      <td>524031ea-56e2-410a-aee2-e8fc6ae3fbc5</td>\n",
       "      <td>NaN</td>\n",
       "      <td>2025-03-02 03:14:10</td>\n",
       "      <td>Финансовое планирование</td>\n",
       "      <td>2313.980219</td>\n",
       "      <td>Неизвестно</td>\n",
       "      <td>Erichaven</td>\n",
       "      <td>Patricia Haas</td>\n",
       "    </tr>\n",
       "    <tr>\n",
       "      <th>4</th>\n",
       "      <td>421aaf04-c97d-42ac-b35f-09a56bbaf910</td>\n",
       "      <td>3f43d7bc-37f0-4535-8391-51702d6ff81e</td>\n",
       "      <td>2025-03-18 21:00:36</td>\n",
       "      <td>Структурирование капитала</td>\n",
       "      <td>5636.586955</td>\n",
       "      <td>Неизвестно</td>\n",
       "      <td>Bondstad</td>\n",
       "      <td>Melissa Pena</td>\n",
       "    </tr>\n",
       "  </tbody>\n",
       "</table>\n",
       "</div>"
      ],
      "text/plain": [
       "                         transaction_id                             client_id  \\\n",
       "0  ff36597c-df41-44a0-9f46-6aa1fe615270  1ec5ab91-fdd0-4925-a221-f0c4e04fe0e7   \n",
       "1  0d5263ec-413d-44d9-a9d3-a996e3a56b05  c940f45c-d29b-439a-8fa3-f75018cef528   \n",
       "2  5e9a8978-df1c-483f-a53b-16149c93f11e  cfa21d7e-8499-43d0-9dfb-f4a1b94ce44c   \n",
       "3  524031ea-56e2-410a-aee2-e8fc6ae3fbc5                                   NaN   \n",
       "4  421aaf04-c97d-42ac-b35f-09a56bbaf910  3f43d7bc-37f0-4535-8391-51702d6ff81e   \n",
       "\n",
       "      transaction_date                    service        amount  \\\n",
       "0  2025-01-04 00:02:20  Структурирование капитала  55838.059789   \n",
       "1  2025-03-10 17:16:50  Структурирование капитала  37514.809209   \n",
       "2  2025-02-13 19:43:49  Структурирование капитала  21022.146872   \n",
       "3  2025-03-02 03:14:10    Финансовое планирование   2313.980219   \n",
       "4  2025-03-18 21:00:36  Структурирование капитала   5636.586955   \n",
       "\n",
       "       payment_method                city       consultant  \n",
       "0  Банковский перевод   North Patrickport    Cheryl Waller  \n",
       "1          Неизвестно     New Zacharyport    Frank Pollard  \n",
       "2          Неизвестно  Port Michellemouth  Alexandra Meyer  \n",
       "3          Неизвестно           Erichaven    Patricia Haas  \n",
       "4          Неизвестно            Bondstad     Melissa Pena  "
      ]
     },
     "execution_count": 2,
     "metadata": {},
     "output_type": "execute_result"
    }
   ],
   "source": [
    "df_trans = pd.read_excel(r\"data\\transactions_data.xlsx\")\n",
    "df_trans.head()"
   ]
  },
  {
   "cell_type": "code",
   "execution_count": 3,
   "id": "892e5c11",
   "metadata": {},
   "outputs": [
    {
     "data": {
      "text/html": [
       "<div>\n",
       "<style scoped>\n",
       "    .dataframe tbody tr th:only-of-type {\n",
       "        vertical-align: middle;\n",
       "    }\n",
       "\n",
       "    .dataframe tbody tr th {\n",
       "        vertical-align: top;\n",
       "    }\n",
       "\n",
       "    .dataframe thead th {\n",
       "        text-align: right;\n",
       "    }\n",
       "</style>\n",
       "<table border=\"1\" class=\"dataframe\">\n",
       "  <thead>\n",
       "    <tr style=\"text-align: right;\">\n",
       "      <th></th>\n",
       "      <th>id</th>\n",
       "      <th>age</th>\n",
       "      <th>gender</th>\n",
       "      <th>net_worth</th>\n",
       "    </tr>\n",
       "  </thead>\n",
       "  <tbody>\n",
       "    <tr>\n",
       "      <th>0</th>\n",
       "      <td>1ec5ab91-fdd0-4925-a221-f0c4e04fe0e7</td>\n",
       "      <td>41.0</td>\n",
       "      <td>Мужчина</td>\n",
       "      <td>2514729.46</td>\n",
       "    </tr>\n",
       "    <tr>\n",
       "      <th>1</th>\n",
       "      <td>c940f45c-d29b-439a-8fa3-f75018cef528</td>\n",
       "      <td>28.0</td>\n",
       "      <td>Мужчина</td>\n",
       "      <td>566568.29</td>\n",
       "    </tr>\n",
       "    <tr>\n",
       "      <th>2</th>\n",
       "      <td>cfa21d7e-8499-43d0-9dfb-f4a1b94ce44c</td>\n",
       "      <td>55.0</td>\n",
       "      <td>Женщина</td>\n",
       "      <td>1896001.28</td>\n",
       "    </tr>\n",
       "    <tr>\n",
       "      <th>3</th>\n",
       "      <td>None</td>\n",
       "      <td>38.0</td>\n",
       "      <td>Женщина</td>\n",
       "      <td>4538759.60</td>\n",
       "    </tr>\n",
       "    <tr>\n",
       "      <th>4</th>\n",
       "      <td>3f43d7bc-37f0-4535-8391-51702d6ff81e</td>\n",
       "      <td>31.0</td>\n",
       "      <td>Мужчина</td>\n",
       "      <td>4865849.92</td>\n",
       "    </tr>\n",
       "  </tbody>\n",
       "</table>\n",
       "</div>"
      ],
      "text/plain": [
       "                                     id   age   gender   net_worth\n",
       "0  1ec5ab91-fdd0-4925-a221-f0c4e04fe0e7  41.0  Мужчина  2514729.46\n",
       "1  c940f45c-d29b-439a-8fa3-f75018cef528  28.0  Мужчина   566568.29\n",
       "2  cfa21d7e-8499-43d0-9dfb-f4a1b94ce44c  55.0  Женщина  1896001.28\n",
       "3                                  None  38.0  Женщина  4538759.60\n",
       "4  3f43d7bc-37f0-4535-8391-51702d6ff81e  31.0  Мужчина  4865849.92"
      ]
     },
     "execution_count": 3,
     "metadata": {},
     "output_type": "execute_result"
    }
   ],
   "source": [
    "df_clients = pd.read_json(r\"data\\clients_data.json\")\n",
    "df_clients.head()"
   ]
  },
  {
   "cell_type": "markdown",
   "id": "afa63b0c",
   "metadata": {},
   "source": [
    "## Разберемся с данными из df_trans"
   ]
  },
  {
   "cell_type": "markdown",
   "id": "79d15d91",
   "metadata": {},
   "source": [
    "#### Обработка пропущенных значений"
   ]
  },
  {
   "cell_type": "code",
   "execution_count": 4,
   "id": "57958439",
   "metadata": {},
   "outputs": [
    {
     "name": "stdout",
     "output_type": "stream",
     "text": [
      "<class 'pandas.core.frame.DataFrame'>\n",
      "RangeIndex: 10000 entries, 0 to 9999\n",
      "Data columns (total 8 columns):\n",
      " #   Column            Non-Null Count  Dtype  \n",
      "---  ------            --------------  -----  \n",
      " 0   transaction_id    9526 non-null   object \n",
      " 1   client_id         9798 non-null   object \n",
      " 2   transaction_date  10000 non-null  object \n",
      " 3   service           10000 non-null  object \n",
      " 4   amount            9540 non-null   float64\n",
      " 5   payment_method    10000 non-null  object \n",
      " 6   city              10000 non-null  object \n",
      " 7   consultant        10000 non-null  object \n",
      "dtypes: float64(1), object(7)\n",
      "memory usage: 625.1+ KB\n"
     ]
    }
   ],
   "source": [
    "df_trans.info()"
   ]
  },
  {
   "cell_type": "code",
   "execution_count": 5,
   "id": "9475ae07",
   "metadata": {},
   "outputs": [
    {
     "data": {
      "text/plain": [
       "transaction_id      474\n",
       "client_id           202\n",
       "transaction_date      0\n",
       "service               0\n",
       "amount              460\n",
       "payment_method        0\n",
       "city                  0\n",
       "consultant            0\n",
       "dtype: int64"
      ]
     },
     "execution_count": 5,
     "metadata": {},
     "output_type": "execute_result"
    }
   ],
   "source": [
    "df_trans.isnull().sum()"
   ]
  },
  {
   "cell_type": "markdown",
   "id": "3197c351",
   "metadata": {},
   "source": [
    "transaction_id и client_id уникальные значения, которые должны выдаваться при создании транзакции и регистрации клиента соответственно, поэтому удалим строки с пропущенными значениями из DataFrame, а удаленные строки запишем в отдельные файлы, чтобы в последующем мы могли передать их на анализ отделам, занимающимися данными вопросами."
   ]
  },
  {
   "cell_type": "code",
   "execution_count": 6,
   "id": "1c411987",
   "metadata": {},
   "outputs": [],
   "source": [
    "df_trans_transId_null = df_trans[df_trans['transaction_id'].isna()]\n",
    "df_trans_transId_null.to_excel(\"data\\\\problem_data\\\\transaction_id_Null.xlsx\", index = False)"
   ]
  },
  {
   "cell_type": "code",
   "execution_count": 7,
   "id": "6ac2ffea",
   "metadata": {},
   "outputs": [],
   "source": [
    "df_trans_clientId_null = df_trans[df_trans['client_id'].isna()]\n",
    "df_trans_clientId_null.to_excel(\"data\\\\problem_data\\\\client_id_Null.xlsx\", index = False)"
   ]
  },
  {
   "cell_type": "code",
   "execution_count": 8,
   "id": "45a546cd",
   "metadata": {},
   "outputs": [
    {
     "data": {
      "text/plain": [
       "transaction_id        0\n",
       "client_id             0\n",
       "transaction_date      0\n",
       "service               0\n",
       "amount              426\n",
       "payment_method        0\n",
       "city                  0\n",
       "consultant            0\n",
       "dtype: int64"
      ]
     },
     "execution_count": 8,
     "metadata": {},
     "output_type": "execute_result"
    }
   ],
   "source": [
    "df_trans = df_trans.dropna(subset=[\"transaction_id\", \"client_id\"])\n",
    "df_trans.isnull().sum()"
   ]
  },
  {
   "cell_type": "markdown",
   "id": "6563e492",
   "metadata": {},
   "source": [
    "также присваивать в amount нельзя какие-то случайные значения, или 0 нельзя, поэтому удалим данные строки"
   ]
  },
  {
   "cell_type": "code",
   "execution_count": 9,
   "id": "cbd876af",
   "metadata": {},
   "outputs": [],
   "source": [
    "df_trans_amount_null = df_trans[df_trans['amount'].isna()]\n",
    "df_trans_amount_null.to_excel(\"data\\\\problem_data\\\\amount_Null.xlsx\", index = False)"
   ]
  },
  {
   "cell_type": "code",
   "execution_count": 10,
   "id": "1ffece63",
   "metadata": {},
   "outputs": [
    {
     "name": "stdout",
     "output_type": "stream",
     "text": [
      "Строк с NaN значениями в df_trans: 0\n"
     ]
    }
   ],
   "source": [
    "df_trans = df_trans.dropna(subset=['amount'])\n",
    "print(f\"Строк с NaN значениями в df_trans: {df_trans.isnull().sum().sum()}\")"
   ]
  },
  {
   "cell_type": "markdown",
   "id": "5083600a",
   "metadata": {},
   "source": [
    "#### Проверка данных на корректность и их обработка"
   ]
  },
  {
   "cell_type": "markdown",
   "id": "23cf5579",
   "metadata": {},
   "source": [
    "Начнем проверку на корректность данных, для начала сумму транзакции (должна быть больше 0)."
   ]
  },
  {
   "cell_type": "code",
   "execution_count": 11,
   "id": "8c510e97",
   "metadata": {},
   "outputs": [
    {
     "data": {
      "text/html": [
       "<div>\n",
       "<style scoped>\n",
       "    .dataframe tbody tr th:only-of-type {\n",
       "        vertical-align: middle;\n",
       "    }\n",
       "\n",
       "    .dataframe tbody tr th {\n",
       "        vertical-align: top;\n",
       "    }\n",
       "\n",
       "    .dataframe thead th {\n",
       "        text-align: right;\n",
       "    }\n",
       "</style>\n",
       "<table border=\"1\" class=\"dataframe\">\n",
       "  <thead>\n",
       "    <tr style=\"text-align: right;\">\n",
       "      <th></th>\n",
       "      <th>transaction_id</th>\n",
       "      <th>client_id</th>\n",
       "      <th>transaction_date</th>\n",
       "      <th>service</th>\n",
       "      <th>amount</th>\n",
       "      <th>payment_method</th>\n",
       "      <th>city</th>\n",
       "      <th>consultant</th>\n",
       "    </tr>\n",
       "  </thead>\n",
       "  <tbody>\n",
       "  </tbody>\n",
       "</table>\n",
       "</div>"
      ],
      "text/plain": [
       "Empty DataFrame\n",
       "Columns: [transaction_id, client_id, transaction_date, service, amount, payment_method, city, consultant]\n",
       "Index: []"
      ]
     },
     "execution_count": 11,
     "metadata": {},
     "output_type": "execute_result"
    }
   ],
   "source": [
    "df_trans[df_trans[\"amount\"] <= 0]"
   ]
  },
  {
   "cell_type": "markdown",
   "id": "38f969aa",
   "metadata": {},
   "source": [
    "***Данные сумм транзакций корректны***"
   ]
  },
  {
   "cell_type": "markdown",
   "id": "39147c5b",
   "metadata": {},
   "source": [
    "Переведем даты в тип datetime и проверим их на корректность"
   ]
  },
  {
   "cell_type": "code",
   "execution_count": 12,
   "id": "1654ac88",
   "metadata": {},
   "outputs": [
    {
     "data": {
      "text/html": [
       "<div>\n",
       "<style scoped>\n",
       "    .dataframe tbody tr th:only-of-type {\n",
       "        vertical-align: middle;\n",
       "    }\n",
       "\n",
       "    .dataframe tbody tr th {\n",
       "        vertical-align: top;\n",
       "    }\n",
       "\n",
       "    .dataframe thead th {\n",
       "        text-align: right;\n",
       "    }\n",
       "</style>\n",
       "<table border=\"1\" class=\"dataframe\">\n",
       "  <thead>\n",
       "    <tr style=\"text-align: right;\">\n",
       "      <th></th>\n",
       "      <th>transaction_id</th>\n",
       "      <th>client_id</th>\n",
       "      <th>transaction_date</th>\n",
       "      <th>service</th>\n",
       "      <th>amount</th>\n",
       "      <th>payment_method</th>\n",
       "      <th>city</th>\n",
       "      <th>consultant</th>\n",
       "    </tr>\n",
       "  </thead>\n",
       "  <tbody>\n",
       "  </tbody>\n",
       "</table>\n",
       "</div>"
      ],
      "text/plain": [
       "Empty DataFrame\n",
       "Columns: [transaction_id, client_id, transaction_date, service, amount, payment_method, city, consultant]\n",
       "Index: []"
      ]
     },
     "execution_count": 12,
     "metadata": {},
     "output_type": "execute_result"
    }
   ],
   "source": [
    "df_trans['transaction_date'] = pd.to_datetime(df_trans['transaction_date'], errors='coerce')\n",
    "df_data_error = df_trans[df_trans['transaction_date'] >= datetime.now()]\n",
    "df_trans = df_trans[df_trans['transaction_date'] < datetime.now()]\n",
    "\n",
    "df_data_error.head()"
   ]
  },
  {
   "cell_type": "markdown",
   "id": "7b22f93a",
   "metadata": {},
   "source": [
    "***Все данные с датами транзакций корректны***"
   ]
  },
  {
   "cell_type": "markdown",
   "id": "95ad058a",
   "metadata": {},
   "source": [
    "Проверим способы оплаты и тип оказанной финансовой услуги на корректность с логической точки зрения"
   ]
  },
  {
   "cell_type": "code",
   "execution_count": 13,
   "id": "e4029da9",
   "metadata": {},
   "outputs": [
    {
     "data": {
      "text/plain": [
       "array(['Банковский перевод', 'Неизвестно', 'Кредитная карта',\n",
       "       'Криптовалюта', 'Наличные'], dtype=object)"
      ]
     },
     "execution_count": 13,
     "metadata": {},
     "output_type": "execute_result"
    }
   ],
   "source": [
    "df_trans[\"payment_method\"].unique()"
   ]
  },
  {
   "cell_type": "code",
   "execution_count": 14,
   "id": "7836cb41",
   "metadata": {},
   "outputs": [
    {
     "data": {
      "text/plain": [
       "array(['Структурирование капитала', 'Инвестиционное консультирование',\n",
       "       'Неизвестная услуга', 'Налоговое планирование',\n",
       "       'Управление активами', 'Финансовое планирование'], dtype=object)"
      ]
     },
     "execution_count": 14,
     "metadata": {},
     "output_type": "execute_result"
    }
   ],
   "source": [
    "df_trans[\"service\"].unique()"
   ]
  },
  {
   "cell_type": "markdown",
   "id": "e39be43f",
   "metadata": {},
   "source": [
    "***Данные корректны***"
   ]
  },
  {
   "cell_type": "markdown",
   "id": "e022fd6e",
   "metadata": {},
   "source": [
    "## Разберемся с df_clients"
   ]
  },
  {
   "cell_type": "markdown",
   "id": "b52222a7",
   "metadata": {},
   "source": [
    "#### Обработка пропущенных значений"
   ]
  },
  {
   "cell_type": "code",
   "execution_count": 15,
   "id": "51f12409",
   "metadata": {},
   "outputs": [
    {
     "data": {
      "text/plain": [
       "id              1\n",
       "age           983\n",
       "gender       3319\n",
       "net_worth     475\n",
       "dtype: int64"
      ]
     },
     "execution_count": 15,
     "metadata": {},
     "output_type": "execute_result"
    }
   ],
   "source": [
    "df_clients.isnull().sum()"
   ]
  },
  {
   "cell_type": "markdown",
   "id": "12a1d9f2",
   "metadata": {},
   "source": [
    "Наиболее важно поле id для индификации клиента, удалим поле с пропущенным значением (либо можно было бы заполнить уникальным значением и хешировать)"
   ]
  },
  {
   "cell_type": "code",
   "execution_count": 16,
   "id": "beed7c67",
   "metadata": {},
   "outputs": [],
   "source": [
    "df_clients = df_clients.dropna(subset=[\"id\"])"
   ]
  },
  {
   "cell_type": "markdown",
   "id": "47c9042e",
   "metadata": {},
   "source": [
    "Остальные значения по-моему мнению могут быть Nan так как они не так важны"
   ]
  },
  {
   "cell_type": "markdown",
   "id": "3da61393",
   "metadata": {},
   "source": [
    "#### Проверка данных на корректность и их обработка"
   ]
  },
  {
   "cell_type": "markdown",
   "id": "8fadee85",
   "metadata": {},
   "source": [
    "##### Прверим возраст на корректность"
   ]
  },
  {
   "cell_type": "code",
   "execution_count": 17,
   "id": "a6e7b97f",
   "metadata": {},
   "outputs": [
    {
     "data": {
      "text/html": [
       "<div>\n",
       "<style scoped>\n",
       "    .dataframe tbody tr th:only-of-type {\n",
       "        vertical-align: middle;\n",
       "    }\n",
       "\n",
       "    .dataframe tbody tr th {\n",
       "        vertical-align: top;\n",
       "    }\n",
       "\n",
       "    .dataframe thead th {\n",
       "        text-align: right;\n",
       "    }\n",
       "</style>\n",
       "<table border=\"1\" class=\"dataframe\">\n",
       "  <thead>\n",
       "    <tr style=\"text-align: right;\">\n",
       "      <th></th>\n",
       "      <th>id</th>\n",
       "      <th>age</th>\n",
       "      <th>gender</th>\n",
       "      <th>net_worth</th>\n",
       "    </tr>\n",
       "  </thead>\n",
       "  <tbody>\n",
       "  </tbody>\n",
       "</table>\n",
       "</div>"
      ],
      "text/plain": [
       "Empty DataFrame\n",
       "Columns: [id, age, gender, net_worth]\n",
       "Index: []"
      ]
     },
     "execution_count": 17,
     "metadata": {},
     "output_type": "execute_result"
    }
   ],
   "source": [
    "df_clients[df_clients[\"age\"] <= 0]"
   ]
  },
  {
   "cell_type": "code",
   "execution_count": 18,
   "id": "9054f3c1",
   "metadata": {},
   "outputs": [
    {
     "data": {
      "text/html": [
       "<div>\n",
       "<style scoped>\n",
       "    .dataframe tbody tr th:only-of-type {\n",
       "        vertical-align: middle;\n",
       "    }\n",
       "\n",
       "    .dataframe tbody tr th {\n",
       "        vertical-align: top;\n",
       "    }\n",
       "\n",
       "    .dataframe thead th {\n",
       "        text-align: right;\n",
       "    }\n",
       "</style>\n",
       "<table border=\"1\" class=\"dataframe\">\n",
       "  <thead>\n",
       "    <tr style=\"text-align: right;\">\n",
       "      <th></th>\n",
       "      <th>id</th>\n",
       "      <th>age</th>\n",
       "      <th>gender</th>\n",
       "      <th>net_worth</th>\n",
       "    </tr>\n",
       "  </thead>\n",
       "  <tbody>\n",
       "  </tbody>\n",
       "</table>\n",
       "</div>"
      ],
      "text/plain": [
       "Empty DataFrame\n",
       "Columns: [id, age, gender, net_worth]\n",
       "Index: []"
      ]
     },
     "execution_count": 18,
     "metadata": {},
     "output_type": "execute_result"
    }
   ],
   "source": [
    "df_clients[df_clients[\"age\"] >= 100]"
   ]
  },
  {
   "cell_type": "markdown",
   "id": "ecc04f2a",
   "metadata": {},
   "source": [
    "***Возраст корректен***"
   ]
  },
  {
   "cell_type": "markdown",
   "id": "fb96900a",
   "metadata": {},
   "source": [
    "##### Проверим пол на корректность"
   ]
  },
  {
   "cell_type": "code",
   "execution_count": 19,
   "id": "40f4dbd3",
   "metadata": {},
   "outputs": [
    {
     "data": {
      "text/plain": [
       "array(['Мужчина', 'Женщина', None], dtype=object)"
      ]
     },
     "execution_count": 19,
     "metadata": {},
     "output_type": "execute_result"
    }
   ],
   "source": [
    "df_clients[\"gender\"].unique()"
   ]
  },
  {
   "cell_type": "markdown",
   "id": "d22b2752",
   "metadata": {},
   "source": [
    "***Пол корректен***"
   ]
  },
  {
   "cell_type": "markdown",
   "id": "62945df8",
   "metadata": {},
   "source": [
    "##### Чистая стоимость активов клиента"
   ]
  },
  {
   "cell_type": "code",
   "execution_count": 20,
   "id": "12c9a114",
   "metadata": {},
   "outputs": [
    {
     "data": {
      "text/html": [
       "<div>\n",
       "<style scoped>\n",
       "    .dataframe tbody tr th:only-of-type {\n",
       "        vertical-align: middle;\n",
       "    }\n",
       "\n",
       "    .dataframe tbody tr th {\n",
       "        vertical-align: top;\n",
       "    }\n",
       "\n",
       "    .dataframe thead th {\n",
       "        text-align: right;\n",
       "    }\n",
       "</style>\n",
       "<table border=\"1\" class=\"dataframe\">\n",
       "  <thead>\n",
       "    <tr style=\"text-align: right;\">\n",
       "      <th></th>\n",
       "      <th>id</th>\n",
       "      <th>age</th>\n",
       "      <th>gender</th>\n",
       "      <th>net_worth</th>\n",
       "    </tr>\n",
       "  </thead>\n",
       "  <tbody>\n",
       "  </tbody>\n",
       "</table>\n",
       "</div>"
      ],
      "text/plain": [
       "Empty DataFrame\n",
       "Columns: [id, age, gender, net_worth]\n",
       "Index: []"
      ]
     },
     "execution_count": 20,
     "metadata": {},
     "output_type": "execute_result"
    }
   ],
   "source": [
    "df_clients[df_clients[\"net_worth\"] < 0]"
   ]
  },
  {
   "cell_type": "markdown",
   "id": "f5961433",
   "metadata": {},
   "source": [
    "***корректно***"
   ]
  },
  {
   "cell_type": "markdown",
   "id": "23bd230a",
   "metadata": {},
   "source": [
    "## Решение задач"
   ]
  },
  {
   "cell_type": "markdown",
   "id": "4bd2ac21",
   "metadata": {},
   "source": [
    "#### 2. Анализ данных"
   ]
  },
  {
   "cell_type": "markdown",
   "id": "37ccedfb",
   "metadata": {},
   "source": [
    "##### Определить топ-5 наиболее популярных услуг по количеству заказов."
   ]
  },
  {
   "cell_type": "code",
   "execution_count": 21,
   "id": "eb0c7a5c",
   "metadata": {},
   "outputs": [
    {
     "name": "stdout",
     "output_type": "stream",
     "text": [
      "Топ 5 самых популярных услуг \n",
      "\n",
      "Услуга: Инвестиционное консультирование, Количество заказов: 1956\n",
      "Услуга: Управление активами, Количество заказов: 1606\n",
      "Услуга: Финансовое планирование, Количество заказов: 1242\n",
      "Услуга: Налоговое планирование, Количество заказов: 1218\n",
      "Услуга: Структурирование капитала, Количество заказов: 1196\n"
     ]
    }
   ],
   "source": [
    "top_services = df_trans['service'].value_counts().head(5)\n",
    "service_names = top_services.index.tolist()\n",
    "service_counts = top_services.values.tolist()\n",
    "top5_famous_service = dict()\n",
    "print(\"Топ 5 самых популярных услуг\", '\\n')\n",
    "for key, val in zip(service_names, service_counts):\n",
    "    top5_famous_service[key] = val\n",
    "    print(f\"Услуга: {key}, Количество заказов: {val}\")"
   ]
  },
  {
   "cell_type": "markdown",
   "id": "bd3fac61",
   "metadata": {},
   "source": [
    "##### Рассчитать среднюю сумму транзакций по каждому городу."
   ]
  },
  {
   "cell_type": "code",
   "execution_count": 22,
   "id": "121b963e",
   "metadata": {},
   "outputs": [
    {
     "data": {
      "text/plain": [
       "{'Неизвестный город': 15454021.164274579,\n",
       " 'Port Michellemouth': 9714997.880923014,\n",
       " 'New Tommyborough': 9054069.503499499,\n",
       " 'Kaneburgh': 9050556.916716697,\n",
       " 'Johnsonfort': 8835446.259065658}"
      ]
     },
     "execution_count": 22,
     "metadata": {},
     "output_type": "execute_result"
    }
   ],
   "source": [
    "df_trans.groupby(by=\"city\")[\"amount\"].sum().sort_values(ascending = False).head(5).to_dict()"
   ]
  },
  {
   "cell_type": "markdown",
   "id": "048a162f",
   "metadata": {},
   "source": [
    "Так как неизвестный город наверное не предполагался, то нужный нам ***Port Michellemouth*** с суммой транзакций около ***9714997.8***"
   ]
  },
  {
   "cell_type": "markdown",
   "id": "340dca57",
   "metadata": {},
   "source": [
    "##### Вычислить процент транзакций по способам оплаты (наличные, банковский перевод и т. д.). "
   ]
  },
  {
   "cell_type": "code",
   "execution_count": 23,
   "id": "e5b5c0e5",
   "metadata": {},
   "outputs": [
    {
     "name": "stdout",
     "output_type": "stream",
     "text": [
      "payment_method\n",
      "Кредитная карта       40.04\n",
      "Банковский перевод    34.59\n",
      "Неизвестно            10.15\n",
      "Наличные               9.96\n",
      "Криптовалюта           5.27\n",
      "Name: proportion, dtype: float64\n"
     ]
    }
   ],
   "source": [
    "payment_counts = df_trans['payment_method'].value_counts(normalize=True) * 100\n",
    "payment_counts = payment_counts.round(2)\n",
    "print(payment_counts)"
   ]
  },
  {
   "cell_type": "markdown",
   "id": "b6aef655",
   "metadata": {},
   "source": [
    "##### Рассчитать выручку за последний месяц (по сумме amount)"
   ]
  },
  {
   "cell_type": "code",
   "execution_count": 24,
   "id": "abd0bb71",
   "metadata": {},
   "outputs": [
    {
     "name": "stdout",
     "output_type": "stream",
     "text": [
      "Вырочка за последний месяц составила: 133623483.0\n"
     ]
    }
   ],
   "source": [
    "sum_trans_last_month = df_trans[df_trans[\"transaction_date\"] >= datetime.now() - timedelta(days=60)][\"amount\"].sum().round()\n",
    "print(f\"Вырочка за последний месяц составила: {sum_trans_last_month}\")"
   ]
  },
  {
   "cell_type": "markdown",
   "id": "91d52f04",
   "metadata": {},
   "source": [
    "#### 3. Объединение данных"
   ]
  },
  {
   "cell_type": "markdown",
   "id": "e886b79e",
   "metadata": {},
   "source": [
    "##### Объединить транзакции с клиентскими данными (по id). "
   ]
  },
  {
   "cell_type": "code",
   "execution_count": 25,
   "id": "7576e789",
   "metadata": {},
   "outputs": [
    {
     "data": {
      "text/html": [
       "<div>\n",
       "<style scoped>\n",
       "    .dataframe tbody tr th:only-of-type {\n",
       "        vertical-align: middle;\n",
       "    }\n",
       "\n",
       "    .dataframe tbody tr th {\n",
       "        vertical-align: top;\n",
       "    }\n",
       "\n",
       "    .dataframe thead th {\n",
       "        text-align: right;\n",
       "    }\n",
       "</style>\n",
       "<table border=\"1\" class=\"dataframe\">\n",
       "  <thead>\n",
       "    <tr style=\"text-align: right;\">\n",
       "      <th></th>\n",
       "      <th>transaction_id</th>\n",
       "      <th>client_id</th>\n",
       "      <th>transaction_date</th>\n",
       "      <th>service</th>\n",
       "      <th>amount</th>\n",
       "      <th>payment_method</th>\n",
       "      <th>city</th>\n",
       "      <th>consultant</th>\n",
       "      <th>id</th>\n",
       "      <th>age</th>\n",
       "      <th>gender</th>\n",
       "      <th>net_worth</th>\n",
       "    </tr>\n",
       "  </thead>\n",
       "  <tbody>\n",
       "    <tr>\n",
       "      <th>0</th>\n",
       "      <td>ff36597c-df41-44a0-9f46-6aa1fe615270</td>\n",
       "      <td>1ec5ab91-fdd0-4925-a221-f0c4e04fe0e7</td>\n",
       "      <td>2025-01-04 00:02:20</td>\n",
       "      <td>Структурирование капитала</td>\n",
       "      <td>55838.059789</td>\n",
       "      <td>Банковский перевод</td>\n",
       "      <td>North Patrickport</td>\n",
       "      <td>Cheryl Waller</td>\n",
       "      <td>1ec5ab91-fdd0-4925-a221-f0c4e04fe0e7</td>\n",
       "      <td>41.0</td>\n",
       "      <td>Мужчина</td>\n",
       "      <td>2514729.46</td>\n",
       "    </tr>\n",
       "    <tr>\n",
       "      <th>1</th>\n",
       "      <td>0d5263ec-413d-44d9-a9d3-a996e3a56b05</td>\n",
       "      <td>c940f45c-d29b-439a-8fa3-f75018cef528</td>\n",
       "      <td>2025-03-10 17:16:50</td>\n",
       "      <td>Структурирование капитала</td>\n",
       "      <td>37514.809209</td>\n",
       "      <td>Неизвестно</td>\n",
       "      <td>New Zacharyport</td>\n",
       "      <td>Frank Pollard</td>\n",
       "      <td>c940f45c-d29b-439a-8fa3-f75018cef528</td>\n",
       "      <td>28.0</td>\n",
       "      <td>Мужчина</td>\n",
       "      <td>566568.29</td>\n",
       "    </tr>\n",
       "    <tr>\n",
       "      <th>2</th>\n",
       "      <td>5e9a8978-df1c-483f-a53b-16149c93f11e</td>\n",
       "      <td>cfa21d7e-8499-43d0-9dfb-f4a1b94ce44c</td>\n",
       "      <td>2025-02-13 19:43:49</td>\n",
       "      <td>Структурирование капитала</td>\n",
       "      <td>21022.146872</td>\n",
       "      <td>Неизвестно</td>\n",
       "      <td>Port Michellemouth</td>\n",
       "      <td>Alexandra Meyer</td>\n",
       "      <td>cfa21d7e-8499-43d0-9dfb-f4a1b94ce44c</td>\n",
       "      <td>55.0</td>\n",
       "      <td>Женщина</td>\n",
       "      <td>1896001.28</td>\n",
       "    </tr>\n",
       "    <tr>\n",
       "      <th>3</th>\n",
       "      <td>421aaf04-c97d-42ac-b35f-09a56bbaf910</td>\n",
       "      <td>3f43d7bc-37f0-4535-8391-51702d6ff81e</td>\n",
       "      <td>2025-03-18 21:00:36</td>\n",
       "      <td>Структурирование капитала</td>\n",
       "      <td>5636.586955</td>\n",
       "      <td>Неизвестно</td>\n",
       "      <td>Bondstad</td>\n",
       "      <td>Melissa Pena</td>\n",
       "      <td>3f43d7bc-37f0-4535-8391-51702d6ff81e</td>\n",
       "      <td>31.0</td>\n",
       "      <td>Мужчина</td>\n",
       "      <td>4865849.92</td>\n",
       "    </tr>\n",
       "    <tr>\n",
       "      <th>4</th>\n",
       "      <td>822d5795-4f08-4a7a-9692-7f5863945bdf</td>\n",
       "      <td>900f7d6b-ee7f-49e6-ae9f-e5ea9e04ab4c</td>\n",
       "      <td>2025-02-21 21:50:30</td>\n",
       "      <td>Инвестиционное консультирование</td>\n",
       "      <td>85575.773285</td>\n",
       "      <td>Кредитная карта</td>\n",
       "      <td>West Jaymouth</td>\n",
       "      <td>Harold Gibson</td>\n",
       "      <td>900f7d6b-ee7f-49e6-ae9f-e5ea9e04ab4c</td>\n",
       "      <td>59.0</td>\n",
       "      <td>Женщина</td>\n",
       "      <td>3992281.84</td>\n",
       "    </tr>\n",
       "  </tbody>\n",
       "</table>\n",
       "</div>"
      ],
      "text/plain": [
       "                         transaction_id                             client_id  \\\n",
       "0  ff36597c-df41-44a0-9f46-6aa1fe615270  1ec5ab91-fdd0-4925-a221-f0c4e04fe0e7   \n",
       "1  0d5263ec-413d-44d9-a9d3-a996e3a56b05  c940f45c-d29b-439a-8fa3-f75018cef528   \n",
       "2  5e9a8978-df1c-483f-a53b-16149c93f11e  cfa21d7e-8499-43d0-9dfb-f4a1b94ce44c   \n",
       "3  421aaf04-c97d-42ac-b35f-09a56bbaf910  3f43d7bc-37f0-4535-8391-51702d6ff81e   \n",
       "4  822d5795-4f08-4a7a-9692-7f5863945bdf  900f7d6b-ee7f-49e6-ae9f-e5ea9e04ab4c   \n",
       "\n",
       "     transaction_date                          service        amount  \\\n",
       "0 2025-01-04 00:02:20        Структурирование капитала  55838.059789   \n",
       "1 2025-03-10 17:16:50        Структурирование капитала  37514.809209   \n",
       "2 2025-02-13 19:43:49        Структурирование капитала  21022.146872   \n",
       "3 2025-03-18 21:00:36        Структурирование капитала   5636.586955   \n",
       "4 2025-02-21 21:50:30  Инвестиционное консультирование  85575.773285   \n",
       "\n",
       "       payment_method                city       consultant  \\\n",
       "0  Банковский перевод   North Patrickport    Cheryl Waller   \n",
       "1          Неизвестно     New Zacharyport    Frank Pollard   \n",
       "2          Неизвестно  Port Michellemouth  Alexandra Meyer   \n",
       "3          Неизвестно            Bondstad     Melissa Pena   \n",
       "4     Кредитная карта       West Jaymouth    Harold Gibson   \n",
       "\n",
       "                                     id   age   gender   net_worth  \n",
       "0  1ec5ab91-fdd0-4925-a221-f0c4e04fe0e7  41.0  Мужчина  2514729.46  \n",
       "1  c940f45c-d29b-439a-8fa3-f75018cef528  28.0  Мужчина   566568.29  \n",
       "2  cfa21d7e-8499-43d0-9dfb-f4a1b94ce44c  55.0  Женщина  1896001.28  \n",
       "3  3f43d7bc-37f0-4535-8391-51702d6ff81e  31.0  Мужчина  4865849.92  \n",
       "4  900f7d6b-ee7f-49e6-ae9f-e5ea9e04ab4c  59.0  Женщина  3992281.84  "
      ]
     },
     "execution_count": 25,
     "metadata": {},
     "output_type": "execute_result"
    }
   ],
   "source": [
    "df_merged = pd.merge(df_trans, df_clients, left_on='client_id', right_on = 'id', how='left')\n",
    "df_merged.head()"
   ]
  },
  {
   "cell_type": "markdown",
   "id": "a2a4b2a2",
   "metadata": {},
   "source": [
    "##### Создать новую колонку с уровнями активов. "
   ]
  },
  {
   "cell_type": "code",
   "execution_count": 28,
   "id": "91fd7d4a",
   "metadata": {},
   "outputs": [
    {
     "data": {
      "text/html": [
       "<div>\n",
       "<style scoped>\n",
       "    .dataframe tbody tr th:only-of-type {\n",
       "        vertical-align: middle;\n",
       "    }\n",
       "\n",
       "    .dataframe tbody tr th {\n",
       "        vertical-align: top;\n",
       "    }\n",
       "\n",
       "    .dataframe thead th {\n",
       "        text-align: right;\n",
       "    }\n",
       "</style>\n",
       "<table border=\"1\" class=\"dataframe\">\n",
       "  <thead>\n",
       "    <tr style=\"text-align: right;\">\n",
       "      <th></th>\n",
       "      <th>transaction_id</th>\n",
       "      <th>client_id</th>\n",
       "      <th>transaction_date</th>\n",
       "      <th>service</th>\n",
       "      <th>amount</th>\n",
       "      <th>payment_method</th>\n",
       "      <th>city</th>\n",
       "      <th>consultant</th>\n",
       "      <th>id</th>\n",
       "      <th>age</th>\n",
       "      <th>gender</th>\n",
       "      <th>net_worth</th>\n",
       "      <th>asset_level</th>\n",
       "    </tr>\n",
       "  </thead>\n",
       "  <tbody>\n",
       "    <tr>\n",
       "      <th>0</th>\n",
       "      <td>ff36597c-df41-44a0-9f46-6aa1fe615270</td>\n",
       "      <td>1ec5ab91-fdd0-4925-a221-f0c4e04fe0e7</td>\n",
       "      <td>2025-01-04 00:02:20</td>\n",
       "      <td>Структурирование капитала</td>\n",
       "      <td>55838.059789</td>\n",
       "      <td>Банковский перевод</td>\n",
       "      <td>North Patrickport</td>\n",
       "      <td>Cheryl Waller</td>\n",
       "      <td>1ec5ab91-fdd0-4925-a221-f0c4e04fe0e7</td>\n",
       "      <td>41.0</td>\n",
       "      <td>Мужчина</td>\n",
       "      <td>2514729.46</td>\n",
       "      <td>Высокий капитал</td>\n",
       "    </tr>\n",
       "    <tr>\n",
       "      <th>1</th>\n",
       "      <td>0d5263ec-413d-44d9-a9d3-a996e3a56b05</td>\n",
       "      <td>c940f45c-d29b-439a-8fa3-f75018cef528</td>\n",
       "      <td>2025-03-10 17:16:50</td>\n",
       "      <td>Структурирование капитала</td>\n",
       "      <td>37514.809209</td>\n",
       "      <td>Неизвестно</td>\n",
       "      <td>New Zacharyport</td>\n",
       "      <td>Frank Pollard</td>\n",
       "      <td>c940f45c-d29b-439a-8fa3-f75018cef528</td>\n",
       "      <td>28.0</td>\n",
       "      <td>Мужчина</td>\n",
       "      <td>566568.29</td>\n",
       "      <td>Средний капитал</td>\n",
       "    </tr>\n",
       "    <tr>\n",
       "      <th>2</th>\n",
       "      <td>5e9a8978-df1c-483f-a53b-16149c93f11e</td>\n",
       "      <td>cfa21d7e-8499-43d0-9dfb-f4a1b94ce44c</td>\n",
       "      <td>2025-02-13 19:43:49</td>\n",
       "      <td>Структурирование капитала</td>\n",
       "      <td>21022.146872</td>\n",
       "      <td>Неизвестно</td>\n",
       "      <td>Port Michellemouth</td>\n",
       "      <td>Alexandra Meyer</td>\n",
       "      <td>cfa21d7e-8499-43d0-9dfb-f4a1b94ce44c</td>\n",
       "      <td>55.0</td>\n",
       "      <td>Женщина</td>\n",
       "      <td>1896001.28</td>\n",
       "      <td>Высокий капитал</td>\n",
       "    </tr>\n",
       "    <tr>\n",
       "      <th>3</th>\n",
       "      <td>421aaf04-c97d-42ac-b35f-09a56bbaf910</td>\n",
       "      <td>3f43d7bc-37f0-4535-8391-51702d6ff81e</td>\n",
       "      <td>2025-03-18 21:00:36</td>\n",
       "      <td>Структурирование капитала</td>\n",
       "      <td>5636.586955</td>\n",
       "      <td>Неизвестно</td>\n",
       "      <td>Bondstad</td>\n",
       "      <td>Melissa Pena</td>\n",
       "      <td>3f43d7bc-37f0-4535-8391-51702d6ff81e</td>\n",
       "      <td>31.0</td>\n",
       "      <td>Мужчина</td>\n",
       "      <td>4865849.92</td>\n",
       "      <td>Высокий капитал</td>\n",
       "    </tr>\n",
       "    <tr>\n",
       "      <th>4</th>\n",
       "      <td>822d5795-4f08-4a7a-9692-7f5863945bdf</td>\n",
       "      <td>900f7d6b-ee7f-49e6-ae9f-e5ea9e04ab4c</td>\n",
       "      <td>2025-02-21 21:50:30</td>\n",
       "      <td>Инвестиционное консультирование</td>\n",
       "      <td>85575.773285</td>\n",
       "      <td>Кредитная карта</td>\n",
       "      <td>West Jaymouth</td>\n",
       "      <td>Harold Gibson</td>\n",
       "      <td>900f7d6b-ee7f-49e6-ae9f-e5ea9e04ab4c</td>\n",
       "      <td>59.0</td>\n",
       "      <td>Женщина</td>\n",
       "      <td>3992281.84</td>\n",
       "      <td>Высокий капитал</td>\n",
       "    </tr>\n",
       "  </tbody>\n",
       "</table>\n",
       "</div>"
      ],
      "text/plain": [
       "                         transaction_id                             client_id  \\\n",
       "0  ff36597c-df41-44a0-9f46-6aa1fe615270  1ec5ab91-fdd0-4925-a221-f0c4e04fe0e7   \n",
       "1  0d5263ec-413d-44d9-a9d3-a996e3a56b05  c940f45c-d29b-439a-8fa3-f75018cef528   \n",
       "2  5e9a8978-df1c-483f-a53b-16149c93f11e  cfa21d7e-8499-43d0-9dfb-f4a1b94ce44c   \n",
       "3  421aaf04-c97d-42ac-b35f-09a56bbaf910  3f43d7bc-37f0-4535-8391-51702d6ff81e   \n",
       "4  822d5795-4f08-4a7a-9692-7f5863945bdf  900f7d6b-ee7f-49e6-ae9f-e5ea9e04ab4c   \n",
       "\n",
       "     transaction_date                          service        amount  \\\n",
       "0 2025-01-04 00:02:20        Структурирование капитала  55838.059789   \n",
       "1 2025-03-10 17:16:50        Структурирование капитала  37514.809209   \n",
       "2 2025-02-13 19:43:49        Структурирование капитала  21022.146872   \n",
       "3 2025-03-18 21:00:36        Структурирование капитала   5636.586955   \n",
       "4 2025-02-21 21:50:30  Инвестиционное консультирование  85575.773285   \n",
       "\n",
       "       payment_method                city       consultant  \\\n",
       "0  Банковский перевод   North Patrickport    Cheryl Waller   \n",
       "1          Неизвестно     New Zacharyport    Frank Pollard   \n",
       "2          Неизвестно  Port Michellemouth  Alexandra Meyer   \n",
       "3          Неизвестно            Bondstad     Melissa Pena   \n",
       "4     Кредитная карта       West Jaymouth    Harold Gibson   \n",
       "\n",
       "                                     id   age   gender   net_worth  \\\n",
       "0  1ec5ab91-fdd0-4925-a221-f0c4e04fe0e7  41.0  Мужчина  2514729.46   \n",
       "1  c940f45c-d29b-439a-8fa3-f75018cef528  28.0  Мужчина   566568.29   \n",
       "2  cfa21d7e-8499-43d0-9dfb-f4a1b94ce44c  55.0  Женщина  1896001.28   \n",
       "3  3f43d7bc-37f0-4535-8391-51702d6ff81e  31.0  Мужчина  4865849.92   \n",
       "4  900f7d6b-ee7f-49e6-ae9f-e5ea9e04ab4c  59.0  Женщина  3992281.84   \n",
       "\n",
       "       asset_level  \n",
       "0  Высокий капитал  \n",
       "1  Средний капитал  \n",
       "2  Высокий капитал  \n",
       "3  Высокий капитал  \n",
       "4  Высокий капитал  "
      ]
     },
     "execution_count": 28,
     "metadata": {},
     "output_type": "execute_result"
    }
   ],
   "source": [
    "def asset_level_f(val):\n",
    "    if val < 10**5:\n",
    "        return \"Низкий капитал\"\n",
    "    elif val < 10 ** 6:\n",
    "        return \"Средний капитал\"\n",
    "    else:\n",
    "        return \"Высокий капитал\"\n",
    "\n",
    "df_merged[\"asset_level\"] = df_merged[\"net_worth\"].apply(asset_level_f)\n",
    "df_merged.head()"
   ]
  },
  {
   "cell_type": "markdown",
   "id": "2dddaf44",
   "metadata": {},
   "source": [
    "##### Провести анализ по уровням активов и определить, какие категории клиентов приносят наибольшую выручку. "
   ]
  },
  {
   "cell_type": "code",
   "execution_count": 39,
   "id": "62f8b00d",
   "metadata": {},
   "outputs": [
    {
     "name": "stdout",
     "output_type": "stream",
     "text": [
      "{'Низкий капитал': 6813887, 'Средний капитал': 65392167, 'Высокий капитал': 326350355}\n",
      "{'Низкий капитал': '1.7%', 'Средний капитал': '16.4%', 'Высокий капитал': '81.9%'}\n"
     ]
    }
   ],
   "source": [
    "dict_amount_assetL_float = df_merged.groupby(\"asset_level\")[\"amount\"].sum().sort_values().to_dict()\n",
    "dict_amount_assetL_int = {key: round(val) for key, val in dict_amount_assetL_float.items()}\n",
    "sum_amount = sum(dict_amount_assetL_int.values())\n",
    "dict_amount_assetL_normalize = {key: f\"{round(val / sum_amount * 100, 1)}%\" for key, val in dict_amount_assetL_int.items()}\n",
    "print(dict_amount_assetL_int)\n",
    "print(dict_amount_assetL_normalize)"
   ]
  },
  {
   "cell_type": "markdown",
   "id": "5e42ffd1",
   "metadata": {},
   "source": [
    "Как мы видим, наибольшую выручку приносят клиенты с высоким капиталом (почти 82%), примерно в 5 раз меньше клиенты со средним капиталом (16.4%) и всего 1.7% клиенты с низким капиталом"
   ]
  },
  {
   "cell_type": "markdown",
   "id": "8f638374",
   "metadata": {},
   "source": [
    "#### 4. Визуализация"
   ]
  },
  {
   "cell_type": "markdown",
   "id": "25b6cd8f",
   "metadata": {},
   "source": [
    "##### Построить распределение сумм транзакций."
   ]
  },
  {
   "cell_type": "code",
   "execution_count": 63,
   "id": "c645eb4d",
   "metadata": {},
   "outputs": [
    {
     "data": {
      "image/png": "[encoded data removed]",
      "text/plain": [
       "<Figure size 800x500 with 1 Axes>"
      ]
     },
     "metadata": {},
     "output_type": "display_data"
    }
   ],
   "source": [
    "plt.figure(figsize= (8, 5))\n",
    "sns.histplot(data = df_merged[\"amount\"], bins = 100, kde=True, color = \"purple\", )\n",
    "plt.ylabel(\"Количество\")\n",
    "plt.xlabel(\"Сумма транзакций\")\n",
    "plt.title(\"Распределение сумм транзакций\")\n",
    "plt.tight_layout()\n",
    "plt.show()"
   ]
  },
  {
   "cell_type": "markdown",
   "id": "4ad90c68",
   "metadata": {},
   "source": [
    "##### Создать диаграмму выручки по услугам."
   ]
  },
  {
   "cell_type": "code",
   "execution_count": 64,
   "id": "db5a0ad9",
   "metadata": {},
   "outputs": [
    {
     "data": {
      "image/png": "[encoded data removed]",
      "text/plain": [
       "<Figure size 800x500 with 1 Axes>"
      ]
     },
     "metadata": {},
     "output_type": "display_data"
    }
   ],
   "source": [
    "data_amount_service = df_merged.groupby('service')['amount'].sum().sort_values(ascending=False)\n",
    "\n",
    "plt.figure(figsize=(8, 5))\n",
    "data_amount_service.plot(kind='bar', color='purple')\n",
    "plt.title('Выручка по услугам')\n",
    "plt.xlabel('Услуга')\n",
    "plt.ylabel('Суммарная выручка')\n",
    "plt.xticks(rotation=45, ha='right')\n",
    "plt.grid(axis='y')\n",
    "plt.tight_layout()\n",
    "plt.show()\n"
   ]
  },
  {
   "cell_type": "markdown",
   "id": "a8842b2a",
   "metadata": {},
   "source": [
    "##### Построить график зависимости средней суммы транзакции от возраста клиентов."
   ]
  },
  {
   "cell_type": "code",
   "execution_count": 84,
   "id": "b9b98f12",
   "metadata": {},
   "outputs": [
    {
     "data": {
      "image/png": "[encoded data removed]",
      "text/plain": [
       "<Figure size 800x500 with 1 Axes>"
      ]
     },
     "metadata": {},
     "output_type": "display_data"
    }
   ],
   "source": [
    "data_amount_age = df_merged.groupby(\"age\")[\"amount\"].mean()\n",
    "\n",
    "plt.figure(figsize=(8, 5))\n",
    "sns.lineplot(x=data_amount_age.index, y=data_amount_age, marker='o', color='coral')\n",
    "plt.title('Зависимость средней суммы транзакции от возраста')\n",
    "plt.xlabel('Возраст')\n",
    "plt.ylabel('Средняя сумма')\n",
    "plt.grid(True)\n",
    "plt.tight_layout()\n",
    "plt.show()\n"
   ]
  },
  {
   "cell_type": "markdown",
   "id": "f143a312",
   "metadata": {},
   "source": [
    "#### 5. Прогнозирование."
   ]
  },
  {
   "cell_type": "markdown",
   "id": "3e62f4fb",
   "metadata": {},
   "source": [
    "Импорт библиотек"
   ]
  },
  {
   "cell_type": "code",
   "execution_count": null,
   "id": "a076a23e",
   "metadata": {},
   "outputs": [],
   "source": [
    "import xgboost\n",
    "from sklearn.model_selection import train_test_split\n",
    "from sklearn.linear_model import LassoCV\n",
    "from sklearn.preprocessing import StandardScaler\n",
    "from sklearn.pipeline import make_pipeline\n",
    "from sklearn.metrics import root_mean_squared_error"
   ]
  }
 ],
 "metadata": {
  "kernelspec": {
   "display_name": "Python 3",
   "language": "python",
   "name": "python3"
  },
  "language_info": {
   "codemirror_mode": {
    "name": "ipython",
    "version": 3
   },
   "file_extension": ".py",
   "mimetype": "text/x-python",
   "name": "python",
   "nbconvert_exporter": "python",
   "pygments_lexer": "ipython3",
   "version": "3.11.2"
  }
 },
 "nbformat": 4,
 "nbformat_minor": 5
}
