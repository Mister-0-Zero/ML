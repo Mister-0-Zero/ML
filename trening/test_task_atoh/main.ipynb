{
 "cells": [
  {
   "cell_type": "code",
   "execution_count": 1,
   "id": "84273a97",
   "metadata": {},
   "outputs": [],
   "source": [
    "import pandas as pd\n",
    "import numpy as np\n",
    "from datetime import datetime, timedelta\n",
    "import matplotlib.pyplot as plt\n",
    "import seaborn as sns"
   ]
  },
  {
   "cell_type": "markdown",
   "id": "bbe7bdaf",
   "metadata": {},
   "source": [
    "## Чтение и знакомство с данными"
   ]
  },
  {
   "cell_type": "code",
   "execution_count": 2,
   "id": "d8be64d6",
   "metadata": {},
   "outputs": [
    {
     "data": {
      "text/html": [
       "<div>\n",
       "<style scoped>\n",
       "    .dataframe tbody tr th:only-of-type {\n",
       "        vertical-align: middle;\n",
       "    }\n",
       "\n",
       "    .dataframe tbody tr th {\n",
       "        vertical-align: top;\n",
       "    }\n",
       "\n",
       "    .dataframe thead th {\n",
       "        text-align: right;\n",
       "    }\n",
       "</style>\n",
       "<table border=\"1\" class=\"dataframe\">\n",
       "  <thead>\n",
       "    <tr style=\"text-align: right;\">\n",
       "      <th></th>\n",
       "      <th>transaction_id</th>\n",
       "      <th>client_id</th>\n",
       "      <th>transaction_date</th>\n",
       "      <th>service</th>\n",
       "      <th>amount</th>\n",
       "      <th>payment_method</th>\n",
       "      <th>city</th>\n",
       "      <th>consultant</th>\n",
       "    </tr>\n",
       "  </thead>\n",
       "  <tbody>\n",
       "    <tr>\n",
       "      <th>0</th>\n",
       "      <td>ff36597c-df41-44a0-9f46-6aa1fe615270</td>\n",
       "      <td>1ec5ab91-fdd0-4925-a221-f0c4e04fe0e7</td>\n",
       "      <td>2025-01-04 00:02:20</td>\n",
       "      <td>Структурирование капитала</td>\n",
       "      <td>55838.059789</td>\n",
       "      <td>Банковский перевод</td>\n",
       "      <td>North Patrickport</td>\n",
       "      <td>Cheryl Waller</td>\n",
       "    </tr>\n",
       "    <tr>\n",
       "      <th>1</th>\n",
       "      <td>0d5263ec-413d-44d9-a9d3-a996e3a56b05</td>\n",
       "      <td>c940f45c-d29b-439a-8fa3-f75018cef528</td>\n",
       "      <td>2025-03-10 17:16:50</td>\n",
       "      <td>Структурирование капитала</td>\n",
       "      <td>37514.809209</td>\n",
       "      <td>Неизвестно</td>\n",
       "      <td>New Zacharyport</td>\n",
       "      <td>Frank Pollard</td>\n",
       "    </tr>\n",
       "    <tr>\n",
       "      <th>2</th>\n",
       "      <td>5e9a8978-df1c-483f-a53b-16149c93f11e</td>\n",
       "      <td>cfa21d7e-8499-43d0-9dfb-f4a1b94ce44c</td>\n",
       "      <td>2025-02-13 19:43:49</td>\n",
       "      <td>Структурирование капитала</td>\n",
       "      <td>21022.146872</td>\n",
       "      <td>Неизвестно</td>\n",
       "      <td>Port Michellemouth</td>\n",
       "      <td>Alexandra Meyer</td>\n",
       "    </tr>\n",
       "    <tr>\n",
       "      <th>3</th>\n",
       "      <td>524031ea-56e2-410a-aee2-e8fc6ae3fbc5</td>\n",
       "      <td>NaN</td>\n",
       "      <td>2025-03-02 03:14:10</td>\n",
       "      <td>Финансовое планирование</td>\n",
       "      <td>2313.980219</td>\n",
       "      <td>Неизвестно</td>\n",
       "      <td>Erichaven</td>\n",
       "      <td>Patricia Haas</td>\n",
       "    </tr>\n",
       "    <tr>\n",
       "      <th>4</th>\n",
       "      <td>421aaf04-c97d-42ac-b35f-09a56bbaf910</td>\n",
       "      <td>3f43d7bc-37f0-4535-8391-51702d6ff81e</td>\n",
       "      <td>2025-03-18 21:00:36</td>\n",
       "      <td>Структурирование капитала</td>\n",
       "      <td>5636.586955</td>\n",
       "      <td>Неизвестно</td>\n",
       "      <td>Bondstad</td>\n",
       "      <td>Melissa Pena</td>\n",
       "    </tr>\n",
       "  </tbody>\n",
       "</table>\n",
       "</div>"
      ],
      "text/plain": [
       "                         transaction_id                             client_id  \\\n",
       "0  ff36597c-df41-44a0-9f46-6aa1fe615270  1ec5ab91-fdd0-4925-a221-f0c4e04fe0e7   \n",
       "1  0d5263ec-413d-44d9-a9d3-a996e3a56b05  c940f45c-d29b-439a-8fa3-f75018cef528   \n",
       "2  5e9a8978-df1c-483f-a53b-16149c93f11e  cfa21d7e-8499-43d0-9dfb-f4a1b94ce44c   \n",
       "3  524031ea-56e2-410a-aee2-e8fc6ae3fbc5                                   NaN   \n",
       "4  421aaf04-c97d-42ac-b35f-09a56bbaf910  3f43d7bc-37f0-4535-8391-51702d6ff81e   \n",
       "\n",
       "      transaction_date                    service        amount  \\\n",
       "0  2025-01-04 00:02:20  Структурирование капитала  55838.059789   \n",
       "1  2025-03-10 17:16:50  Структурирование капитала  37514.809209   \n",
       "2  2025-02-13 19:43:49  Структурирование капитала  21022.146872   \n",
       "3  2025-03-02 03:14:10    Финансовое планирование   2313.980219   \n",
       "4  2025-03-18 21:00:36  Структурирование капитала   5636.586955   \n",
       "\n",
       "       payment_method                city       consultant  \n",
       "0  Банковский перевод   North Patrickport    Cheryl Waller  \n",
       "1          Неизвестно     New Zacharyport    Frank Pollard  \n",
       "2          Неизвестно  Port Michellemouth  Alexandra Meyer  \n",
       "3          Неизвестно           Erichaven    Patricia Haas  \n",
       "4          Неизвестно            Bondstad     Melissa Pena  "
      ]
     },
     "execution_count": 2,
     "metadata": {},
     "output_type": "execute_result"
    }
   ],
   "source": [
    "df_trans = pd.read_excel(r\"data\\transactions_data.xlsx\")\n",
    "df_trans.head()"
   ]
  },
  {
   "cell_type": "code",
   "execution_count": 3,
   "id": "892e5c11",
   "metadata": {},
   "outputs": [
    {
     "data": {
      "text/html": [
       "<div>\n",
       "<style scoped>\n",
       "    .dataframe tbody tr th:only-of-type {\n",
       "        vertical-align: middle;\n",
       "    }\n",
       "\n",
       "    .dataframe tbody tr th {\n",
       "        vertical-align: top;\n",
       "    }\n",
       "\n",
       "    .dataframe thead th {\n",
       "        text-align: right;\n",
       "    }\n",
       "</style>\n",
       "<table border=\"1\" class=\"dataframe\">\n",
       "  <thead>\n",
       "    <tr style=\"text-align: right;\">\n",
       "      <th></th>\n",
       "      <th>id</th>\n",
       "      <th>age</th>\n",
       "      <th>gender</th>\n",
       "      <th>net_worth</th>\n",
       "    </tr>\n",
       "  </thead>\n",
       "  <tbody>\n",
       "    <tr>\n",
       "      <th>0</th>\n",
       "      <td>1ec5ab91-fdd0-4925-a221-f0c4e04fe0e7</td>\n",
       "      <td>41.0</td>\n",
       "      <td>Мужчина</td>\n",
       "      <td>2514729.46</td>\n",
       "    </tr>\n",
       "    <tr>\n",
       "      <th>1</th>\n",
       "      <td>c940f45c-d29b-439a-8fa3-f75018cef528</td>\n",
       "      <td>28.0</td>\n",
       "      <td>Мужчина</td>\n",
       "      <td>566568.29</td>\n",
       "    </tr>\n",
       "    <tr>\n",
       "      <th>2</th>\n",
       "      <td>cfa21d7e-8499-43d0-9dfb-f4a1b94ce44c</td>\n",
       "      <td>55.0</td>\n",
       "      <td>Женщина</td>\n",
       "      <td>1896001.28</td>\n",
       "    </tr>\n",
       "    <tr>\n",
       "      <th>3</th>\n",
       "      <td>None</td>\n",
       "      <td>38.0</td>\n",
       "      <td>Женщина</td>\n",
       "      <td>4538759.60</td>\n",
       "    </tr>\n",
       "    <tr>\n",
       "      <th>4</th>\n",
       "      <td>3f43d7bc-37f0-4535-8391-51702d6ff81e</td>\n",
       "      <td>31.0</td>\n",
       "      <td>Мужчина</td>\n",
       "      <td>4865849.92</td>\n",
       "    </tr>\n",
       "  </tbody>\n",
       "</table>\n",
       "</div>"
      ],
      "text/plain": [
       "                                     id   age   gender   net_worth\n",
       "0  1ec5ab91-fdd0-4925-a221-f0c4e04fe0e7  41.0  Мужчина  2514729.46\n",
       "1  c940f45c-d29b-439a-8fa3-f75018cef528  28.0  Мужчина   566568.29\n",
       "2  cfa21d7e-8499-43d0-9dfb-f4a1b94ce44c  55.0  Женщина  1896001.28\n",
       "3                                  None  38.0  Женщина  4538759.60\n",
       "4  3f43d7bc-37f0-4535-8391-51702d6ff81e  31.0  Мужчина  4865849.92"
      ]
     },
     "execution_count": 3,
     "metadata": {},
     "output_type": "execute_result"
    }
   ],
   "source": [
    "df_clients = pd.read_json(r\"data\\clients_data.json\")\n",
    "df_clients.head()"
   ]
  },
  {
   "cell_type": "markdown",
   "id": "afa63b0c",
   "metadata": {},
   "source": [
    "## Разберемся с данными из df_trans"
   ]
  },
  {
   "cell_type": "markdown",
   "id": "79d15d91",
   "metadata": {},
   "source": [
    "#### Обработка пропущенных значений"
   ]
  },
  {
   "cell_type": "code",
   "execution_count": 4,
   "id": "57958439",
   "metadata": {},
   "outputs": [
    {
     "name": "stdout",
     "output_type": "stream",
     "text": [
      "<class 'pandas.core.frame.DataFrame'>\n",
      "RangeIndex: 10000 entries, 0 to 9999\n",
      "Data columns (total 8 columns):\n",
      " #   Column            Non-Null Count  Dtype  \n",
      "---  ------            --------------  -----  \n",
      " 0   transaction_id    9526 non-null   object \n",
      " 1   client_id         9798 non-null   object \n",
      " 2   transaction_date  10000 non-null  object \n",
      " 3   service           10000 non-null  object \n",
      " 4   amount            9540 non-null   float64\n",
      " 5   payment_method    10000 non-null  object \n",
      " 6   city              10000 non-null  object \n",
      " 7   consultant        10000 non-null  object \n",
      "dtypes: float64(1), object(7)\n",
      "memory usage: 625.1+ KB\n"
     ]
    }
   ],
   "source": [
    "df_trans.info()"
   ]
  },
  {
   "cell_type": "code",
   "execution_count": 5,
   "id": "9475ae07",
   "metadata": {},
   "outputs": [
    {
     "data": {
      "text/plain": [
       "transaction_id      474\n",
       "client_id           202\n",
       "transaction_date      0\n",
       "service               0\n",
       "amount              460\n",
       "payment_method        0\n",
       "city                  0\n",
       "consultant            0\n",
       "dtype: int64"
      ]
     },
     "execution_count": 5,
     "metadata": {},
     "output_type": "execute_result"
    }
   ],
   "source": [
    "df_trans.isnull().sum()"
   ]
  },
  {
   "cell_type": "markdown",
   "id": "3197c351",
   "metadata": {},
   "source": [
    "transaction_id и client_id уникальные значения, которые должны выдаваться при создании транзакции и регистрации клиента соответственно, поэтому удалим строки с пропущенными значениями из DataFrame, а удаленные строки запишем в отдельные файлы, чтобы в последующем мы могли передать их на анализ отделам, занимающимися данными вопросами."
   ]
  },
  {
   "cell_type": "code",
   "execution_count": 6,
   "id": "1c411987",
   "metadata": {},
   "outputs": [],
   "source": [
    "df_trans_transId_null = df_trans[df_trans['transaction_id'].isna()]\n",
    "df_trans_transId_null.to_excel(\"data\\\\problem_data\\\\transaction_id_Null.xlsx\", index = False)"
   ]
  },
  {
   "cell_type": "code",
   "execution_count": 7,
   "id": "6ac2ffea",
   "metadata": {},
   "outputs": [],
   "source": [
    "df_trans_clientId_null = df_trans[df_trans['client_id'].isna()]\n",
    "df_trans_clientId_null.to_excel(\"data\\\\problem_data\\\\client_id_Null.xlsx\", index = False)"
   ]
  },
  {
   "cell_type": "code",
   "execution_count": 8,
   "id": "45a546cd",
   "metadata": {},
   "outputs": [
    {
     "data": {
      "text/plain": [
       "transaction_id        0\n",
       "client_id             0\n",
       "transaction_date      0\n",
       "service               0\n",
       "amount              426\n",
       "payment_method        0\n",
       "city                  0\n",
       "consultant            0\n",
       "dtype: int64"
      ]
     },
     "execution_count": 8,
     "metadata": {},
     "output_type": "execute_result"
    }
   ],
   "source": [
    "df_trans = df_trans.dropna(subset=[\"transaction_id\", \"client_id\"])\n",
    "df_trans.isnull().sum()"
   ]
  },
  {
   "cell_type": "markdown",
   "id": "6563e492",
   "metadata": {},
   "source": [
    "также присваивать в amount нельзя какие-то случайные значения, или 0 нельзя, поэтому удалим данные строки"
   ]
  },
  {
   "cell_type": "code",
   "execution_count": 9,
   "id": "cbd876af",
   "metadata": {},
   "outputs": [],
   "source": [
    "df_trans_amount_null = df_trans[df_trans['amount'].isna()]\n",
    "df_trans_amount_null.to_excel(\"data\\\\problem_data\\\\amount_Null.xlsx\", index = False)"
   ]
  },
  {
   "cell_type": "code",
   "execution_count": 10,
   "id": "1ffece63",
   "metadata": {},
   "outputs": [
    {
     "name": "stdout",
     "output_type": "stream",
     "text": [
      "Строк с NaN значениями в df_trans: 0\n"
     ]
    }
   ],
   "source": [
    "df_trans = df_trans.dropna(subset=['amount'])\n",
    "print(f\"Строк с NaN значениями в df_trans: {df_trans.isnull().sum().sum()}\")"
   ]
  },
  {
   "cell_type": "markdown",
   "id": "5083600a",
   "metadata": {},
   "source": [
    "#### Проверка данных на корректность и их обработка"
   ]
  },
  {
   "cell_type": "markdown",
   "id": "23cf5579",
   "metadata": {},
   "source": [
    "Начнем проверку на корректность данных, для начала сумму транзакции (должна быть больше 0)."
   ]
  },
  {
   "cell_type": "code",
   "execution_count": 11,
   "id": "8c510e97",
   "metadata": {},
   "outputs": [
    {
     "data": {
      "text/html": [
       "<div>\n",
       "<style scoped>\n",
       "    .dataframe tbody tr th:only-of-type {\n",
       "        vertical-align: middle;\n",
       "    }\n",
       "\n",
       "    .dataframe tbody tr th {\n",
       "        vertical-align: top;\n",
       "    }\n",
       "\n",
       "    .dataframe thead th {\n",
       "        text-align: right;\n",
       "    }\n",
       "</style>\n",
       "<table border=\"1\" class=\"dataframe\">\n",
       "  <thead>\n",
       "    <tr style=\"text-align: right;\">\n",
       "      <th></th>\n",
       "      <th>transaction_id</th>\n",
       "      <th>client_id</th>\n",
       "      <th>transaction_date</th>\n",
       "      <th>service</th>\n",
       "      <th>amount</th>\n",
       "      <th>payment_method</th>\n",
       "      <th>city</th>\n",
       "      <th>consultant</th>\n",
       "    </tr>\n",
       "  </thead>\n",
       "  <tbody>\n",
       "  </tbody>\n",
       "</table>\n",
       "</div>"
      ],
      "text/plain": [
       "Empty DataFrame\n",
       "Columns: [transaction_id, client_id, transaction_date, service, amount, payment_method, city, consultant]\n",
       "Index: []"
      ]
     },
     "execution_count": 11,
     "metadata": {},
     "output_type": "execute_result"
    }
   ],
   "source": [
    "df_trans[df_trans[\"amount\"] <= 0]"
   ]
  },
  {
   "cell_type": "markdown",
   "id": "38f969aa",
   "metadata": {},
   "source": [
    "***Данные сумм транзакций корректны***"
   ]
  },
  {
   "cell_type": "markdown",
   "id": "39147c5b",
   "metadata": {},
   "source": [
    "Переведем даты в тип datetime и проверим их на корректность"
   ]
  },
  {
   "cell_type": "code",
   "execution_count": 12,
   "id": "1654ac88",
   "metadata": {},
   "outputs": [
    {
     "data": {
      "text/html": [
       "<div>\n",
       "<style scoped>\n",
       "    .dataframe tbody tr th:only-of-type {\n",
       "        vertical-align: middle;\n",
       "    }\n",
       "\n",
       "    .dataframe tbody tr th {\n",
       "        vertical-align: top;\n",
       "    }\n",
       "\n",
       "    .dataframe thead th {\n",
       "        text-align: right;\n",
       "    }\n",
       "</style>\n",
       "<table border=\"1\" class=\"dataframe\">\n",
       "  <thead>\n",
       "    <tr style=\"text-align: right;\">\n",
       "      <th></th>\n",
       "      <th>transaction_id</th>\n",
       "      <th>client_id</th>\n",
       "      <th>transaction_date</th>\n",
       "      <th>service</th>\n",
       "      <th>amount</th>\n",
       "      <th>payment_method</th>\n",
       "      <th>city</th>\n",
       "      <th>consultant</th>\n",
       "    </tr>\n",
       "  </thead>\n",
       "  <tbody>\n",
       "  </tbody>\n",
       "</table>\n",
       "</div>"
      ],
      "text/plain": [
       "Empty DataFrame\n",
       "Columns: [transaction_id, client_id, transaction_date, service, amount, payment_method, city, consultant]\n",
       "Index: []"
      ]
     },
     "execution_count": 12,
     "metadata": {},
     "output_type": "execute_result"
    }
   ],
   "source": [
    "df_trans['transaction_date'] = pd.to_datetime(df_trans['transaction_date'], errors='coerce')\n",
    "df_data_error = df_trans[df_trans['transaction_date'] >= datetime.now()]\n",
    "df_trans = df_trans[df_trans['transaction_date'] < datetime.now()]\n",
    "\n",
    "df_data_error.head()"
   ]
  },
  {
   "cell_type": "markdown",
   "id": "7b22f93a",
   "metadata": {},
   "source": [
    "***Все данные с датами транзакций корректны***"
   ]
  },
  {
   "cell_type": "markdown",
   "id": "95ad058a",
   "metadata": {},
   "source": [
    "Проверим способы оплаты и тип оказанной финансовой услуги на корректность с логической точки зрения"
   ]
  },
  {
   "cell_type": "code",
   "execution_count": 13,
   "id": "e4029da9",
   "metadata": {},
   "outputs": [
    {
     "data": {
      "text/plain": [
       "array(['Банковский перевод', 'Неизвестно', 'Кредитная карта',\n",
       "       'Криптовалюта', 'Наличные'], dtype=object)"
      ]
     },
     "execution_count": 13,
     "metadata": {},
     "output_type": "execute_result"
    }
   ],
   "source": [
    "df_trans[\"payment_method\"].unique()"
   ]
  },
  {
   "cell_type": "code",
   "execution_count": 14,
   "id": "7836cb41",
   "metadata": {},
   "outputs": [
    {
     "data": {
      "text/plain": [
       "array(['Структурирование капитала', 'Инвестиционное консультирование',\n",
       "       'Неизвестная услуга', 'Налоговое планирование',\n",
       "       'Управление активами', 'Финансовое планирование'], dtype=object)"
      ]
     },
     "execution_count": 14,
     "metadata": {},
     "output_type": "execute_result"
    }
   ],
   "source": [
    "df_trans[\"service\"].unique()"
   ]
  },
  {
   "cell_type": "markdown",
   "id": "e39be43f",
   "metadata": {},
   "source": [
    "***Данные корректны***"
   ]
  },
  {
   "cell_type": "markdown",
   "id": "e022fd6e",
   "metadata": {},
   "source": [
    "## Разберемся с df_clients"
   ]
  },
  {
   "cell_type": "markdown",
   "id": "b52222a7",
   "metadata": {},
   "source": [
    "#### Обработка пропущенных значений"
   ]
  },
  {
   "cell_type": "code",
   "execution_count": 15,
   "id": "51f12409",
   "metadata": {},
   "outputs": [
    {
     "data": {
      "text/plain": [
       "id              1\n",
       "age           983\n",
       "gender       3319\n",
       "net_worth     475\n",
       "dtype: int64"
      ]
     },
     "execution_count": 15,
     "metadata": {},
     "output_type": "execute_result"
    }
   ],
   "source": [
    "df_clients.isnull().sum()"
   ]
  },
  {
   "cell_type": "markdown",
   "id": "12a1d9f2",
   "metadata": {},
   "source": [
    "Наиболее важно поле id для индификации клиента, удалим поле с пропущенным значением (либо можно было бы заполнить уникальным значением и хешировать)"
   ]
  },
  {
   "cell_type": "code",
   "execution_count": 16,
   "id": "beed7c67",
   "metadata": {},
   "outputs": [],
   "source": [
    "df_clients = df_clients.dropna(subset=[\"id\"])"
   ]
  },
  {
   "cell_type": "markdown",
   "id": "47c9042e",
   "metadata": {},
   "source": [
    "Остальные значения по-моему мнению могут быть Nan так как они не так важны"
   ]
  },
  {
   "cell_type": "markdown",
   "id": "3da61393",
   "metadata": {},
   "source": [
    "#### Проверка данных на корректность и их обработка"
   ]
  },
  {
   "cell_type": "markdown",
   "id": "8fadee85",
   "metadata": {},
   "source": [
    "##### Прверим возраст на корректность"
   ]
  },
  {
   "cell_type": "code",
   "execution_count": 17,
   "id": "a6e7b97f",
   "metadata": {},
   "outputs": [
    {
     "data": {
      "text/html": [
       "<div>\n",
       "<style scoped>\n",
       "    .dataframe tbody tr th:only-of-type {\n",
       "        vertical-align: middle;\n",
       "    }\n",
       "\n",
       "    .dataframe tbody tr th {\n",
       "        vertical-align: top;\n",
       "    }\n",
       "\n",
       "    .dataframe thead th {\n",
       "        text-align: right;\n",
       "    }\n",
       "</style>\n",
       "<table border=\"1\" class=\"dataframe\">\n",
       "  <thead>\n",
       "    <tr style=\"text-align: right;\">\n",
       "      <th></th>\n",
       "      <th>id</th>\n",
       "      <th>age</th>\n",
       "      <th>gender</th>\n",
       "      <th>net_worth</th>\n",
       "    </tr>\n",
       "  </thead>\n",
       "  <tbody>\n",
       "  </tbody>\n",
       "</table>\n",
       "</div>"
      ],
      "text/plain": [
       "Empty DataFrame\n",
       "Columns: [id, age, gender, net_worth]\n",
       "Index: []"
      ]
     },
     "execution_count": 17,
     "metadata": {},
     "output_type": "execute_result"
    }
   ],
   "source": [
    "df_clients[df_clients[\"age\"] <= 0]"
   ]
  },
  {
   "cell_type": "code",
   "execution_count": 18,
   "id": "9054f3c1",
   "metadata": {},
   "outputs": [
    {
     "data": {
      "text/html": [
       "<div>\n",
       "<style scoped>\n",
       "    .dataframe tbody tr th:only-of-type {\n",
       "        vertical-align: middle;\n",
       "    }\n",
       "\n",
       "    .dataframe tbody tr th {\n",
       "        vertical-align: top;\n",
       "    }\n",
       "\n",
       "    .dataframe thead th {\n",
       "        text-align: right;\n",
       "    }\n",
       "</style>\n",
       "<table border=\"1\" class=\"dataframe\">\n",
       "  <thead>\n",
       "    <tr style=\"text-align: right;\">\n",
       "      <th></th>\n",
       "      <th>id</th>\n",
       "      <th>age</th>\n",
       "      <th>gender</th>\n",
       "      <th>net_worth</th>\n",
       "    </tr>\n",
       "  </thead>\n",
       "  <tbody>\n",
       "  </tbody>\n",
       "</table>\n",
       "</div>"
      ],
      "text/plain": [
       "Empty DataFrame\n",
       "Columns: [id, age, gender, net_worth]\n",
       "Index: []"
      ]
     },
     "execution_count": 18,
     "metadata": {},
     "output_type": "execute_result"
    }
   ],
   "source": [
    "df_clients[df_clients[\"age\"] >= 100]"
   ]
  },
  {
   "cell_type": "markdown",
   "id": "ecc04f2a",
   "metadata": {},
   "source": [
    "***Возраст корректен***"
   ]
  },
  {
   "cell_type": "markdown",
   "id": "fb96900a",
   "metadata": {},
   "source": [
    "##### Проверим пол на корректность"
   ]
  },
  {
   "cell_type": "code",
   "execution_count": 19,
   "id": "40f4dbd3",
   "metadata": {},
   "outputs": [
    {
     "data": {
      "text/plain": [
       "array(['Мужчина', 'Женщина', None], dtype=object)"
      ]
     },
     "execution_count": 19,
     "metadata": {},
     "output_type": "execute_result"
    }
   ],
   "source": [
    "df_clients[\"gender\"].unique()"
   ]
  },
  {
   "cell_type": "markdown",
   "id": "d22b2752",
   "metadata": {},
   "source": [
    "***Пол корректен***"
   ]
  },
  {
   "cell_type": "markdown",
   "id": "62945df8",
   "metadata": {},
   "source": [
    "##### Чистая стоимость активов клиента"
   ]
  },
  {
   "cell_type": "code",
   "execution_count": 20,
   "id": "12c9a114",
   "metadata": {},
   "outputs": [
    {
     "data": {
      "text/html": [
       "<div>\n",
       "<style scoped>\n",
       "    .dataframe tbody tr th:only-of-type {\n",
       "        vertical-align: middle;\n",
       "    }\n",
       "\n",
       "    .dataframe tbody tr th {\n",
       "        vertical-align: top;\n",
       "    }\n",
       "\n",
       "    .dataframe thead th {\n",
       "        text-align: right;\n",
       "    }\n",
       "</style>\n",
       "<table border=\"1\" class=\"dataframe\">\n",
       "  <thead>\n",
       "    <tr style=\"text-align: right;\">\n",
       "      <th></th>\n",
       "      <th>id</th>\n",
       "      <th>age</th>\n",
       "      <th>gender</th>\n",
       "      <th>net_worth</th>\n",
       "    </tr>\n",
       "  </thead>\n",
       "  <tbody>\n",
       "  </tbody>\n",
       "</table>\n",
       "</div>"
      ],
      "text/plain": [
       "Empty DataFrame\n",
       "Columns: [id, age, gender, net_worth]\n",
       "Index: []"
      ]
     },
     "execution_count": 20,
     "metadata": {},
     "output_type": "execute_result"
    }
   ],
   "source": [
    "df_clients[df_clients[\"net_worth\"] < 0]"
   ]
  },
  {
   "cell_type": "markdown",
   "id": "f5961433",
   "metadata": {},
   "source": [
    "***корректно***"
   ]
  },
  {
   "cell_type": "markdown",
   "id": "23bd230a",
   "metadata": {},
   "source": [
    "## Решение задач"
   ]
  },
  {
   "cell_type": "markdown",
   "id": "4bd2ac21",
   "metadata": {},
   "source": [
    "#### 2. Анализ данных"
   ]
  },
  {
   "cell_type": "markdown",
   "id": "37ccedfb",
   "metadata": {},
   "source": [
    "##### Определить топ-5 наиболее популярных услуг по количеству заказов."
   ]
  },
  {
   "cell_type": "code",
   "execution_count": 21,
   "id": "eb0c7a5c",
   "metadata": {},
   "outputs": [
    {
     "name": "stdout",
     "output_type": "stream",
     "text": [
      "Топ 5 самых популярных услуг \n",
      "\n",
      "Услуга: Инвестиционное консультирование, Количество заказов: 1956\n",
      "Услуга: Управление активами, Количество заказов: 1606\n",
      "Услуга: Финансовое планирование, Количество заказов: 1242\n",
      "Услуга: Налоговое планирование, Количество заказов: 1218\n",
      "Услуга: Структурирование капитала, Количество заказов: 1196\n"
     ]
    }
   ],
   "source": [
    "top_services = df_trans['service'].value_counts().head(5)\n",
    "service_names = top_services.index.tolist()\n",
    "service_counts = top_services.values.tolist()\n",
    "top5_famous_service = dict()\n",
    "print(\"Топ 5 самых популярных услуг\", '\\n')\n",
    "for key, val in zip(service_names, service_counts):\n",
    "    top5_famous_service[key] = val\n",
    "    print(f\"Услуга: {key}, Количество заказов: {val}\")"
   ]
  },
  {
   "cell_type": "markdown",
   "id": "bd3fac61",
   "metadata": {},
   "source": [
    "##### Рассчитать среднюю сумму транзакций по каждому городу."
   ]
  },
  {
   "cell_type": "code",
   "execution_count": 22,
   "id": "121b963e",
   "metadata": {},
   "outputs": [
    {
     "data": {
      "text/plain": [
       "{'Неизвестный город': 15454021.164274579,\n",
       " 'Port Michellemouth': 9714997.880923014,\n",
       " 'New Tommyborough': 9054069.503499499,\n",
       " 'Kaneburgh': 9050556.916716697,\n",
       " 'Johnsonfort': 8835446.259065658}"
      ]
     },
     "execution_count": 22,
     "metadata": {},
     "output_type": "execute_result"
    }
   ],
   "source": [
    "df_trans.groupby(by=\"city\")[\"amount\"].sum().sort_values(ascending = False).head(5).to_dict()"
   ]
  },
  {
   "cell_type": "markdown",
   "id": "048a162f",
   "metadata": {},
   "source": [
    "Так как неизвестный город наверное не предполагался, то нужный нам ***Port Michellemouth*** с суммой транзакций около ***9714997.8***"
   ]
  },
  {
   "cell_type": "markdown",
   "id": "340dca57",
   "metadata": {},
   "source": [
    "##### Вычислить процент транзакций по способам оплаты (наличные, банковский перевод и т. д.). "
   ]
  },
  {
   "cell_type": "code",
   "execution_count": 23,
   "id": "e5b5c0e5",
   "metadata": {},
   "outputs": [
    {
     "name": "stdout",
     "output_type": "stream",
     "text": [
      "payment_method\n",
      "Кредитная карта       40.04\n",
      "Банковский перевод    34.59\n",
      "Неизвестно            10.15\n",
      "Наличные               9.96\n",
      "Криптовалюта           5.27\n",
      "Name: proportion, dtype: float64\n"
     ]
    }
   ],
   "source": [
    "payment_counts = df_trans['payment_method'].value_counts(normalize=True) * 100\n",
    "payment_counts = payment_counts.round(2)\n",
    "print(payment_counts)"
   ]
  },
  {
   "cell_type": "markdown",
   "id": "b6aef655",
   "metadata": {},
   "source": [
    "##### Рассчитать выручку за последний месяц (по сумме amount)"
   ]
  },
  {
   "cell_type": "code",
   "execution_count": 24,
   "id": "abd0bb71",
   "metadata": {},
   "outputs": [
    {
     "name": "stdout",
     "output_type": "stream",
     "text": [
      "Вырочка за последний месяц составила: 121891854.0\n"
     ]
    }
   ],
   "source": [
    "sum_trans_last_month = df_trans[df_trans[\"transaction_date\"] >= datetime.now() - timedelta(days=60)][\"amount\"].sum().round()\n",
    "print(f\"Вырочка за последний месяц составила: {sum_trans_last_month}\")"
   ]
  },
  {
   "cell_type": "markdown",
   "id": "91d52f04",
   "metadata": {},
   "source": [
    "#### 3. Объединение данных"
   ]
  },
  {
   "cell_type": "markdown",
   "id": "e886b79e",
   "metadata": {},
   "source": [
    "##### Объединить транзакции с клиентскими данными (по id). "
   ]
  },
  {
   "cell_type": "code",
   "execution_count": 25,
   "id": "7576e789",
   "metadata": {},
   "outputs": [
    {
     "data": {
      "text/html": [
       "<div>\n",
       "<style scoped>\n",
       "    .dataframe tbody tr th:only-of-type {\n",
       "        vertical-align: middle;\n",
       "    }\n",
       "\n",
       "    .dataframe tbody tr th {\n",
       "        vertical-align: top;\n",
       "    }\n",
       "\n",
       "    .dataframe thead th {\n",
       "        text-align: right;\n",
       "    }\n",
       "</style>\n",
       "<table border=\"1\" class=\"dataframe\">\n",
       "  <thead>\n",
       "    <tr style=\"text-align: right;\">\n",
       "      <th></th>\n",
       "      <th>transaction_id</th>\n",
       "      <th>client_id</th>\n",
       "      <th>transaction_date</th>\n",
       "      <th>service</th>\n",
       "      <th>amount</th>\n",
       "      <th>payment_method</th>\n",
       "      <th>city</th>\n",
       "      <th>consultant</th>\n",
       "      <th>id</th>\n",
       "      <th>age</th>\n",
       "      <th>gender</th>\n",
       "      <th>net_worth</th>\n",
       "    </tr>\n",
       "  </thead>\n",
       "  <tbody>\n",
       "    <tr>\n",
       "      <th>0</th>\n",
       "      <td>ff36597c-df41-44a0-9f46-6aa1fe615270</td>\n",
       "      <td>1ec5ab91-fdd0-4925-a221-f0c4e04fe0e7</td>\n",
       "      <td>2025-01-04 00:02:20</td>\n",
       "      <td>Структурирование капитала</td>\n",
       "      <td>55838.059789</td>\n",
       "      <td>Банковский перевод</td>\n",
       "      <td>North Patrickport</td>\n",
       "      <td>Cheryl Waller</td>\n",
       "      <td>1ec5ab91-fdd0-4925-a221-f0c4e04fe0e7</td>\n",
       "      <td>41.0</td>\n",
       "      <td>Мужчина</td>\n",
       "      <td>2514729.46</td>\n",
       "    </tr>\n",
       "    <tr>\n",
       "      <th>1</th>\n",
       "      <td>0d5263ec-413d-44d9-a9d3-a996e3a56b05</td>\n",
       "      <td>c940f45c-d29b-439a-8fa3-f75018cef528</td>\n",
       "      <td>2025-03-10 17:16:50</td>\n",
       "      <td>Структурирование капитала</td>\n",
       "      <td>37514.809209</td>\n",
       "      <td>Неизвестно</td>\n",
       "      <td>New Zacharyport</td>\n",
       "      <td>Frank Pollard</td>\n",
       "      <td>c940f45c-d29b-439a-8fa3-f75018cef528</td>\n",
       "      <td>28.0</td>\n",
       "      <td>Мужчина</td>\n",
       "      <td>566568.29</td>\n",
       "    </tr>\n",
       "    <tr>\n",
       "      <th>2</th>\n",
       "      <td>5e9a8978-df1c-483f-a53b-16149c93f11e</td>\n",
       "      <td>cfa21d7e-8499-43d0-9dfb-f4a1b94ce44c</td>\n",
       "      <td>2025-02-13 19:43:49</td>\n",
       "      <td>Структурирование капитала</td>\n",
       "      <td>21022.146872</td>\n",
       "      <td>Неизвестно</td>\n",
       "      <td>Port Michellemouth</td>\n",
       "      <td>Alexandra Meyer</td>\n",
       "      <td>cfa21d7e-8499-43d0-9dfb-f4a1b94ce44c</td>\n",
       "      <td>55.0</td>\n",
       "      <td>Женщина</td>\n",
       "      <td>1896001.28</td>\n",
       "    </tr>\n",
       "    <tr>\n",
       "      <th>3</th>\n",
       "      <td>421aaf04-c97d-42ac-b35f-09a56bbaf910</td>\n",
       "      <td>3f43d7bc-37f0-4535-8391-51702d6ff81e</td>\n",
       "      <td>2025-03-18 21:00:36</td>\n",
       "      <td>Структурирование капитала</td>\n",
       "      <td>5636.586955</td>\n",
       "      <td>Неизвестно</td>\n",
       "      <td>Bondstad</td>\n",
       "      <td>Melissa Pena</td>\n",
       "      <td>3f43d7bc-37f0-4535-8391-51702d6ff81e</td>\n",
       "      <td>31.0</td>\n",
       "      <td>Мужчина</td>\n",
       "      <td>4865849.92</td>\n",
       "    </tr>\n",
       "    <tr>\n",
       "      <th>4</th>\n",
       "      <td>822d5795-4f08-4a7a-9692-7f5863945bdf</td>\n",
       "      <td>900f7d6b-ee7f-49e6-ae9f-e5ea9e04ab4c</td>\n",
       "      <td>2025-02-21 21:50:30</td>\n",
       "      <td>Инвестиционное консультирование</td>\n",
       "      <td>85575.773285</td>\n",
       "      <td>Кредитная карта</td>\n",
       "      <td>West Jaymouth</td>\n",
       "      <td>Harold Gibson</td>\n",
       "      <td>900f7d6b-ee7f-49e6-ae9f-e5ea9e04ab4c</td>\n",
       "      <td>59.0</td>\n",
       "      <td>Женщина</td>\n",
       "      <td>3992281.84</td>\n",
       "    </tr>\n",
       "  </tbody>\n",
       "</table>\n",
       "</div>"
      ],
      "text/plain": [
       "                         transaction_id                             client_id  \\\n",
       "0  ff36597c-df41-44a0-9f46-6aa1fe615270  1ec5ab91-fdd0-4925-a221-f0c4e04fe0e7   \n",
       "1  0d5263ec-413d-44d9-a9d3-a996e3a56b05  c940f45c-d29b-439a-8fa3-f75018cef528   \n",
       "2  5e9a8978-df1c-483f-a53b-16149c93f11e  cfa21d7e-8499-43d0-9dfb-f4a1b94ce44c   \n",
       "3  421aaf04-c97d-42ac-b35f-09a56bbaf910  3f43d7bc-37f0-4535-8391-51702d6ff81e   \n",
       "4  822d5795-4f08-4a7a-9692-7f5863945bdf  900f7d6b-ee7f-49e6-ae9f-e5ea9e04ab4c   \n",
       "\n",
       "     transaction_date                          service        amount  \\\n",
       "0 2025-01-04 00:02:20        Структурирование капитала  55838.059789   \n",
       "1 2025-03-10 17:16:50        Структурирование капитала  37514.809209   \n",
       "2 2025-02-13 19:43:49        Структурирование капитала  21022.146872   \n",
       "3 2025-03-18 21:00:36        Структурирование капитала   5636.586955   \n",
       "4 2025-02-21 21:50:30  Инвестиционное консультирование  85575.773285   \n",
       "\n",
       "       payment_method                city       consultant  \\\n",
       "0  Банковский перевод   North Patrickport    Cheryl Waller   \n",
       "1          Неизвестно     New Zacharyport    Frank Pollard   \n",
       "2          Неизвестно  Port Michellemouth  Alexandra Meyer   \n",
       "3          Неизвестно            Bondstad     Melissa Pena   \n",
       "4     Кредитная карта       West Jaymouth    Harold Gibson   \n",
       "\n",
       "                                     id   age   gender   net_worth  \n",
       "0  1ec5ab91-fdd0-4925-a221-f0c4e04fe0e7  41.0  Мужчина  2514729.46  \n",
       "1  c940f45c-d29b-439a-8fa3-f75018cef528  28.0  Мужчина   566568.29  \n",
       "2  cfa21d7e-8499-43d0-9dfb-f4a1b94ce44c  55.0  Женщина  1896001.28  \n",
       "3  3f43d7bc-37f0-4535-8391-51702d6ff81e  31.0  Мужчина  4865849.92  \n",
       "4  900f7d6b-ee7f-49e6-ae9f-e5ea9e04ab4c  59.0  Женщина  3992281.84  "
      ]
     },
     "execution_count": 25,
     "metadata": {},
     "output_type": "execute_result"
    }
   ],
   "source": [
    "df_merged = pd.merge(df_trans, df_clients, left_on='client_id', right_on = 'id', how='left')\n",
    "df_merged.head()"
   ]
  },
  {
   "cell_type": "markdown",
   "id": "a2a4b2a2",
   "metadata": {},
   "source": [
    "##### Создать новую колонку с уровнями активов. "
   ]
  },
  {
   "cell_type": "code",
   "execution_count": 26,
   "id": "91fd7d4a",
   "metadata": {},
   "outputs": [
    {
     "data": {
      "text/html": [
       "<div>\n",
       "<style scoped>\n",
       "    .dataframe tbody tr th:only-of-type {\n",
       "        vertical-align: middle;\n",
       "    }\n",
       "\n",
       "    .dataframe tbody tr th {\n",
       "        vertical-align: top;\n",
       "    }\n",
       "\n",
       "    .dataframe thead th {\n",
       "        text-align: right;\n",
       "    }\n",
       "</style>\n",
       "<table border=\"1\" class=\"dataframe\">\n",
       "  <thead>\n",
       "    <tr style=\"text-align: right;\">\n",
       "      <th></th>\n",
       "      <th>transaction_id</th>\n",
       "      <th>client_id</th>\n",
       "      <th>transaction_date</th>\n",
       "      <th>service</th>\n",
       "      <th>amount</th>\n",
       "      <th>payment_method</th>\n",
       "      <th>city</th>\n",
       "      <th>consultant</th>\n",
       "      <th>id</th>\n",
       "      <th>age</th>\n",
       "      <th>gender</th>\n",
       "      <th>net_worth</th>\n",
       "      <th>asset_level</th>\n",
       "    </tr>\n",
       "  </thead>\n",
       "  <tbody>\n",
       "    <tr>\n",
       "      <th>0</th>\n",
       "      <td>ff36597c-df41-44a0-9f46-6aa1fe615270</td>\n",
       "      <td>1ec5ab91-fdd0-4925-a221-f0c4e04fe0e7</td>\n",
       "      <td>2025-01-04 00:02:20</td>\n",
       "      <td>Структурирование капитала</td>\n",
       "      <td>55838.059789</td>\n",
       "      <td>Банковский перевод</td>\n",
       "      <td>North Patrickport</td>\n",
       "      <td>Cheryl Waller</td>\n",
       "      <td>1ec5ab91-fdd0-4925-a221-f0c4e04fe0e7</td>\n",
       "      <td>41.0</td>\n",
       "      <td>Мужчина</td>\n",
       "      <td>2514729.46</td>\n",
       "      <td>Высокий капитал</td>\n",
       "    </tr>\n",
       "    <tr>\n",
       "      <th>1</th>\n",
       "      <td>0d5263ec-413d-44d9-a9d3-a996e3a56b05</td>\n",
       "      <td>c940f45c-d29b-439a-8fa3-f75018cef528</td>\n",
       "      <td>2025-03-10 17:16:50</td>\n",
       "      <td>Структурирование капитала</td>\n",
       "      <td>37514.809209</td>\n",
       "      <td>Неизвестно</td>\n",
       "      <td>New Zacharyport</td>\n",
       "      <td>Frank Pollard</td>\n",
       "      <td>c940f45c-d29b-439a-8fa3-f75018cef528</td>\n",
       "      <td>28.0</td>\n",
       "      <td>Мужчина</td>\n",
       "      <td>566568.29</td>\n",
       "      <td>Средний капитал</td>\n",
       "    </tr>\n",
       "    <tr>\n",
       "      <th>2</th>\n",
       "      <td>5e9a8978-df1c-483f-a53b-16149c93f11e</td>\n",
       "      <td>cfa21d7e-8499-43d0-9dfb-f4a1b94ce44c</td>\n",
       "      <td>2025-02-13 19:43:49</td>\n",
       "      <td>Структурирование капитала</td>\n",
       "      <td>21022.146872</td>\n",
       "      <td>Неизвестно</td>\n",
       "      <td>Port Michellemouth</td>\n",
       "      <td>Alexandra Meyer</td>\n",
       "      <td>cfa21d7e-8499-43d0-9dfb-f4a1b94ce44c</td>\n",
       "      <td>55.0</td>\n",
       "      <td>Женщина</td>\n",
       "      <td>1896001.28</td>\n",
       "      <td>Высокий капитал</td>\n",
       "    </tr>\n",
       "    <tr>\n",
       "      <th>3</th>\n",
       "      <td>421aaf04-c97d-42ac-b35f-09a56bbaf910</td>\n",
       "      <td>3f43d7bc-37f0-4535-8391-51702d6ff81e</td>\n",
       "      <td>2025-03-18 21:00:36</td>\n",
       "      <td>Структурирование капитала</td>\n",
       "      <td>5636.586955</td>\n",
       "      <td>Неизвестно</td>\n",
       "      <td>Bondstad</td>\n",
       "      <td>Melissa Pena</td>\n",
       "      <td>3f43d7bc-37f0-4535-8391-51702d6ff81e</td>\n",
       "      <td>31.0</td>\n",
       "      <td>Мужчина</td>\n",
       "      <td>4865849.92</td>\n",
       "      <td>Высокий капитал</td>\n",
       "    </tr>\n",
       "    <tr>\n",
       "      <th>4</th>\n",
       "      <td>822d5795-4f08-4a7a-9692-7f5863945bdf</td>\n",
       "      <td>900f7d6b-ee7f-49e6-ae9f-e5ea9e04ab4c</td>\n",
       "      <td>2025-02-21 21:50:30</td>\n",
       "      <td>Инвестиционное консультирование</td>\n",
       "      <td>85575.773285</td>\n",
       "      <td>Кредитная карта</td>\n",
       "      <td>West Jaymouth</td>\n",
       "      <td>Harold Gibson</td>\n",
       "      <td>900f7d6b-ee7f-49e6-ae9f-e5ea9e04ab4c</td>\n",
       "      <td>59.0</td>\n",
       "      <td>Женщина</td>\n",
       "      <td>3992281.84</td>\n",
       "      <td>Высокий капитал</td>\n",
       "    </tr>\n",
       "  </tbody>\n",
       "</table>\n",
       "</div>"
      ],
      "text/plain": [
       "                         transaction_id                             client_id  \\\n",
       "0  ff36597c-df41-44a0-9f46-6aa1fe615270  1ec5ab91-fdd0-4925-a221-f0c4e04fe0e7   \n",
       "1  0d5263ec-413d-44d9-a9d3-a996e3a56b05  c940f45c-d29b-439a-8fa3-f75018cef528   \n",
       "2  5e9a8978-df1c-483f-a53b-16149c93f11e  cfa21d7e-8499-43d0-9dfb-f4a1b94ce44c   \n",
       "3  421aaf04-c97d-42ac-b35f-09a56bbaf910  3f43d7bc-37f0-4535-8391-51702d6ff81e   \n",
       "4  822d5795-4f08-4a7a-9692-7f5863945bdf  900f7d6b-ee7f-49e6-ae9f-e5ea9e04ab4c   \n",
       "\n",
       "     transaction_date                          service        amount  \\\n",
       "0 2025-01-04 00:02:20        Структурирование капитала  55838.059789   \n",
       "1 2025-03-10 17:16:50        Структурирование капитала  37514.809209   \n",
       "2 2025-02-13 19:43:49        Структурирование капитала  21022.146872   \n",
       "3 2025-03-18 21:00:36        Структурирование капитала   5636.586955   \n",
       "4 2025-02-21 21:50:30  Инвестиционное консультирование  85575.773285   \n",
       "\n",
       "       payment_method                city       consultant  \\\n",
       "0  Банковский перевод   North Patrickport    Cheryl Waller   \n",
       "1          Неизвестно     New Zacharyport    Frank Pollard   \n",
       "2          Неизвестно  Port Michellemouth  Alexandra Meyer   \n",
       "3          Неизвестно            Bondstad     Melissa Pena   \n",
       "4     Кредитная карта       West Jaymouth    Harold Gibson   \n",
       "\n",
       "                                     id   age   gender   net_worth  \\\n",
       "0  1ec5ab91-fdd0-4925-a221-f0c4e04fe0e7  41.0  Мужчина  2514729.46   \n",
       "1  c940f45c-d29b-439a-8fa3-f75018cef528  28.0  Мужчина   566568.29   \n",
       "2  cfa21d7e-8499-43d0-9dfb-f4a1b94ce44c  55.0  Женщина  1896001.28   \n",
       "3  3f43d7bc-37f0-4535-8391-51702d6ff81e  31.0  Мужчина  4865849.92   \n",
       "4  900f7d6b-ee7f-49e6-ae9f-e5ea9e04ab4c  59.0  Женщина  3992281.84   \n",
       "\n",
       "       asset_level  \n",
       "0  Высокий капитал  \n",
       "1  Средний капитал  \n",
       "2  Высокий капитал  \n",
       "3  Высокий капитал  \n",
       "4  Высокий капитал  "
      ]
     },
     "execution_count": 26,
     "metadata": {},
     "output_type": "execute_result"
    }
   ],
   "source": [
    "def asset_level_f(val):\n",
    "    if val < 10**5:\n",
    "        return \"Низкий капитал\"\n",
    "    elif val < 10 ** 6:\n",
    "        return \"Средний капитал\"\n",
    "    else:\n",
    "        return \"Высокий капитал\"\n",
    "\n",
    "df_merged[\"asset_level\"] = df_merged[\"net_worth\"].apply(asset_level_f)\n",
    "df_merged.head()"
   ]
  },
  {
   "cell_type": "markdown",
   "id": "2dddaf44",
   "metadata": {},
   "source": [
    "##### Провести анализ по уровням активов и определить, какие категории клиентов приносят наибольшую выручку. "
   ]
  },
  {
   "cell_type": "code",
   "execution_count": 27,
   "id": "62f8b00d",
   "metadata": {},
   "outputs": [
    {
     "name": "stdout",
     "output_type": "stream",
     "text": [
      "{'Низкий капитал': 6813887, 'Средний капитал': 65392167, 'Высокий капитал': 326350355}\n",
      "{'Низкий капитал': '1.7%', 'Средний капитал': '16.4%', 'Высокий капитал': '81.9%'}\n"
     ]
    }
   ],
   "source": [
    "dict_amount_assetL_float = df_merged.groupby(\"asset_level\")[\"amount\"].sum().sort_values().to_dict()\n",
    "dict_amount_assetL_int = {key: round(val) for key, val in dict_amount_assetL_float.items()}\n",
    "sum_amount = sum(dict_amount_assetL_int.values())\n",
    "dict_amount_assetL_normalize = {key: f\"{round(val / sum_amount * 100, 1)}%\" for key, val in dict_amount_assetL_int.items()}\n",
    "print(dict_amount_assetL_int)\n",
    "print(dict_amount_assetL_normalize)"
   ]
  },
  {
   "cell_type": "markdown",
   "id": "5e42ffd1",
   "metadata": {},
   "source": [
    "Как мы видим, наибольшую выручку приносят клиенты с высоким капиталом (почти 82%), примерно в 5 раз меньше клиенты со средним капиталом (16.4%) и всего 1.7% клиенты с низким капиталом"
   ]
  },
  {
   "cell_type": "markdown",
   "id": "8f638374",
   "metadata": {},
   "source": [
    "#### 4. Визуализация"
   ]
  },
  {
   "cell_type": "markdown",
   "id": "25b6cd8f",
   "metadata": {},
   "source": [
    "##### Построить распределение сумм транзакций."
   ]
  },
  {
   "cell_type": "code",
   "execution_count": 28,
   "id": "c645eb4d",
   "metadata": {},
   "outputs": [
    {
     "data": {
      "image/png": "[encoded data removed]",
      "text/plain": [
       "<Figure size 800x500 with 1 Axes>"
      ]
     },
     "metadata": {},
     "output_type": "display_data"
    }
   ],
   "source": [
    "plt.figure(figsize= (8, 5))\n",
    "sns.histplot(data = df_merged[\"amount\"], bins = 100, kde=True, color = \"purple\", )\n",
    "plt.ylabel(\"Количество\")\n",
    "plt.xlabel(\"Сумма транзакций\")\n",
    "plt.title(\"Распределение сумм транзакций\")\n",
    "plt.tight_layout()\n",
    "plt.show()"
   ]
  },
  {
   "cell_type": "markdown",
   "id": "4ad90c68",
   "metadata": {},
   "source": [
    "##### Создать диаграмму выручки по услугам."
   ]
  },
  {
   "cell_type": "code",
   "execution_count": 29,
   "id": "db5a0ad9",
   "metadata": {},
   "outputs": [
    {
     "data": {
      "image/png": "[encoded data removed]",
      "text/plain": [
       "<Figure size 800x500 with 1 Axes>"
      ]
     },
     "metadata": {},
     "output_type": "display_data"
    }
   ],
   "source": [
    "data_amount_service = df_merged.groupby('service')['amount'].sum().sort_values(ascending=False)\n",
    "\n",
    "plt.figure(figsize=(8, 5))\n",
    "data_amount_service.plot(kind='bar', color='purple')\n",
    "plt.title('Выручка по услугам')\n",
    "plt.xlabel('Услуга')\n",
    "plt.ylabel('Суммарная выручка')\n",
    "plt.xticks(rotation=45, ha='right')\n",
    "plt.grid(axis='y')\n",
    "plt.tight_layout()\n",
    "plt.show()\n"
   ]
  },
  {
   "cell_type": "markdown",
   "id": "a8842b2a",
   "metadata": {},
   "source": [
    "##### Построить график зависимости средней суммы транзакции от возраста клиентов."
   ]
  },
  {
   "cell_type": "code",
   "execution_count": 30,
   "id": "b9b98f12",
   "metadata": {},
   "outputs": [
    {
     "data": {
      "image/png": "[encoded data removed]",
      "text/plain": [
       "<Figure size 800x500 with 1 Axes>"
      ]
     },
     "metadata": {},
     "output_type": "display_data"
    }
   ],
   "source": [
    "data_amount_age = df_merged.groupby(\"age\")[\"amount\"].mean()\n",
    "\n",
    "plt.figure(figsize=(8, 5))\n",
    "sns.lineplot(x=data_amount_age.index, y=data_amount_age, marker='o', color='coral')\n",
    "plt.title('Зависимость средней суммы транзакции от возраста')\n",
    "plt.xlabel('Возраст')\n",
    "plt.ylabel('Средняя сумма')\n",
    "plt.grid(True)\n",
    "plt.tight_layout()\n",
    "plt.show()\n"
   ]
  },
  {
   "cell_type": "markdown",
   "id": "f143a312",
   "metadata": {},
   "source": [
    "#### 5. Прогнозирование."
   ]
  },
  {
   "cell_type": "markdown",
   "id": "3e62f4fb",
   "metadata": {},
   "source": [
    "Импорт библиотек"
   ]
  },
  {
   "cell_type": "code",
   "execution_count": 31,
   "id": "a076a23e",
   "metadata": {},
   "outputs": [],
   "source": [
    "from xgboost import XGBRegressor\n",
    "from sklearn.model_selection import GridSearchCV\n",
    "from sklearn.model_selection import train_test_split\n",
    "from sklearn.metrics import root_mean_squared_error, mean_squared_error, r2_score, mean_absolute_error\n",
    "import xgboost as xgb\n",
    "from sklearn.preprocessing import StandardScaler, OneHotEncoder\n",
    "from sklearn.compose import ColumnTransformer\n",
    "from sklearn.pipeline import Pipeline\n",
    "from sklearn.linear_model import RidgeCV"
   ]
  },
  {
   "cell_type": "markdown",
   "id": "c4661b2b",
   "metadata": {},
   "source": [
    "##### XGBoost"
   ]
  },
  {
   "cell_type": "markdown",
   "id": "628fbc59",
   "metadata": {},
   "source": [
    "Предобработка данных"
   ]
  },
  {
   "cell_type": "code",
   "execution_count": 32,
   "id": "0b3a1b33",
   "metadata": {},
   "outputs": [],
   "source": [
    "df_merged['week'] = df_merged['transaction_date'].dt.to_period('W').apply(lambda r: r.start_time)\n",
    "df_merged['week_num'] = ((df_merged['week'] - df_merged['week'].min()) // 7).dt.days "
   ]
  },
  {
   "cell_type": "code",
   "execution_count": 33,
   "id": "8fb01dcf",
   "metadata": {},
   "outputs": [
    {
     "data": {
      "text/html": [
       "<div>\n",
       "<style scoped>\n",
       "    .dataframe tbody tr th:only-of-type {\n",
       "        vertical-align: middle;\n",
       "    }\n",
       "\n",
       "    .dataframe tbody tr th {\n",
       "        vertical-align: top;\n",
       "    }\n",
       "\n",
       "    .dataframe thead th {\n",
       "        text-align: right;\n",
       "    }\n",
       "</style>\n",
       "<table border=\"1\" class=\"dataframe\">\n",
       "  <thead>\n",
       "    <tr style=\"text-align: right;\">\n",
       "      <th></th>\n",
       "      <th>service</th>\n",
       "      <th>amount</th>\n",
       "      <th>payment_method</th>\n",
       "      <th>city</th>\n",
       "      <th>consultant</th>\n",
       "      <th>age</th>\n",
       "      <th>gender</th>\n",
       "      <th>net_worth</th>\n",
       "      <th>asset_level</th>\n",
       "      <th>week_num</th>\n",
       "    </tr>\n",
       "  </thead>\n",
       "  <tbody>\n",
       "    <tr>\n",
       "      <th>0</th>\n",
       "      <td>Структурирование капитала</td>\n",
       "      <td>55838.059789</td>\n",
       "      <td>Банковский перевод</td>\n",
       "      <td>North Patrickport</td>\n",
       "      <td>Cheryl Waller</td>\n",
       "      <td>41.0</td>\n",
       "      <td>Мужчина</td>\n",
       "      <td>2514729.46</td>\n",
       "      <td>Высокий капитал</td>\n",
       "      <td>0</td>\n",
       "    </tr>\n",
       "    <tr>\n",
       "      <th>1</th>\n",
       "      <td>Структурирование капитала</td>\n",
       "      <td>37514.809209</td>\n",
       "      <td>Неизвестно</td>\n",
       "      <td>New Zacharyport</td>\n",
       "      <td>Frank Pollard</td>\n",
       "      <td>28.0</td>\n",
       "      <td>Мужчина</td>\n",
       "      <td>566568.29</td>\n",
       "      <td>Средний капитал</td>\n",
       "      <td>10</td>\n",
       "    </tr>\n",
       "    <tr>\n",
       "      <th>2</th>\n",
       "      <td>Структурирование капитала</td>\n",
       "      <td>21022.146872</td>\n",
       "      <td>Неизвестно</td>\n",
       "      <td>Port Michellemouth</td>\n",
       "      <td>Alexandra Meyer</td>\n",
       "      <td>55.0</td>\n",
       "      <td>Женщина</td>\n",
       "      <td>1896001.28</td>\n",
       "      <td>Высокий капитал</td>\n",
       "      <td>6</td>\n",
       "    </tr>\n",
       "    <tr>\n",
       "      <th>3</th>\n",
       "      <td>Структурирование капитала</td>\n",
       "      <td>5636.586955</td>\n",
       "      <td>Неизвестно</td>\n",
       "      <td>Bondstad</td>\n",
       "      <td>Melissa Pena</td>\n",
       "      <td>31.0</td>\n",
       "      <td>Мужчина</td>\n",
       "      <td>4865849.92</td>\n",
       "      <td>Высокий капитал</td>\n",
       "      <td>11</td>\n",
       "    </tr>\n",
       "    <tr>\n",
       "      <th>4</th>\n",
       "      <td>Инвестиционное консультирование</td>\n",
       "      <td>85575.773285</td>\n",
       "      <td>Кредитная карта</td>\n",
       "      <td>West Jaymouth</td>\n",
       "      <td>Harold Gibson</td>\n",
       "      <td>59.0</td>\n",
       "      <td>Женщина</td>\n",
       "      <td>3992281.84</td>\n",
       "      <td>Высокий капитал</td>\n",
       "      <td>7</td>\n",
       "    </tr>\n",
       "  </tbody>\n",
       "</table>\n",
       "</div>"
      ],
      "text/plain": [
       "                           service        amount      payment_method  \\\n",
       "0        Структурирование капитала  55838.059789  Банковский перевод   \n",
       "1        Структурирование капитала  37514.809209          Неизвестно   \n",
       "2        Структурирование капитала  21022.146872          Неизвестно   \n",
       "3        Структурирование капитала   5636.586955          Неизвестно   \n",
       "4  Инвестиционное консультирование  85575.773285     Кредитная карта   \n",
       "\n",
       "                 city       consultant   age   gender   net_worth  \\\n",
       "0   North Patrickport    Cheryl Waller  41.0  Мужчина  2514729.46   \n",
       "1     New Zacharyport    Frank Pollard  28.0  Мужчина   566568.29   \n",
       "2  Port Michellemouth  Alexandra Meyer  55.0  Женщина  1896001.28   \n",
       "3            Bondstad     Melissa Pena  31.0  Мужчина  4865849.92   \n",
       "4       West Jaymouth    Harold Gibson  59.0  Женщина  3992281.84   \n",
       "\n",
       "       asset_level  week_num  \n",
       "0  Высокий капитал         0  \n",
       "1  Средний капитал        10  \n",
       "2  Высокий капитал         6  \n",
       "3  Высокий капитал        11  \n",
       "4  Высокий капитал         7  "
      ]
     },
     "execution_count": 33,
     "metadata": {},
     "output_type": "execute_result"
    }
   ],
   "source": [
    "df = df_merged.drop(columns=[\"transaction_id\", \"client_id\", \"id\", \"transaction_date\",'week'])\n",
    "df.head()"
   ]
  },
  {
   "cell_type": "markdown",
   "id": "be280621",
   "metadata": {},
   "source": [
    "Агрегация по неделям"
   ]
  },
  {
   "cell_type": "code",
   "execution_count": 34,
   "id": "b7882a92",
   "metadata": {},
   "outputs": [],
   "source": [
    "weekly_df = df.groupby('week_num').agg({\n",
    "    'amount': 'sum',\n",
    "}).reset_index()\n"
   ]
  },
  {
   "cell_type": "markdown",
   "id": "ce3b5628",
   "metadata": {},
   "source": [
    "Добавим новый признак"
   ]
  },
  {
   "cell_type": "code",
   "execution_count": 35,
   "id": "debbfa4d",
   "metadata": {},
   "outputs": [
    {
     "data": {
      "text/html": [
       "<div>\n",
       "<style scoped>\n",
       "    .dataframe tbody tr th:only-of-type {\n",
       "        vertical-align: middle;\n",
       "    }\n",
       "\n",
       "    .dataframe tbody tr th {\n",
       "        vertical-align: top;\n",
       "    }\n",
       "\n",
       "    .dataframe thead th {\n",
       "        text-align: right;\n",
       "    }\n",
       "</style>\n",
       "<table border=\"1\" class=\"dataframe\">\n",
       "  <thead>\n",
       "    <tr style=\"text-align: right;\">\n",
       "      <th></th>\n",
       "      <th>week_num</th>\n",
       "      <th>amount</th>\n",
       "      <th>rolling_avg_3</th>\n",
       "    </tr>\n",
       "  </thead>\n",
       "  <tbody>\n",
       "    <tr>\n",
       "      <th>0</th>\n",
       "      <td>0</td>\n",
       "      <td>2.776247e+07</td>\n",
       "      <td>NaN</td>\n",
       "    </tr>\n",
       "    <tr>\n",
       "      <th>1</th>\n",
       "      <td>1</td>\n",
       "      <td>3.636688e+07</td>\n",
       "      <td>NaN</td>\n",
       "    </tr>\n",
       "    <tr>\n",
       "      <th>2</th>\n",
       "      <td>2</td>\n",
       "      <td>3.473609e+07</td>\n",
       "      <td>3.295514e+07</td>\n",
       "    </tr>\n",
       "    <tr>\n",
       "      <th>3</th>\n",
       "      <td>3</td>\n",
       "      <td>3.323457e+07</td>\n",
       "      <td>3.477918e+07</td>\n",
       "    </tr>\n",
       "    <tr>\n",
       "      <th>4</th>\n",
       "      <td>4</td>\n",
       "      <td>3.708830e+07</td>\n",
       "      <td>3.501965e+07</td>\n",
       "    </tr>\n",
       "  </tbody>\n",
       "</table>\n",
       "</div>"
      ],
      "text/plain": [
       "   week_num        amount  rolling_avg_3\n",
       "0         0  2.776247e+07            NaN\n",
       "1         1  3.636688e+07            NaN\n",
       "2         2  3.473609e+07   3.295514e+07\n",
       "3         3  3.323457e+07   3.477918e+07\n",
       "4         4  3.708830e+07   3.501965e+07"
      ]
     },
     "execution_count": 35,
     "metadata": {},
     "output_type": "execute_result"
    }
   ],
   "source": [
    "weekly_df['rolling_avg_3'] = weekly_df['amount'].rolling(window=3).mean()\n",
    "\n",
    "weekly_df.head()"
   ]
  },
  {
   "cell_type": "markdown",
   "id": "f7d84cf5",
   "metadata": {},
   "source": [
    "Создание лагов"
   ]
  },
  {
   "cell_type": "code",
   "execution_count": 36,
   "id": "caf61475",
   "metadata": {},
   "outputs": [
    {
     "name": "stderr",
     "output_type": "stream",
     "text": [
      "C:\\Users\\Alexey\\AppData\\Local\\Temp\\ipykernel_10300\\2038913948.py:5: FutureWarning: DataFrame.fillna with 'method' is deprecated and will raise in a future version. Use obj.ffill() or obj.bfill() instead.\n",
      "  weekly_df.fillna(method='bfill', inplace=True)\n"
     ]
    },
    {
     "data": {
      "text/html": [
       "<div>\n",
       "<style scoped>\n",
       "    .dataframe tbody tr th:only-of-type {\n",
       "        vertical-align: middle;\n",
       "    }\n",
       "\n",
       "    .dataframe tbody tr th {\n",
       "        vertical-align: top;\n",
       "    }\n",
       "\n",
       "    .dataframe thead th {\n",
       "        text-align: right;\n",
       "    }\n",
       "</style>\n",
       "<table border=\"1\" class=\"dataframe\">\n",
       "  <thead>\n",
       "    <tr style=\"text-align: right;\">\n",
       "      <th></th>\n",
       "      <th>week_num</th>\n",
       "      <th>amount</th>\n",
       "      <th>rolling_avg_3</th>\n",
       "      <th>amount_lag_1</th>\n",
       "      <th>rolling_avg_3_lag_1</th>\n",
       "      <th>amount_lag_2</th>\n",
       "      <th>rolling_avg_3_lag_2</th>\n",
       "      <th>amount_lag_3</th>\n",
       "      <th>rolling_avg_3_lag_3</th>\n",
       "    </tr>\n",
       "  </thead>\n",
       "  <tbody>\n",
       "    <tr>\n",
       "      <th>0</th>\n",
       "      <td>0</td>\n",
       "      <td>2.776247e+07</td>\n",
       "      <td>3.295514e+07</td>\n",
       "      <td>2.776247e+07</td>\n",
       "      <td>3.295514e+07</td>\n",
       "      <td>2.776247e+07</td>\n",
       "      <td>3.295514e+07</td>\n",
       "      <td>2.776247e+07</td>\n",
       "      <td>3.295514e+07</td>\n",
       "    </tr>\n",
       "    <tr>\n",
       "      <th>1</th>\n",
       "      <td>1</td>\n",
       "      <td>3.636688e+07</td>\n",
       "      <td>3.295514e+07</td>\n",
       "      <td>2.776247e+07</td>\n",
       "      <td>3.295514e+07</td>\n",
       "      <td>2.776247e+07</td>\n",
       "      <td>3.295514e+07</td>\n",
       "      <td>2.776247e+07</td>\n",
       "      <td>3.295514e+07</td>\n",
       "    </tr>\n",
       "    <tr>\n",
       "      <th>2</th>\n",
       "      <td>2</td>\n",
       "      <td>3.473609e+07</td>\n",
       "      <td>3.295514e+07</td>\n",
       "      <td>3.636688e+07</td>\n",
       "      <td>3.295514e+07</td>\n",
       "      <td>2.776247e+07</td>\n",
       "      <td>3.295514e+07</td>\n",
       "      <td>2.776247e+07</td>\n",
       "      <td>3.295514e+07</td>\n",
       "    </tr>\n",
       "    <tr>\n",
       "      <th>3</th>\n",
       "      <td>3</td>\n",
       "      <td>3.323457e+07</td>\n",
       "      <td>3.477918e+07</td>\n",
       "      <td>3.473609e+07</td>\n",
       "      <td>3.295514e+07</td>\n",
       "      <td>3.636688e+07</td>\n",
       "      <td>3.295514e+07</td>\n",
       "      <td>2.776247e+07</td>\n",
       "      <td>3.295514e+07</td>\n",
       "    </tr>\n",
       "    <tr>\n",
       "      <th>4</th>\n",
       "      <td>4</td>\n",
       "      <td>3.708830e+07</td>\n",
       "      <td>3.501965e+07</td>\n",
       "      <td>3.323457e+07</td>\n",
       "      <td>3.477918e+07</td>\n",
       "      <td>3.473609e+07</td>\n",
       "      <td>3.295514e+07</td>\n",
       "      <td>3.636688e+07</td>\n",
       "      <td>3.295514e+07</td>\n",
       "    </tr>\n",
       "    <tr>\n",
       "      <th>5</th>\n",
       "      <td>5</td>\n",
       "      <td>3.469753e+07</td>\n",
       "      <td>3.500680e+07</td>\n",
       "      <td>3.708830e+07</td>\n",
       "      <td>3.501965e+07</td>\n",
       "      <td>3.323457e+07</td>\n",
       "      <td>3.477918e+07</td>\n",
       "      <td>3.473609e+07</td>\n",
       "      <td>3.295514e+07</td>\n",
       "    </tr>\n",
       "    <tr>\n",
       "      <th>6</th>\n",
       "      <td>6</td>\n",
       "      <td>3.503931e+07</td>\n",
       "      <td>3.560838e+07</td>\n",
       "      <td>3.469753e+07</td>\n",
       "      <td>3.500680e+07</td>\n",
       "      <td>3.708830e+07</td>\n",
       "      <td>3.501965e+07</td>\n",
       "      <td>3.323457e+07</td>\n",
       "      <td>3.477918e+07</td>\n",
       "    </tr>\n",
       "    <tr>\n",
       "      <th>7</th>\n",
       "      <td>7</td>\n",
       "      <td>3.451411e+07</td>\n",
       "      <td>3.475032e+07</td>\n",
       "      <td>3.503931e+07</td>\n",
       "      <td>3.560838e+07</td>\n",
       "      <td>3.469753e+07</td>\n",
       "      <td>3.500680e+07</td>\n",
       "      <td>3.708830e+07</td>\n",
       "      <td>3.501965e+07</td>\n",
       "    </tr>\n",
       "    <tr>\n",
       "      <th>8</th>\n",
       "      <td>8</td>\n",
       "      <td>3.478562e+07</td>\n",
       "      <td>3.477968e+07</td>\n",
       "      <td>3.451411e+07</td>\n",
       "      <td>3.475032e+07</td>\n",
       "      <td>3.503931e+07</td>\n",
       "      <td>3.560838e+07</td>\n",
       "      <td>3.469753e+07</td>\n",
       "      <td>3.500680e+07</td>\n",
       "    </tr>\n",
       "    <tr>\n",
       "      <th>9</th>\n",
       "      <td>9</td>\n",
       "      <td>3.537068e+07</td>\n",
       "      <td>3.489014e+07</td>\n",
       "      <td>3.478562e+07</td>\n",
       "      <td>3.477968e+07</td>\n",
       "      <td>3.451411e+07</td>\n",
       "      <td>3.475032e+07</td>\n",
       "      <td>3.503931e+07</td>\n",
       "      <td>3.560838e+07</td>\n",
       "    </tr>\n",
       "  </tbody>\n",
       "</table>\n",
       "</div>"
      ],
      "text/plain": [
       "   week_num        amount  rolling_avg_3  amount_lag_1  rolling_avg_3_lag_1  \\\n",
       "0         0  2.776247e+07   3.295514e+07  2.776247e+07         3.295514e+07   \n",
       "1         1  3.636688e+07   3.295514e+07  2.776247e+07         3.295514e+07   \n",
       "2         2  3.473609e+07   3.295514e+07  3.636688e+07         3.295514e+07   \n",
       "3         3  3.323457e+07   3.477918e+07  3.473609e+07         3.295514e+07   \n",
       "4         4  3.708830e+07   3.501965e+07  3.323457e+07         3.477918e+07   \n",
       "5         5  3.469753e+07   3.500680e+07  3.708830e+07         3.501965e+07   \n",
       "6         6  3.503931e+07   3.560838e+07  3.469753e+07         3.500680e+07   \n",
       "7         7  3.451411e+07   3.475032e+07  3.503931e+07         3.560838e+07   \n",
       "8         8  3.478562e+07   3.477968e+07  3.451411e+07         3.475032e+07   \n",
       "9         9  3.537068e+07   3.489014e+07  3.478562e+07         3.477968e+07   \n",
       "\n",
       "   amount_lag_2  rolling_avg_3_lag_2  amount_lag_3  rolling_avg_3_lag_3  \n",
       "0  2.776247e+07         3.295514e+07  2.776247e+07         3.295514e+07  \n",
       "1  2.776247e+07         3.295514e+07  2.776247e+07         3.295514e+07  \n",
       "2  2.776247e+07         3.295514e+07  2.776247e+07         3.295514e+07  \n",
       "3  3.636688e+07         3.295514e+07  2.776247e+07         3.295514e+07  \n",
       "4  3.473609e+07         3.295514e+07  3.636688e+07         3.295514e+07  \n",
       "5  3.323457e+07         3.477918e+07  3.473609e+07         3.295514e+07  \n",
       "6  3.708830e+07         3.501965e+07  3.323457e+07         3.477918e+07  \n",
       "7  3.469753e+07         3.500680e+07  3.708830e+07         3.501965e+07  \n",
       "8  3.503931e+07         3.560838e+07  3.469753e+07         3.500680e+07  \n",
       "9  3.451411e+07         3.475032e+07  3.503931e+07         3.560838e+07  "
      ]
     },
     "execution_count": 36,
     "metadata": {},
     "output_type": "execute_result"
    }
   ],
   "source": [
    "for lag in [1, 2, 3]:\n",
    "    weekly_df[f'amount_lag_{lag}'] = weekly_df['amount'].shift(lag)\n",
    "    weekly_df[f'rolling_avg_3_lag_{lag}'] = weekly_df['rolling_avg_3'].shift(lag)\n",
    "\n",
    "weekly_df.fillna(method='bfill', inplace=True)\n",
    "\n",
    "weekly_df.head(10)"
   ]
  },
  {
   "cell_type": "markdown",
   "id": "c081fabf",
   "metadata": {},
   "source": [
    "Разделение данных"
   ]
  },
  {
   "cell_type": "code",
   "execution_count": 37,
   "id": "ab7c39b3",
   "metadata": {},
   "outputs": [],
   "source": [
    "X = weekly_df.drop(columns=[\"amount\", ])\n",
    "Y = weekly_df['amount']\n",
    "\n",
    "X_train, X_test, y_train, y_test = train_test_split(X, Y, test_size=0.1, shuffle=False)"
   ]
  },
  {
   "cell_type": "markdown",
   "id": "3fb720bd",
   "metadata": {},
   "source": [
    "Обучение модели "
   ]
  },
  {
   "cell_type": "code",
   "execution_count": 38,
   "id": "6767750e",
   "metadata": {},
   "outputs": [],
   "source": [
    "model = XGBRegressor(random_state = 45, learning_rate = 0.01)\n",
    "\n",
    "param_grid = {\n",
    "    \"min_child_weight\": [3, 4, 5],\n",
    "    \"n_estimators\": [40, 80, 100, 350, 500],\n",
    "    \"max_depth\": [3, 5, 7],\n",
    "    \"alpha\": [0.1]\n",
    "}\n",
    "\n",
    "GS = GridSearchCV(model, param_grid, cv = 3, scoring=\"neg_root_mean_squared_error\", n_jobs=-1)\n",
    "\n",
    "GS.fit(X_train, y_train)\n",
    "\n",
    "modelXGB = GS.best_estimator_"
   ]
  },
  {
   "cell_type": "code",
   "execution_count": 39,
   "id": "874df435",
   "metadata": {},
   "outputs": [
    {
     "name": "stdout",
     "output_type": "stream",
     "text": [
      "Лучшие параметры: {'alpha': 0.1, 'max_depth': 3, 'min_child_weight': 3, 'n_estimators': 40}\n"
     ]
    }
   ],
   "source": [
    "print(\"Лучшие параметры:\", GS.best_params_) # для справки"
   ]
  },
  {
   "cell_type": "markdown",
   "id": "283fd563",
   "metadata": {},
   "source": [
    "Оценка модели"
   ]
  },
  {
   "cell_type": "code",
   "execution_count": 40,
   "id": "524a144a",
   "metadata": {},
   "outputs": [
    {
     "name": "stdout",
     "output_type": "stream",
     "text": [
      "R2: -0.52\n",
      "RMSE: 12029962.97\n"
     ]
    }
   ],
   "source": [
    "y_pred = modelXGB.predict(X_test)\n",
    "\n",
    "r2 = r2_score(y_test, y_pred)\n",
    "rmse = root_mean_squared_error(y_test, y_pred)\n",
    "\n",
    "print(f\"R2: {r2:.2f}\")\n",
    "print(f\"RMSE: {rmse:.2f}\")"
   ]
  },
  {
   "cell_type": "code",
   "execution_count": 41,
   "id": "ef88b0be",
   "metadata": {},
   "outputs": [
    {
     "data": {
      "text/html": [
       "<div>\n",
       "<style scoped>\n",
       "    .dataframe tbody tr th:only-of-type {\n",
       "        vertical-align: middle;\n",
       "    }\n",
       "\n",
       "    .dataframe tbody tr th {\n",
       "        vertical-align: top;\n",
       "    }\n",
       "\n",
       "    .dataframe thead th {\n",
       "        text-align: right;\n",
       "    }\n",
       "</style>\n",
       "<table border=\"1\" class=\"dataframe\">\n",
       "  <thead>\n",
       "    <tr style=\"text-align: right;\">\n",
       "      <th></th>\n",
       "      <th>Feature</th>\n",
       "      <th>Persentage importance</th>\n",
       "    </tr>\n",
       "  </thead>\n",
       "  <tbody>\n",
       "    <tr>\n",
       "      <th>0</th>\n",
       "      <td>week_num</td>\n",
       "      <td>88.145355</td>\n",
       "    </tr>\n",
       "    <tr>\n",
       "      <th>1</th>\n",
       "      <td>rolling_avg_3</td>\n",
       "      <td>0.000000</td>\n",
       "    </tr>\n",
       "    <tr>\n",
       "      <th>2</th>\n",
       "      <td>amount_lag_1</td>\n",
       "      <td>0.000000</td>\n",
       "    </tr>\n",
       "    <tr>\n",
       "      <th>3</th>\n",
       "      <td>rolling_avg_3_lag_1</td>\n",
       "      <td>6.189588</td>\n",
       "    </tr>\n",
       "    <tr>\n",
       "      <th>4</th>\n",
       "      <td>amount_lag_2</td>\n",
       "      <td>0.000000</td>\n",
       "    </tr>\n",
       "    <tr>\n",
       "      <th>5</th>\n",
       "      <td>rolling_avg_3_lag_2</td>\n",
       "      <td>5.665050</td>\n",
       "    </tr>\n",
       "    <tr>\n",
       "      <th>6</th>\n",
       "      <td>amount_lag_3</td>\n",
       "      <td>0.000000</td>\n",
       "    </tr>\n",
       "    <tr>\n",
       "      <th>7</th>\n",
       "      <td>rolling_avg_3_lag_3</td>\n",
       "      <td>0.000000</td>\n",
       "    </tr>\n",
       "  </tbody>\n",
       "</table>\n",
       "</div>"
      ],
      "text/plain": [
       "               Feature  Persentage importance\n",
       "0             week_num              88.145355\n",
       "1        rolling_avg_3               0.000000\n",
       "2         amount_lag_1               0.000000\n",
       "3  rolling_avg_3_lag_1               6.189588\n",
       "4         amount_lag_2               0.000000\n",
       "5  rolling_avg_3_lag_2               5.665050\n",
       "6         amount_lag_3               0.000000\n",
       "7  rolling_avg_3_lag_3               0.000000"
      ]
     },
     "execution_count": 41,
     "metadata": {},
     "output_type": "execute_result"
    }
   ],
   "source": [
    "coef = modelXGB.feature_importances_ * 100\n",
    "table_coef = pd.DataFrame({\n",
    "    'Feature': X_train.columns.tolist(),\n",
    "    'Persentage importance': coef\n",
    "})\n",
    "table_coef"
   ]
  },
  {
   "cell_type": "markdown",
   "id": "2a199935",
   "metadata": {},
   "source": [
    "Я довольно много игрался с различными признаками, и различными подходами к обучению XGBoost, но всегда большинство признаков зануляется и всегда модель выдает слабый результат, я оставлю последнюю попытку, и теперь попробую линейную модель."
   ]
  },
  {
   "cell_type": "markdown",
   "id": "f6c919d3",
   "metadata": {},
   "source": [
    "##### Линейная модель"
   ]
  },
  {
   "cell_type": "code",
   "execution_count": 42,
   "id": "4f83ba0a",
   "metadata": {},
   "outputs": [
    {
     "data": {
      "text/plain": [
       "service              0\n",
       "amount               0\n",
       "payment_method       0\n",
       "city                 0\n",
       "consultant           0\n",
       "age                833\n",
       "gender            2699\n",
       "net_worth          391\n",
       "asset_level          0\n",
       "week_num             0\n",
       "dtype: int64"
      ]
     },
     "execution_count": 42,
     "metadata": {},
     "output_type": "execute_result"
    }
   ],
   "source": [
    "df.isnull().sum()"
   ]
  },
  {
   "cell_type": "markdown",
   "id": "a7cc832f",
   "metadata": {},
   "source": [
    "Избавимся от Nan значений"
   ]
  },
  {
   "cell_type": "code",
   "execution_count": 43,
   "id": "4f83ba0a",
   "metadata": {},
   "outputs": [
    {
     "data": {
      "text/plain": [
       "service           0\n",
       "amount            0\n",
       "payment_method    0\n",
       "city              0\n",
       "consultant        0\n",
       "age               0\n",
       "gender            0\n",
       "net_worth         0\n",
       "asset_level       0\n",
       "week_num          0\n",
       "dtype: int64"
      ]
     },
     "execution_count": 43,
     "metadata": {},
     "output_type": "execute_result"
    }
   ],
   "source": [
    "df[\"age\"] = df[\"age\"].fillna(df[\"age\"].mean())\n",
    "df[\"net_worth\"] = df[\"net_worth\"].fillna(df[\"net_worth\"].mean())\n",
    "df[\"gender\"] = df[\"gender\"].fillna('Unknown')\n",
    "\n",
    "df.isnull().sum()"
   ]
  },
  {
   "cell_type": "markdown",
   "id": "615538b0",
   "metadata": {},
   "source": [
    "Обработаем категориальные и числовые признаки, сгруппировав их по неделям."
   ]
  },
  {
   "cell_type": "code",
   "execution_count": 44,
   "id": "aa121615",
   "metadata": {},
   "outputs": [],
   "source": [
    "categorical_cols = ['service', 'payment_method', 'gender', 'asset_level']\n",
    "\n",
    "df_cats = pd.get_dummies(df[categorical_cols + ['week_num']], columns=categorical_cols)\n",
    "\n",
    "cat_counts = df_cats.groupby('week_num').sum().reset_index()\n",
    "num_agg = df.groupby('week_num').agg({\n",
    "    'amount': 'sum',\n",
    "    'age': 'mean',\n",
    "    'net_worth': 'mean',\n",
    "}).reset_index()\n",
    "\n",
    "weekly_df = pd.merge(num_agg, cat_counts, on='week_num', how='left')"
   ]
  },
  {
   "cell_type": "code",
   "execution_count": 45,
   "id": "3e80dcbb",
   "metadata": {},
   "outputs": [],
   "source": [
    "X = weekly_df.drop(columns=[\"amount\", ])\n",
    "y = weekly_df[\"amount\"]\n",
    "\n",
    "X_train, X_test, y_train, y_test = train_test_split(X, y, test_size=0.2, random_state=42)\n"
   ]
  },
  {
   "cell_type": "code",
   "execution_count": null,
   "id": "cbc8b5f5",
   "metadata": {},
   "outputs": [
    {
     "name": "stdout",
     "output_type": "stream",
     "text": [
      "RMSE: 1727578.28\n",
      "R2: 0.82\n"
     ]
    }
   ],
   "source": [
    "numerical_transformer = StandardScaler()\n",
    "\n",
    "preprocessor = ColumnTransformer(\n",
    "    transformers=[\n",
    "        (\"columns\", StandardScaler(), X_train.columns),\n",
    "    ]\n",
    ")\n",
    "\n",
    "model = Pipeline(steps=[\n",
    "    (\"preprocessor\", preprocessor),\n",
    "    (\"model\", RidgeCV(alphas=[0.1, 1.0, 10.0]))\n",
    "])\n",
    "\n",
    "model.fit(X_train, y_train)\n",
    "\n",
    "y_pred = model.predict(X_test)\n",
    "\n",
    "rmse = root_mean_squared_error(y_test, y_pred)\n",
    "r2 = r2_score(y_test, y_pred)\n",
    "\n",
    "print(f\"RMSE: {rmse:.2f}\")\n",
    "print(f\"R2: {r2:.2f}\")\n"
   ]
  },
  {
   "cell_type": "markdown",
   "id": "121a25ec",
   "metadata": {},
   "source": [
    "Выдает намного более хороший результат в сравнении с XGBoost, посмотрим для справки коеффициенты признаков модели, а потом примимся за предсказания"
   ]
  },
  {
   "cell_type": "code",
   "execution_count": 47,
   "id": "209088ed",
   "metadata": {},
   "outputs": [
    {
     "name": "stdout",
     "output_type": "stream",
     "text": [
      "                                    Feature  Coefficient\n",
      "15                           gender_Женщина    45.767572\n",
      "0                                  week_num   -44.832543\n",
      "10           payment_method_Кредитная карта    41.551161\n",
      "17              asset_level_Высокий капитал    39.468096\n",
      "6         service_Структурирование капитала    39.177961\n",
      "8           service_Финансовое планирование    38.959594\n",
      "9         payment_method_Банковский перевод    37.831060\n",
      "2                                 net_worth    34.135029\n",
      "18               asset_level_Низкий капитал    33.404971\n",
      "5                service_Неизвестная услуга    32.814529\n",
      "3   service_Инвестиционное консультирование    32.631055\n",
      "14                           gender_Unknown    29.363606\n",
      "16                           gender_Мужчина    29.254129\n",
      "7               service_Управление активами    23.593870\n",
      "4            service_Налоговое планирование    22.348678\n",
      "12                  payment_method_Наличные    19.515162\n",
      "11              payment_method_Криптовалюта    17.889712\n",
      "13                payment_method_Неизвестно    15.354931\n",
      "1                                       age    -7.591942\n",
      "19              asset_level_Средний капитал     5.146501\n"
     ]
    }
   ],
   "source": [
    "coefficients = model.named_steps['model'].coef_ / 10000\n",
    "\n",
    "coef_df = pd.DataFrame({\n",
    "    'Feature': X_train.columns,\n",
    "    'Coefficient': coefficients\n",
    "}).sort_values(by='Coefficient', key=abs, ascending=False)\n",
    "\n",
    "print(coef_df)\n"
   ]
  },
  {
   "cell_type": "markdown",
   "id": "667a55d0",
   "metadata": {},
   "source": [
    "Визуализация"
   ]
  },
  {
   "cell_type": "code",
   "execution_count": 55,
   "id": "6d3beb70",
   "metadata": {},
   "outputs": [
    {
     "data": {
      "image/png": "[encoded data removed]",
      "text/plain": [
       "<Figure size 1200x600 with 1 Axes>"
      ]
     },
     "metadata": {},
     "output_type": "display_data"
    }
   ],
   "source": [
    "y_train_pred = model.predict(X_train)\n",
    "y_test_pred = model.predict(X_test)\n",
    "\n",
    "# График\n",
    "plt.figure(figsize=(12, 6))\n",
    "\n",
    "# Обучение — синий\n",
    "plt.plot(X_train['week_num'], y_train, 'o', label='Train Actual', alpha=0.4, color='skyblue')\n",
    "plt.plot(X_train['week_num'], y_train_pred, 'o', label='Train Predicted', color='blue')\n",
    "\n",
    "# Тест — красный\n",
    "plt.plot(X_test['week_num'], y_test, 'o', label='Test Actual', alpha=0.4, color='salmon')\n",
    "plt.plot(X_test['week_num'], y_test_pred, 'o', label='Test Predicted', color='red')\n",
    "\n",
    "# Оформление\n",
    "plt.xlabel(\"Номер недели\")\n",
    "plt.ylabel(\"Выручка\")\n",
    "plt.title(\"Прогноз Amount по неделям\")\n",
    "plt.legend()\n",
    "plt.grid(True)\n",
    "plt.tight_layout()\n",
    "plt.show()"
   ]
  }
 ],
 "metadata": {
  "kernelspec": {
   "display_name": "Python 3",
   "language": "python",
   "name": "python3"
  },
  "language_info": {
   "codemirror_mode": {
    "name": "ipython",
    "version": 3
   },
   "file_extension": ".py",
   "mimetype": "text/x-python",
   "name": "python",
   "nbconvert_exporter": "python",
   "pygments_lexer": "ipython3",
   "version": "3.11.2"
  }
 },
 "nbformat": 4,
 "nbformat_minor": 5
}
