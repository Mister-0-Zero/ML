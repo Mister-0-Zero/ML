{
 "cells": [
  {
   "cell_type": "code",
   "execution_count": 239,
   "id": "84273a97",
   "metadata": {},
   "outputs": [],
   "source": [
    "import pandas as pd\n",
    "import numpy as np\n",
    "from datetime import datetime, timedelta\n",
    "import matplotlib.pyplot as plt\n",
    "import seaborn as sns"
   ]
  },
  {
   "cell_type": "markdown",
   "id": "bbe7bdaf",
   "metadata": {},
   "source": [
    "## Чтение и знакомство с данными"
   ]
  },
  {
   "cell_type": "code",
   "execution_count": 240,
   "id": "d8be64d6",
   "metadata": {},
   "outputs": [
    {
     "data": {
      "text/html": [
       "<div>\n",
       "<style scoped>\n",
       "    .dataframe tbody tr th:only-of-type {\n",
       "        vertical-align: middle;\n",
       "    }\n",
       "\n",
       "    .dataframe tbody tr th {\n",
       "        vertical-align: top;\n",
       "    }\n",
       "\n",
       "    .dataframe thead th {\n",
       "        text-align: right;\n",
       "    }\n",
       "</style>\n",
       "<table border=\"1\" class=\"dataframe\">\n",
       "  <thead>\n",
       "    <tr style=\"text-align: right;\">\n",
       "      <th></th>\n",
       "      <th>transaction_id</th>\n",
       "      <th>client_id</th>\n",
       "      <th>transaction_date</th>\n",
       "      <th>service</th>\n",
       "      <th>amount</th>\n",
       "      <th>payment_method</th>\n",
       "      <th>city</th>\n",
       "      <th>consultant</th>\n",
       "    </tr>\n",
       "  </thead>\n",
       "  <tbody>\n",
       "    <tr>\n",
       "      <th>0</th>\n",
       "      <td>ff36597c-df41-44a0-9f46-6aa1fe615270</td>\n",
       "      <td>1ec5ab91-fdd0-4925-a221-f0c4e04fe0e7</td>\n",
       "      <td>2025-01-04 00:02:20</td>\n",
       "      <td>Структурирование капитала</td>\n",
       "      <td>55838.059789</td>\n",
       "      <td>Банковский перевод</td>\n",
       "      <td>North Patrickport</td>\n",
       "      <td>Cheryl Waller</td>\n",
       "    </tr>\n",
       "    <tr>\n",
       "      <th>1</th>\n",
       "      <td>0d5263ec-413d-44d9-a9d3-a996e3a56b05</td>\n",
       "      <td>c940f45c-d29b-439a-8fa3-f75018cef528</td>\n",
       "      <td>2025-03-10 17:16:50</td>\n",
       "      <td>Структурирование капитала</td>\n",
       "      <td>37514.809209</td>\n",
       "      <td>Неизвестно</td>\n",
       "      <td>New Zacharyport</td>\n",
       "      <td>Frank Pollard</td>\n",
       "    </tr>\n",
       "    <tr>\n",
       "      <th>2</th>\n",
       "      <td>5e9a8978-df1c-483f-a53b-16149c93f11e</td>\n",
       "      <td>cfa21d7e-8499-43d0-9dfb-f4a1b94ce44c</td>\n",
       "      <td>2025-02-13 19:43:49</td>\n",
       "      <td>Структурирование капитала</td>\n",
       "      <td>21022.146872</td>\n",
       "      <td>Неизвестно</td>\n",
       "      <td>Port Michellemouth</td>\n",
       "      <td>Alexandra Meyer</td>\n",
       "    </tr>\n",
       "    <tr>\n",
       "      <th>3</th>\n",
       "      <td>524031ea-56e2-410a-aee2-e8fc6ae3fbc5</td>\n",
       "      <td>NaN</td>\n",
       "      <td>2025-03-02 03:14:10</td>\n",
       "      <td>Финансовое планирование</td>\n",
       "      <td>2313.980219</td>\n",
       "      <td>Неизвестно</td>\n",
       "      <td>Erichaven</td>\n",
       "      <td>Patricia Haas</td>\n",
       "    </tr>\n",
       "    <tr>\n",
       "      <th>4</th>\n",
       "      <td>421aaf04-c97d-42ac-b35f-09a56bbaf910</td>\n",
       "      <td>3f43d7bc-37f0-4535-8391-51702d6ff81e</td>\n",
       "      <td>2025-03-18 21:00:36</td>\n",
       "      <td>Структурирование капитала</td>\n",
       "      <td>5636.586955</td>\n",
       "      <td>Неизвестно</td>\n",
       "      <td>Bondstad</td>\n",
       "      <td>Melissa Pena</td>\n",
       "    </tr>\n",
       "  </tbody>\n",
       "</table>\n",
       "</div>"
      ],
      "text/plain": [
       "                         transaction_id                             client_id  \\\n",
       "0  ff36597c-df41-44a0-9f46-6aa1fe615270  1ec5ab91-fdd0-4925-a221-f0c4e04fe0e7   \n",
       "1  0d5263ec-413d-44d9-a9d3-a996e3a56b05  c940f45c-d29b-439a-8fa3-f75018cef528   \n",
       "2  5e9a8978-df1c-483f-a53b-16149c93f11e  cfa21d7e-8499-43d0-9dfb-f4a1b94ce44c   \n",
       "3  524031ea-56e2-410a-aee2-e8fc6ae3fbc5                                   NaN   \n",
       "4  421aaf04-c97d-42ac-b35f-09a56bbaf910  3f43d7bc-37f0-4535-8391-51702d6ff81e   \n",
       "\n",
       "      transaction_date                    service        amount  \\\n",
       "0  2025-01-04 00:02:20  Структурирование капитала  55838.059789   \n",
       "1  2025-03-10 17:16:50  Структурирование капитала  37514.809209   \n",
       "2  2025-02-13 19:43:49  Структурирование капитала  21022.146872   \n",
       "3  2025-03-02 03:14:10    Финансовое планирование   2313.980219   \n",
       "4  2025-03-18 21:00:36  Структурирование капитала   5636.586955   \n",
       "\n",
       "       payment_method                city       consultant  \n",
       "0  Банковский перевод   North Patrickport    Cheryl Waller  \n",
       "1          Неизвестно     New Zacharyport    Frank Pollard  \n",
       "2          Неизвестно  Port Michellemouth  Alexandra Meyer  \n",
       "3          Неизвестно           Erichaven    Patricia Haas  \n",
       "4          Неизвестно            Bondstad     Melissa Pena  "
      ]
     },
     "execution_count": 240,
     "metadata": {},
     "output_type": "execute_result"
    }
   ],
   "source": [
    "df_trans = pd.read_excel(r\"data\\transactions_data.xlsx\")\n",
    "df_trans.head()"
   ]
  },
  {
   "cell_type": "code",
   "execution_count": 241,
   "id": "892e5c11",
   "metadata": {},
   "outputs": [
    {
     "data": {
      "text/html": [
       "<div>\n",
       "<style scoped>\n",
       "    .dataframe tbody tr th:only-of-type {\n",
       "        vertical-align: middle;\n",
       "    }\n",
       "\n",
       "    .dataframe tbody tr th {\n",
       "        vertical-align: top;\n",
       "    }\n",
       "\n",
       "    .dataframe thead th {\n",
       "        text-align: right;\n",
       "    }\n",
       "</style>\n",
       "<table border=\"1\" class=\"dataframe\">\n",
       "  <thead>\n",
       "    <tr style=\"text-align: right;\">\n",
       "      <th></th>\n",
       "      <th>id</th>\n",
       "      <th>age</th>\n",
       "      <th>gender</th>\n",
       "      <th>net_worth</th>\n",
       "    </tr>\n",
       "  </thead>\n",
       "  <tbody>\n",
       "    <tr>\n",
       "      <th>0</th>\n",
       "      <td>1ec5ab91-fdd0-4925-a221-f0c4e04fe0e7</td>\n",
       "      <td>41.0</td>\n",
       "      <td>Мужчина</td>\n",
       "      <td>2514729.46</td>\n",
       "    </tr>\n",
       "    <tr>\n",
       "      <th>1</th>\n",
       "      <td>c940f45c-d29b-439a-8fa3-f75018cef528</td>\n",
       "      <td>28.0</td>\n",
       "      <td>Мужчина</td>\n",
       "      <td>566568.29</td>\n",
       "    </tr>\n",
       "    <tr>\n",
       "      <th>2</th>\n",
       "      <td>cfa21d7e-8499-43d0-9dfb-f4a1b94ce44c</td>\n",
       "      <td>55.0</td>\n",
       "      <td>Женщина</td>\n",
       "      <td>1896001.28</td>\n",
       "    </tr>\n",
       "    <tr>\n",
       "      <th>3</th>\n",
       "      <td>None</td>\n",
       "      <td>38.0</td>\n",
       "      <td>Женщина</td>\n",
       "      <td>4538759.60</td>\n",
       "    </tr>\n",
       "    <tr>\n",
       "      <th>4</th>\n",
       "      <td>3f43d7bc-37f0-4535-8391-51702d6ff81e</td>\n",
       "      <td>31.0</td>\n",
       "      <td>Мужчина</td>\n",
       "      <td>4865849.92</td>\n",
       "    </tr>\n",
       "  </tbody>\n",
       "</table>\n",
       "</div>"
      ],
      "text/plain": [
       "                                     id   age   gender   net_worth\n",
       "0  1ec5ab91-fdd0-4925-a221-f0c4e04fe0e7  41.0  Мужчина  2514729.46\n",
       "1  c940f45c-d29b-439a-8fa3-f75018cef528  28.0  Мужчина   566568.29\n",
       "2  cfa21d7e-8499-43d0-9dfb-f4a1b94ce44c  55.0  Женщина  1896001.28\n",
       "3                                  None  38.0  Женщина  4538759.60\n",
       "4  3f43d7bc-37f0-4535-8391-51702d6ff81e  31.0  Мужчина  4865849.92"
      ]
     },
     "execution_count": 241,
     "metadata": {},
     "output_type": "execute_result"
    }
   ],
   "source": [
    "df_clients = pd.read_json(r\"data\\clients_data.json\")\n",
    "df_clients.head()"
   ]
  },
  {
   "cell_type": "markdown",
   "id": "afa63b0c",
   "metadata": {},
   "source": [
    "## Разберемся с данными из df_trans"
   ]
  },
  {
   "cell_type": "markdown",
   "id": "79d15d91",
   "metadata": {},
   "source": [
    "#### Обработка пропущенных значений"
   ]
  },
  {
   "cell_type": "code",
   "execution_count": 242,
   "id": "57958439",
   "metadata": {},
   "outputs": [
    {
     "name": "stdout",
     "output_type": "stream",
     "text": [
      "<class 'pandas.core.frame.DataFrame'>\n",
      "RangeIndex: 10000 entries, 0 to 9999\n",
      "Data columns (total 8 columns):\n",
      " #   Column            Non-Null Count  Dtype  \n",
      "---  ------            --------------  -----  \n",
      " 0   transaction_id    9526 non-null   object \n",
      " 1   client_id         9798 non-null   object \n",
      " 2   transaction_date  10000 non-null  object \n",
      " 3   service           10000 non-null  object \n",
      " 4   amount            9540 non-null   float64\n",
      " 5   payment_method    10000 non-null  object \n",
      " 6   city              10000 non-null  object \n",
      " 7   consultant        10000 non-null  object \n",
      "dtypes: float64(1), object(7)\n",
      "memory usage: 625.1+ KB\n"
     ]
    }
   ],
   "source": [
    "df_trans.info()"
   ]
  },
  {
   "cell_type": "code",
   "execution_count": 243,
   "id": "9475ae07",
   "metadata": {},
   "outputs": [
    {
     "data": {
      "text/plain": [
       "transaction_id      474\n",
       "client_id           202\n",
       "transaction_date      0\n",
       "service               0\n",
       "amount              460\n",
       "payment_method        0\n",
       "city                  0\n",
       "consultant            0\n",
       "dtype: int64"
      ]
     },
     "execution_count": 243,
     "metadata": {},
     "output_type": "execute_result"
    }
   ],
   "source": [
    "df_trans.isnull().sum()"
   ]
  },
  {
   "cell_type": "markdown",
   "id": "3197c351",
   "metadata": {},
   "source": [
    "transaction_id и client_id уникальные значения, которые должны выдаваться при создании транзакции и регистрации клиента соответственно, поэтому удалим строки с пропущенными значениями из DataFrame, а удаленные строки запишем в отдельные файлы, чтобы в последующем мы могли передать их на анализ отделам, занимающимися данными вопросами."
   ]
  },
  {
   "cell_type": "code",
   "execution_count": 244,
   "id": "1c411987",
   "metadata": {},
   "outputs": [],
   "source": [
    "df_trans_transId_null = df_trans[df_trans['transaction_id'].isna()]\n",
    "df_trans_transId_null.to_excel(\"data\\\\problem_data\\\\transaction_id_Null.xlsx\", index = False)"
   ]
  },
  {
   "cell_type": "code",
   "execution_count": 245,
   "id": "6ac2ffea",
   "metadata": {},
   "outputs": [],
   "source": [
    "df_trans_clientId_null = df_trans[df_trans['client_id'].isna()]\n",
    "df_trans_clientId_null.to_excel(\"data\\\\problem_data\\\\client_id_Null.xlsx\", index = False)"
   ]
  },
  {
   "cell_type": "code",
   "execution_count": 246,
   "id": "45a546cd",
   "metadata": {},
   "outputs": [
    {
     "data": {
      "text/plain": [
       "transaction_id        0\n",
       "client_id             0\n",
       "transaction_date      0\n",
       "service               0\n",
       "amount              426\n",
       "payment_method        0\n",
       "city                  0\n",
       "consultant            0\n",
       "dtype: int64"
      ]
     },
     "execution_count": 246,
     "metadata": {},
     "output_type": "execute_result"
    }
   ],
   "source": [
    "df_trans = df_trans.dropna(subset=[\"transaction_id\", \"client_id\"])\n",
    "df_trans.isnull().sum()"
   ]
  },
  {
   "cell_type": "markdown",
   "id": "6563e492",
   "metadata": {},
   "source": [
    "также присваивать в amount нельзя какие-то случайные значения, или 0 нельзя, поэтому удалим данные строки"
   ]
  },
  {
   "cell_type": "code",
   "execution_count": 247,
   "id": "cbd876af",
   "metadata": {},
   "outputs": [],
   "source": [
    "df_trans_amount_null = df_trans[df_trans['amount'].isna()]\n",
    "df_trans_amount_null.to_excel(\"data\\\\problem_data\\\\amount_Null.xlsx\", index = False)"
   ]
  },
  {
   "cell_type": "code",
   "execution_count": 248,
   "id": "1ffece63",
   "metadata": {},
   "outputs": [
    {
     "name": "stdout",
     "output_type": "stream",
     "text": [
      "Строк с NaN значениями в df_trans: 0\n"
     ]
    }
   ],
   "source": [
    "df_trans = df_trans.dropna(subset=['amount'])\n",
    "print(f\"Строк с NaN значениями в df_trans: {df_trans.isnull().sum().sum()}\")"
   ]
  },
  {
   "cell_type": "markdown",
   "id": "5083600a",
   "metadata": {},
   "source": [
    "#### Проверка данных на корректность и их обработка"
   ]
  },
  {
   "cell_type": "markdown",
   "id": "23cf5579",
   "metadata": {},
   "source": [
    "Начнем проверку на корректность данных, для начала сумму транзакции (должна быть больше 0)."
   ]
  },
  {
   "cell_type": "code",
   "execution_count": 249,
   "id": "8c510e97",
   "metadata": {},
   "outputs": [
    {
     "data": {
      "text/html": [
       "<div>\n",
       "<style scoped>\n",
       "    .dataframe tbody tr th:only-of-type {\n",
       "        vertical-align: middle;\n",
       "    }\n",
       "\n",
       "    .dataframe tbody tr th {\n",
       "        vertical-align: top;\n",
       "    }\n",
       "\n",
       "    .dataframe thead th {\n",
       "        text-align: right;\n",
       "    }\n",
       "</style>\n",
       "<table border=\"1\" class=\"dataframe\">\n",
       "  <thead>\n",
       "    <tr style=\"text-align: right;\">\n",
       "      <th></th>\n",
       "      <th>transaction_id</th>\n",
       "      <th>client_id</th>\n",
       "      <th>transaction_date</th>\n",
       "      <th>service</th>\n",
       "      <th>amount</th>\n",
       "      <th>payment_method</th>\n",
       "      <th>city</th>\n",
       "      <th>consultant</th>\n",
       "    </tr>\n",
       "  </thead>\n",
       "  <tbody>\n",
       "  </tbody>\n",
       "</table>\n",
       "</div>"
      ],
      "text/plain": [
       "Empty DataFrame\n",
       "Columns: [transaction_id, client_id, transaction_date, service, amount, payment_method, city, consultant]\n",
       "Index: []"
      ]
     },
     "execution_count": 249,
     "metadata": {},
     "output_type": "execute_result"
    }
   ],
   "source": [
    "df_trans[df_trans[\"amount\"] <= 0]"
   ]
  },
  {
   "cell_type": "markdown",
   "id": "38f969aa",
   "metadata": {},
   "source": [
    "***Данные сумм транзакций корректны***"
   ]
  },
  {
   "cell_type": "markdown",
   "id": "39147c5b",
   "metadata": {},
   "source": [
    "Переведем даты в тип datetime и проверим их на корректность"
   ]
  },
  {
   "cell_type": "code",
   "execution_count": 250,
   "id": "1654ac88",
   "metadata": {},
   "outputs": [
    {
     "data": {
      "text/html": [
       "<div>\n",
       "<style scoped>\n",
       "    .dataframe tbody tr th:only-of-type {\n",
       "        vertical-align: middle;\n",
       "    }\n",
       "\n",
       "    .dataframe tbody tr th {\n",
       "        vertical-align: top;\n",
       "    }\n",
       "\n",
       "    .dataframe thead th {\n",
       "        text-align: right;\n",
       "    }\n",
       "</style>\n",
       "<table border=\"1\" class=\"dataframe\">\n",
       "  <thead>\n",
       "    <tr style=\"text-align: right;\">\n",
       "      <th></th>\n",
       "      <th>transaction_id</th>\n",
       "      <th>client_id</th>\n",
       "      <th>transaction_date</th>\n",
       "      <th>service</th>\n",
       "      <th>amount</th>\n",
       "      <th>payment_method</th>\n",
       "      <th>city</th>\n",
       "      <th>consultant</th>\n",
       "    </tr>\n",
       "  </thead>\n",
       "  <tbody>\n",
       "  </tbody>\n",
       "</table>\n",
       "</div>"
      ],
      "text/plain": [
       "Empty DataFrame\n",
       "Columns: [transaction_id, client_id, transaction_date, service, amount, payment_method, city, consultant]\n",
       "Index: []"
      ]
     },
     "execution_count": 250,
     "metadata": {},
     "output_type": "execute_result"
    }
   ],
   "source": [
    "df_trans['transaction_date'] = pd.to_datetime(df_trans['transaction_date'], errors='coerce')\n",
    "df_data_error = df_trans[df_trans['transaction_date'] >= datetime.now()]\n",
    "df_trans = df_trans[df_trans['transaction_date'] < datetime.now()]\n",
    "\n",
    "df_data_error.head()"
   ]
  },
  {
   "cell_type": "markdown",
   "id": "7b22f93a",
   "metadata": {},
   "source": [
    "***Все данные с датами транзакций корректны***"
   ]
  },
  {
   "cell_type": "markdown",
   "id": "95ad058a",
   "metadata": {},
   "source": [
    "Проверим способы оплаты и тип оказанной финансовой услуги на корректность с логической точки зрения"
   ]
  },
  {
   "cell_type": "code",
   "execution_count": 251,
   "id": "e4029da9",
   "metadata": {},
   "outputs": [
    {
     "data": {
      "text/plain": [
       "array(['Банковский перевод', 'Неизвестно', 'Кредитная карта',\n",
       "       'Криптовалюта', 'Наличные'], dtype=object)"
      ]
     },
     "execution_count": 251,
     "metadata": {},
     "output_type": "execute_result"
    }
   ],
   "source": [
    "df_trans[\"payment_method\"].unique()"
   ]
  },
  {
   "cell_type": "code",
   "execution_count": 252,
   "id": "7836cb41",
   "metadata": {},
   "outputs": [
    {
     "data": {
      "text/plain": [
       "array(['Структурирование капитала', 'Инвестиционное консультирование',\n",
       "       'Неизвестная услуга', 'Налоговое планирование',\n",
       "       'Управление активами', 'Финансовое планирование'], dtype=object)"
      ]
     },
     "execution_count": 252,
     "metadata": {},
     "output_type": "execute_result"
    }
   ],
   "source": [
    "df_trans[\"service\"].unique()"
   ]
  },
  {
   "cell_type": "markdown",
   "id": "e39be43f",
   "metadata": {},
   "source": [
    "***Данные корректны***"
   ]
  },
  {
   "cell_type": "markdown",
   "id": "e022fd6e",
   "metadata": {},
   "source": [
    "## Разберемся с df_clients"
   ]
  },
  {
   "cell_type": "markdown",
   "id": "b52222a7",
   "metadata": {},
   "source": [
    "#### Обработка пропущенных значений"
   ]
  },
  {
   "cell_type": "code",
   "execution_count": 253,
   "id": "51f12409",
   "metadata": {},
   "outputs": [
    {
     "data": {
      "text/plain": [
       "id              1\n",
       "age           983\n",
       "gender       3319\n",
       "net_worth     475\n",
       "dtype: int64"
      ]
     },
     "execution_count": 253,
     "metadata": {},
     "output_type": "execute_result"
    }
   ],
   "source": [
    "df_clients.isnull().sum()"
   ]
  },
  {
   "cell_type": "markdown",
   "id": "12a1d9f2",
   "metadata": {},
   "source": [
    "Наиболее важно поле id для индификации клиента, удалим поле с пропущенным значением (либо можно было бы заполнить уникальным значением и хешировать)"
   ]
  },
  {
   "cell_type": "code",
   "execution_count": 254,
   "id": "beed7c67",
   "metadata": {},
   "outputs": [],
   "source": [
    "df_clients = df_clients.dropna(subset=[\"id\"])"
   ]
  },
  {
   "cell_type": "markdown",
   "id": "47c9042e",
   "metadata": {},
   "source": [
    "Остальные значения по-моему мнению могут быть Nan так как они не так важны"
   ]
  },
  {
   "cell_type": "markdown",
   "id": "3da61393",
   "metadata": {},
   "source": [
    "#### Проверка данных на корректность и их обработка"
   ]
  },
  {
   "cell_type": "markdown",
   "id": "8fadee85",
   "metadata": {},
   "source": [
    "##### Прверим возраст на корректность"
   ]
  },
  {
   "cell_type": "code",
   "execution_count": 255,
   "id": "a6e7b97f",
   "metadata": {},
   "outputs": [
    {
     "data": {
      "text/html": [
       "<div>\n",
       "<style scoped>\n",
       "    .dataframe tbody tr th:only-of-type {\n",
       "        vertical-align: middle;\n",
       "    }\n",
       "\n",
       "    .dataframe tbody tr th {\n",
       "        vertical-align: top;\n",
       "    }\n",
       "\n",
       "    .dataframe thead th {\n",
       "        text-align: right;\n",
       "    }\n",
       "</style>\n",
       "<table border=\"1\" class=\"dataframe\">\n",
       "  <thead>\n",
       "    <tr style=\"text-align: right;\">\n",
       "      <th></th>\n",
       "      <th>id</th>\n",
       "      <th>age</th>\n",
       "      <th>gender</th>\n",
       "      <th>net_worth</th>\n",
       "    </tr>\n",
       "  </thead>\n",
       "  <tbody>\n",
       "  </tbody>\n",
       "</table>\n",
       "</div>"
      ],
      "text/plain": [
       "Empty DataFrame\n",
       "Columns: [id, age, gender, net_worth]\n",
       "Index: []"
      ]
     },
     "execution_count": 255,
     "metadata": {},
     "output_type": "execute_result"
    }
   ],
   "source": [
    "df_clients[df_clients[\"age\"] <= 0]"
   ]
  },
  {
   "cell_type": "code",
   "execution_count": 256,
   "id": "9054f3c1",
   "metadata": {},
   "outputs": [
    {
     "data": {
      "text/html": [
       "<div>\n",
       "<style scoped>\n",
       "    .dataframe tbody tr th:only-of-type {\n",
       "        vertical-align: middle;\n",
       "    }\n",
       "\n",
       "    .dataframe tbody tr th {\n",
       "        vertical-align: top;\n",
       "    }\n",
       "\n",
       "    .dataframe thead th {\n",
       "        text-align: right;\n",
       "    }\n",
       "</style>\n",
       "<table border=\"1\" class=\"dataframe\">\n",
       "  <thead>\n",
       "    <tr style=\"text-align: right;\">\n",
       "      <th></th>\n",
       "      <th>id</th>\n",
       "      <th>age</th>\n",
       "      <th>gender</th>\n",
       "      <th>net_worth</th>\n",
       "    </tr>\n",
       "  </thead>\n",
       "  <tbody>\n",
       "  </tbody>\n",
       "</table>\n",
       "</div>"
      ],
      "text/plain": [
       "Empty DataFrame\n",
       "Columns: [id, age, gender, net_worth]\n",
       "Index: []"
      ]
     },
     "execution_count": 256,
     "metadata": {},
     "output_type": "execute_result"
    }
   ],
   "source": [
    "df_clients[df_clients[\"age\"] >= 100]"
   ]
  },
  {
   "cell_type": "markdown",
   "id": "ecc04f2a",
   "metadata": {},
   "source": [
    "***Возраст корректен***"
   ]
  },
  {
   "cell_type": "markdown",
   "id": "fb96900a",
   "metadata": {},
   "source": [
    "##### Проверим пол на корректность"
   ]
  },
  {
   "cell_type": "code",
   "execution_count": 257,
   "id": "40f4dbd3",
   "metadata": {},
   "outputs": [
    {
     "data": {
      "text/plain": [
       "array(['Мужчина', 'Женщина', None], dtype=object)"
      ]
     },
     "execution_count": 257,
     "metadata": {},
     "output_type": "execute_result"
    }
   ],
   "source": [
    "df_clients[\"gender\"].unique()"
   ]
  },
  {
   "cell_type": "markdown",
   "id": "d22b2752",
   "metadata": {},
   "source": [
    "***Пол корректен***"
   ]
  },
  {
   "cell_type": "markdown",
   "id": "62945df8",
   "metadata": {},
   "source": [
    "##### Чистая стоимость активов клиента"
   ]
  },
  {
   "cell_type": "code",
   "execution_count": 258,
   "id": "12c9a114",
   "metadata": {},
   "outputs": [
    {
     "data": {
      "text/html": [
       "<div>\n",
       "<style scoped>\n",
       "    .dataframe tbody tr th:only-of-type {\n",
       "        vertical-align: middle;\n",
       "    }\n",
       "\n",
       "    .dataframe tbody tr th {\n",
       "        vertical-align: top;\n",
       "    }\n",
       "\n",
       "    .dataframe thead th {\n",
       "        text-align: right;\n",
       "    }\n",
       "</style>\n",
       "<table border=\"1\" class=\"dataframe\">\n",
       "  <thead>\n",
       "    <tr style=\"text-align: right;\">\n",
       "      <th></th>\n",
       "      <th>id</th>\n",
       "      <th>age</th>\n",
       "      <th>gender</th>\n",
       "      <th>net_worth</th>\n",
       "    </tr>\n",
       "  </thead>\n",
       "  <tbody>\n",
       "  </tbody>\n",
       "</table>\n",
       "</div>"
      ],
      "text/plain": [
       "Empty DataFrame\n",
       "Columns: [id, age, gender, net_worth]\n",
       "Index: []"
      ]
     },
     "execution_count": 258,
     "metadata": {},
     "output_type": "execute_result"
    }
   ],
   "source": [
    "df_clients[df_clients[\"net_worth\"] < 0]"
   ]
  },
  {
   "cell_type": "markdown",
   "id": "f5961433",
   "metadata": {},
   "source": [
    "***корректно***"
   ]
  },
  {
   "cell_type": "markdown",
   "id": "23bd230a",
   "metadata": {},
   "source": [
    "## Решение задач"
   ]
  },
  {
   "cell_type": "markdown",
   "id": "4bd2ac21",
   "metadata": {},
   "source": [
    "#### 2. Анализ данных"
   ]
  },
  {
   "cell_type": "markdown",
   "id": "37ccedfb",
   "metadata": {},
   "source": [
    "##### Определить топ-5 наиболее популярных услуг по количеству заказов."
   ]
  },
  {
   "cell_type": "code",
   "execution_count": 259,
   "id": "eb0c7a5c",
   "metadata": {},
   "outputs": [
    {
     "name": "stdout",
     "output_type": "stream",
     "text": [
      "Топ 5 самых популярных услуг \n",
      "\n",
      "Услуга: Инвестиционное консультирование, Количество заказов: 1956\n",
      "Услуга: Управление активами, Количество заказов: 1606\n",
      "Услуга: Финансовое планирование, Количество заказов: 1242\n",
      "Услуга: Налоговое планирование, Количество заказов: 1218\n",
      "Услуга: Структурирование капитала, Количество заказов: 1196\n"
     ]
    }
   ],
   "source": [
    "top_services = df_trans['service'].value_counts().head(5)\n",
    "service_names = top_services.index.tolist()\n",
    "service_counts = top_services.values.tolist()\n",
    "top5_famous_service = dict()\n",
    "print(\"Топ 5 самых популярных услуг\", '\\n')\n",
    "for key, val in zip(service_names, service_counts):\n",
    "    top5_famous_service[key] = val\n",
    "    print(f\"Услуга: {key}, Количество заказов: {val}\")"
   ]
  },
  {
   "cell_type": "markdown",
   "id": "bd3fac61",
   "metadata": {},
   "source": [
    "##### Рассчитать среднюю сумму транзакций по каждому городу."
   ]
  },
  {
   "cell_type": "code",
   "execution_count": 260,
   "id": "121b963e",
   "metadata": {},
   "outputs": [
    {
     "data": {
      "text/plain": [
       "{'Неизвестный город': 15454021.164274579,\n",
       " 'Port Michellemouth': 9714997.880923014,\n",
       " 'New Tommyborough': 9054069.503499499,\n",
       " 'Kaneburgh': 9050556.916716697,\n",
       " 'Johnsonfort': 8835446.259065658}"
      ]
     },
     "execution_count": 260,
     "metadata": {},
     "output_type": "execute_result"
    }
   ],
   "source": [
    "df_trans.groupby(by=\"city\")[\"amount\"].sum().sort_values(ascending = False).head(5).to_dict()"
   ]
  },
  {
   "cell_type": "markdown",
   "id": "048a162f",
   "metadata": {},
   "source": [
    "Так как неизвестный город наверное не предполагался, то нужный нам ***Port Michellemouth*** с суммой транзакций около ***9714997.8***"
   ]
  },
  {
   "cell_type": "markdown",
   "id": "340dca57",
   "metadata": {},
   "source": [
    "##### Вычислить процент транзакций по способам оплаты (наличные, банковский перевод и т. д.). "
   ]
  },
  {
   "cell_type": "code",
   "execution_count": 261,
   "id": "e5b5c0e5",
   "metadata": {},
   "outputs": [
    {
     "name": "stdout",
     "output_type": "stream",
     "text": [
      "payment_method\n",
      "Кредитная карта       40.04\n",
      "Банковский перевод    34.59\n",
      "Неизвестно            10.15\n",
      "Наличные               9.96\n",
      "Криптовалюта           5.27\n",
      "Name: proportion, dtype: float64\n"
     ]
    }
   ],
   "source": [
    "payment_counts = df_trans['payment_method'].value_counts(normalize=True) * 100\n",
    "payment_counts = payment_counts.round(2)\n",
    "print(payment_counts)"
   ]
  },
  {
   "cell_type": "markdown",
   "id": "b6aef655",
   "metadata": {},
   "source": [
    "##### Рассчитать выручку за последний месяц (по сумме amount)"
   ]
  },
  {
   "cell_type": "code",
   "execution_count": 262,
   "id": "abd0bb71",
   "metadata": {},
   "outputs": [
    {
     "name": "stdout",
     "output_type": "stream",
     "text": [
      "Вырочка за последний месяц составила: 130778122.0\n"
     ]
    }
   ],
   "source": [
    "sum_trans_last_month = df_trans[df_trans[\"transaction_date\"] >= datetime.now() - timedelta(days=60)][\"amount\"].sum().round()\n",
    "print(f\"Вырочка за последний месяц составила: {sum_trans_last_month}\")"
   ]
  },
  {
   "cell_type": "markdown",
   "id": "91d52f04",
   "metadata": {},
   "source": [
    "#### 3. Объединение данных"
   ]
  },
  {
   "cell_type": "markdown",
   "id": "e886b79e",
   "metadata": {},
   "source": [
    "##### Объединить транзакции с клиентскими данными (по id). "
   ]
  },
  {
   "cell_type": "code",
   "execution_count": 263,
   "id": "7576e789",
   "metadata": {},
   "outputs": [
    {
     "data": {
      "text/html": [
       "<div>\n",
       "<style scoped>\n",
       "    .dataframe tbody tr th:only-of-type {\n",
       "        vertical-align: middle;\n",
       "    }\n",
       "\n",
       "    .dataframe tbody tr th {\n",
       "        vertical-align: top;\n",
       "    }\n",
       "\n",
       "    .dataframe thead th {\n",
       "        text-align: right;\n",
       "    }\n",
       "</style>\n",
       "<table border=\"1\" class=\"dataframe\">\n",
       "  <thead>\n",
       "    <tr style=\"text-align: right;\">\n",
       "      <th></th>\n",
       "      <th>transaction_id</th>\n",
       "      <th>client_id</th>\n",
       "      <th>transaction_date</th>\n",
       "      <th>service</th>\n",
       "      <th>amount</th>\n",
       "      <th>payment_method</th>\n",
       "      <th>city</th>\n",
       "      <th>consultant</th>\n",
       "      <th>id</th>\n",
       "      <th>age</th>\n",
       "      <th>gender</th>\n",
       "      <th>net_worth</th>\n",
       "    </tr>\n",
       "  </thead>\n",
       "  <tbody>\n",
       "    <tr>\n",
       "      <th>0</th>\n",
       "      <td>ff36597c-df41-44a0-9f46-6aa1fe615270</td>\n",
       "      <td>1ec5ab91-fdd0-4925-a221-f0c4e04fe0e7</td>\n",
       "      <td>2025-01-04 00:02:20</td>\n",
       "      <td>Структурирование капитала</td>\n",
       "      <td>55838.059789</td>\n",
       "      <td>Банковский перевод</td>\n",
       "      <td>North Patrickport</td>\n",
       "      <td>Cheryl Waller</td>\n",
       "      <td>1ec5ab91-fdd0-4925-a221-f0c4e04fe0e7</td>\n",
       "      <td>41.0</td>\n",
       "      <td>Мужчина</td>\n",
       "      <td>2514729.46</td>\n",
       "    </tr>\n",
       "    <tr>\n",
       "      <th>1</th>\n",
       "      <td>0d5263ec-413d-44d9-a9d3-a996e3a56b05</td>\n",
       "      <td>c940f45c-d29b-439a-8fa3-f75018cef528</td>\n",
       "      <td>2025-03-10 17:16:50</td>\n",
       "      <td>Структурирование капитала</td>\n",
       "      <td>37514.809209</td>\n",
       "      <td>Неизвестно</td>\n",
       "      <td>New Zacharyport</td>\n",
       "      <td>Frank Pollard</td>\n",
       "      <td>c940f45c-d29b-439a-8fa3-f75018cef528</td>\n",
       "      <td>28.0</td>\n",
       "      <td>Мужчина</td>\n",
       "      <td>566568.29</td>\n",
       "    </tr>\n",
       "    <tr>\n",
       "      <th>2</th>\n",
       "      <td>5e9a8978-df1c-483f-a53b-16149c93f11e</td>\n",
       "      <td>cfa21d7e-8499-43d0-9dfb-f4a1b94ce44c</td>\n",
       "      <td>2025-02-13 19:43:49</td>\n",
       "      <td>Структурирование капитала</td>\n",
       "      <td>21022.146872</td>\n",
       "      <td>Неизвестно</td>\n",
       "      <td>Port Michellemouth</td>\n",
       "      <td>Alexandra Meyer</td>\n",
       "      <td>cfa21d7e-8499-43d0-9dfb-f4a1b94ce44c</td>\n",
       "      <td>55.0</td>\n",
       "      <td>Женщина</td>\n",
       "      <td>1896001.28</td>\n",
       "    </tr>\n",
       "    <tr>\n",
       "      <th>3</th>\n",
       "      <td>421aaf04-c97d-42ac-b35f-09a56bbaf910</td>\n",
       "      <td>3f43d7bc-37f0-4535-8391-51702d6ff81e</td>\n",
       "      <td>2025-03-18 21:00:36</td>\n",
       "      <td>Структурирование капитала</td>\n",
       "      <td>5636.586955</td>\n",
       "      <td>Неизвестно</td>\n",
       "      <td>Bondstad</td>\n",
       "      <td>Melissa Pena</td>\n",
       "      <td>3f43d7bc-37f0-4535-8391-51702d6ff81e</td>\n",
       "      <td>31.0</td>\n",
       "      <td>Мужчина</td>\n",
       "      <td>4865849.92</td>\n",
       "    </tr>\n",
       "    <tr>\n",
       "      <th>4</th>\n",
       "      <td>822d5795-4f08-4a7a-9692-7f5863945bdf</td>\n",
       "      <td>900f7d6b-ee7f-49e6-ae9f-e5ea9e04ab4c</td>\n",
       "      <td>2025-02-21 21:50:30</td>\n",
       "      <td>Инвестиционное консультирование</td>\n",
       "      <td>85575.773285</td>\n",
       "      <td>Кредитная карта</td>\n",
       "      <td>West Jaymouth</td>\n",
       "      <td>Harold Gibson</td>\n",
       "      <td>900f7d6b-ee7f-49e6-ae9f-e5ea9e04ab4c</td>\n",
       "      <td>59.0</td>\n",
       "      <td>Женщина</td>\n",
       "      <td>3992281.84</td>\n",
       "    </tr>\n",
       "  </tbody>\n",
       "</table>\n",
       "</div>"
      ],
      "text/plain": [
       "                         transaction_id                             client_id  \\\n",
       "0  ff36597c-df41-44a0-9f46-6aa1fe615270  1ec5ab91-fdd0-4925-a221-f0c4e04fe0e7   \n",
       "1  0d5263ec-413d-44d9-a9d3-a996e3a56b05  c940f45c-d29b-439a-8fa3-f75018cef528   \n",
       "2  5e9a8978-df1c-483f-a53b-16149c93f11e  cfa21d7e-8499-43d0-9dfb-f4a1b94ce44c   \n",
       "3  421aaf04-c97d-42ac-b35f-09a56bbaf910  3f43d7bc-37f0-4535-8391-51702d6ff81e   \n",
       "4  822d5795-4f08-4a7a-9692-7f5863945bdf  900f7d6b-ee7f-49e6-ae9f-e5ea9e04ab4c   \n",
       "\n",
       "     transaction_date                          service        amount  \\\n",
       "0 2025-01-04 00:02:20        Структурирование капитала  55838.059789   \n",
       "1 2025-03-10 17:16:50        Структурирование капитала  37514.809209   \n",
       "2 2025-02-13 19:43:49        Структурирование капитала  21022.146872   \n",
       "3 2025-03-18 21:00:36        Структурирование капитала   5636.586955   \n",
       "4 2025-02-21 21:50:30  Инвестиционное консультирование  85575.773285   \n",
       "\n",
       "       payment_method                city       consultant  \\\n",
       "0  Банковский перевод   North Patrickport    Cheryl Waller   \n",
       "1          Неизвестно     New Zacharyport    Frank Pollard   \n",
       "2          Неизвестно  Port Michellemouth  Alexandra Meyer   \n",
       "3          Неизвестно            Bondstad     Melissa Pena   \n",
       "4     Кредитная карта       West Jaymouth    Harold Gibson   \n",
       "\n",
       "                                     id   age   gender   net_worth  \n",
       "0  1ec5ab91-fdd0-4925-a221-f0c4e04fe0e7  41.0  Мужчина  2514729.46  \n",
       "1  c940f45c-d29b-439a-8fa3-f75018cef528  28.0  Мужчина   566568.29  \n",
       "2  cfa21d7e-8499-43d0-9dfb-f4a1b94ce44c  55.0  Женщина  1896001.28  \n",
       "3  3f43d7bc-37f0-4535-8391-51702d6ff81e  31.0  Мужчина  4865849.92  \n",
       "4  900f7d6b-ee7f-49e6-ae9f-e5ea9e04ab4c  59.0  Женщина  3992281.84  "
      ]
     },
     "execution_count": 263,
     "metadata": {},
     "output_type": "execute_result"
    }
   ],
   "source": [
    "df_merged = pd.merge(df_trans, df_clients, left_on='client_id', right_on = 'id', how='left')\n",
    "df_merged.head()"
   ]
  },
  {
   "cell_type": "markdown",
   "id": "a2a4b2a2",
   "metadata": {},
   "source": [
    "##### Создать новую колонку с уровнями активов. "
   ]
  },
  {
   "cell_type": "code",
   "execution_count": 264,
   "id": "91fd7d4a",
   "metadata": {},
   "outputs": [
    {
     "data": {
      "text/html": [
       "<div>\n",
       "<style scoped>\n",
       "    .dataframe tbody tr th:only-of-type {\n",
       "        vertical-align: middle;\n",
       "    }\n",
       "\n",
       "    .dataframe tbody tr th {\n",
       "        vertical-align: top;\n",
       "    }\n",
       "\n",
       "    .dataframe thead th {\n",
       "        text-align: right;\n",
       "    }\n",
       "</style>\n",
       "<table border=\"1\" class=\"dataframe\">\n",
       "  <thead>\n",
       "    <tr style=\"text-align: right;\">\n",
       "      <th></th>\n",
       "      <th>transaction_id</th>\n",
       "      <th>client_id</th>\n",
       "      <th>transaction_date</th>\n",
       "      <th>service</th>\n",
       "      <th>amount</th>\n",
       "      <th>payment_method</th>\n",
       "      <th>city</th>\n",
       "      <th>consultant</th>\n",
       "      <th>id</th>\n",
       "      <th>age</th>\n",
       "      <th>gender</th>\n",
       "      <th>net_worth</th>\n",
       "      <th>asset_level</th>\n",
       "    </tr>\n",
       "  </thead>\n",
       "  <tbody>\n",
       "    <tr>\n",
       "      <th>0</th>\n",
       "      <td>ff36597c-df41-44a0-9f46-6aa1fe615270</td>\n",
       "      <td>1ec5ab91-fdd0-4925-a221-f0c4e04fe0e7</td>\n",
       "      <td>2025-01-04 00:02:20</td>\n",
       "      <td>Структурирование капитала</td>\n",
       "      <td>55838.059789</td>\n",
       "      <td>Банковский перевод</td>\n",
       "      <td>North Patrickport</td>\n",
       "      <td>Cheryl Waller</td>\n",
       "      <td>1ec5ab91-fdd0-4925-a221-f0c4e04fe0e7</td>\n",
       "      <td>41.0</td>\n",
       "      <td>Мужчина</td>\n",
       "      <td>2514729.46</td>\n",
       "      <td>Высокий капитал</td>\n",
       "    </tr>\n",
       "    <tr>\n",
       "      <th>1</th>\n",
       "      <td>0d5263ec-413d-44d9-a9d3-a996e3a56b05</td>\n",
       "      <td>c940f45c-d29b-439a-8fa3-f75018cef528</td>\n",
       "      <td>2025-03-10 17:16:50</td>\n",
       "      <td>Структурирование капитала</td>\n",
       "      <td>37514.809209</td>\n",
       "      <td>Неизвестно</td>\n",
       "      <td>New Zacharyport</td>\n",
       "      <td>Frank Pollard</td>\n",
       "      <td>c940f45c-d29b-439a-8fa3-f75018cef528</td>\n",
       "      <td>28.0</td>\n",
       "      <td>Мужчина</td>\n",
       "      <td>566568.29</td>\n",
       "      <td>Средний капитал</td>\n",
       "    </tr>\n",
       "    <tr>\n",
       "      <th>2</th>\n",
       "      <td>5e9a8978-df1c-483f-a53b-16149c93f11e</td>\n",
       "      <td>cfa21d7e-8499-43d0-9dfb-f4a1b94ce44c</td>\n",
       "      <td>2025-02-13 19:43:49</td>\n",
       "      <td>Структурирование капитала</td>\n",
       "      <td>21022.146872</td>\n",
       "      <td>Неизвестно</td>\n",
       "      <td>Port Michellemouth</td>\n",
       "      <td>Alexandra Meyer</td>\n",
       "      <td>cfa21d7e-8499-43d0-9dfb-f4a1b94ce44c</td>\n",
       "      <td>55.0</td>\n",
       "      <td>Женщина</td>\n",
       "      <td>1896001.28</td>\n",
       "      <td>Высокий капитал</td>\n",
       "    </tr>\n",
       "    <tr>\n",
       "      <th>3</th>\n",
       "      <td>421aaf04-c97d-42ac-b35f-09a56bbaf910</td>\n",
       "      <td>3f43d7bc-37f0-4535-8391-51702d6ff81e</td>\n",
       "      <td>2025-03-18 21:00:36</td>\n",
       "      <td>Структурирование капитала</td>\n",
       "      <td>5636.586955</td>\n",
       "      <td>Неизвестно</td>\n",
       "      <td>Bondstad</td>\n",
       "      <td>Melissa Pena</td>\n",
       "      <td>3f43d7bc-37f0-4535-8391-51702d6ff81e</td>\n",
       "      <td>31.0</td>\n",
       "      <td>Мужчина</td>\n",
       "      <td>4865849.92</td>\n",
       "      <td>Высокий капитал</td>\n",
       "    </tr>\n",
       "    <tr>\n",
       "      <th>4</th>\n",
       "      <td>822d5795-4f08-4a7a-9692-7f5863945bdf</td>\n",
       "      <td>900f7d6b-ee7f-49e6-ae9f-e5ea9e04ab4c</td>\n",
       "      <td>2025-02-21 21:50:30</td>\n",
       "      <td>Инвестиционное консультирование</td>\n",
       "      <td>85575.773285</td>\n",
       "      <td>Кредитная карта</td>\n",
       "      <td>West Jaymouth</td>\n",
       "      <td>Harold Gibson</td>\n",
       "      <td>900f7d6b-ee7f-49e6-ae9f-e5ea9e04ab4c</td>\n",
       "      <td>59.0</td>\n",
       "      <td>Женщина</td>\n",
       "      <td>3992281.84</td>\n",
       "      <td>Высокий капитал</td>\n",
       "    </tr>\n",
       "  </tbody>\n",
       "</table>\n",
       "</div>"
      ],
      "text/plain": [
       "                         transaction_id                             client_id  \\\n",
       "0  ff36597c-df41-44a0-9f46-6aa1fe615270  1ec5ab91-fdd0-4925-a221-f0c4e04fe0e7   \n",
       "1  0d5263ec-413d-44d9-a9d3-a996e3a56b05  c940f45c-d29b-439a-8fa3-f75018cef528   \n",
       "2  5e9a8978-df1c-483f-a53b-16149c93f11e  cfa21d7e-8499-43d0-9dfb-f4a1b94ce44c   \n",
       "3  421aaf04-c97d-42ac-b35f-09a56bbaf910  3f43d7bc-37f0-4535-8391-51702d6ff81e   \n",
       "4  822d5795-4f08-4a7a-9692-7f5863945bdf  900f7d6b-ee7f-49e6-ae9f-e5ea9e04ab4c   \n",
       "\n",
       "     transaction_date                          service        amount  \\\n",
       "0 2025-01-04 00:02:20        Структурирование капитала  55838.059789   \n",
       "1 2025-03-10 17:16:50        Структурирование капитала  37514.809209   \n",
       "2 2025-02-13 19:43:49        Структурирование капитала  21022.146872   \n",
       "3 2025-03-18 21:00:36        Структурирование капитала   5636.586955   \n",
       "4 2025-02-21 21:50:30  Инвестиционное консультирование  85575.773285   \n",
       "\n",
       "       payment_method                city       consultant  \\\n",
       "0  Банковский перевод   North Patrickport    Cheryl Waller   \n",
       "1          Неизвестно     New Zacharyport    Frank Pollard   \n",
       "2          Неизвестно  Port Michellemouth  Alexandra Meyer   \n",
       "3          Неизвестно            Bondstad     Melissa Pena   \n",
       "4     Кредитная карта       West Jaymouth    Harold Gibson   \n",
       "\n",
       "                                     id   age   gender   net_worth  \\\n",
       "0  1ec5ab91-fdd0-4925-a221-f0c4e04fe0e7  41.0  Мужчина  2514729.46   \n",
       "1  c940f45c-d29b-439a-8fa3-f75018cef528  28.0  Мужчина   566568.29   \n",
       "2  cfa21d7e-8499-43d0-9dfb-f4a1b94ce44c  55.0  Женщина  1896001.28   \n",
       "3  3f43d7bc-37f0-4535-8391-51702d6ff81e  31.0  Мужчина  4865849.92   \n",
       "4  900f7d6b-ee7f-49e6-ae9f-e5ea9e04ab4c  59.0  Женщина  3992281.84   \n",
       "\n",
       "       asset_level  \n",
       "0  Высокий капитал  \n",
       "1  Средний капитал  \n",
       "2  Высокий капитал  \n",
       "3  Высокий капитал  \n",
       "4  Высокий капитал  "
      ]
     },
     "execution_count": 264,
     "metadata": {},
     "output_type": "execute_result"
    }
   ],
   "source": [
    "def asset_level_f(val):\n",
    "    if val < 10**5:\n",
    "        return \"Низкий капитал\"\n",
    "    elif val < 10 ** 6:\n",
    "        return \"Средний капитал\"\n",
    "    else:\n",
    "        return \"Высокий капитал\"\n",
    "\n",
    "df_merged[\"asset_level\"] = df_merged[\"net_worth\"].apply(asset_level_f)\n",
    "df_merged.head()"
   ]
  },
  {
   "cell_type": "markdown",
   "id": "2dddaf44",
   "metadata": {},
   "source": [
    "##### Провести анализ по уровням активов и определить, какие категории клиентов приносят наибольшую выручку. "
   ]
  },
  {
   "cell_type": "code",
   "execution_count": 265,
   "id": "62f8b00d",
   "metadata": {},
   "outputs": [
    {
     "name": "stdout",
     "output_type": "stream",
     "text": [
      "{'Низкий капитал': 6813887, 'Средний капитал': 65392167, 'Высокий капитал': 326350355}\n",
      "{'Низкий капитал': '1.7%', 'Средний капитал': '16.4%', 'Высокий капитал': '81.9%'}\n"
     ]
    }
   ],
   "source": [
    "dict_amount_assetL_float = df_merged.groupby(\"asset_level\")[\"amount\"].sum().sort_values().to_dict()\n",
    "dict_amount_assetL_int = {key: round(val) for key, val in dict_amount_assetL_float.items()}\n",
    "sum_amount = sum(dict_amount_assetL_int.values())\n",
    "dict_amount_assetL_normalize = {key: f\"{round(val / sum_amount * 100, 1)}%\" for key, val in dict_amount_assetL_int.items()}\n",
    "print(dict_amount_assetL_int)\n",
    "print(dict_amount_assetL_normalize)"
   ]
  },
  {
   "cell_type": "markdown",
   "id": "5e42ffd1",
   "metadata": {},
   "source": [
    "Как мы видим, наибольшую выручку приносят клиенты с высоким капиталом (почти 82%), примерно в 5 раз меньше клиенты со средним капиталом (16.4%) и всего 1.7% клиенты с низким капиталом"
   ]
  },
  {
   "cell_type": "markdown",
   "id": "8f638374",
   "metadata": {},
   "source": [
    "#### 4. Визуализация"
   ]
  },
  {
   "cell_type": "markdown",
   "id": "25b6cd8f",
   "metadata": {},
   "source": [
    "##### Построить распределение сумм транзакций."
   ]
  },
  {
   "cell_type": "code",
   "execution_count": 266,
   "id": "c645eb4d",
   "metadata": {},
   "outputs": [
    {
     "data": {
      "image/png": "[encoded data removed]",
      "text/plain": [
       "<Figure size 800x500 with 1 Axes>"
      ]
     },
     "metadata": {},
     "output_type": "display_data"
    }
   ],
   "source": [
    "plt.figure(figsize= (8, 5))\n",
    "sns.histplot(data = df_merged[\"amount\"], bins = 100, kde=True, color = \"purple\", )\n",
    "plt.ylabel(\"Количество\")\n",
    "plt.xlabel(\"Сумма транзакций\")\n",
    "plt.title(\"Распределение сумм транзакций\")\n",
    "plt.tight_layout()\n",
    "plt.show()"
   ]
  },
  {
   "cell_type": "markdown",
   "id": "4ad90c68",
   "metadata": {},
   "source": [
    "##### Создать диаграмму выручки по услугам."
   ]
  },
  {
   "cell_type": "code",
   "execution_count": 267,
   "id": "db5a0ad9",
   "metadata": {},
   "outputs": [
    {
     "data": {
      "image/png": "[encoded data removed]",
      "text/plain": [
       "<Figure size 800x500 with 1 Axes>"
      ]
     },
     "metadata": {},
     "output_type": "display_data"
    }
   ],
   "source": [
    "data_amount_service = df_merged.groupby('service')['amount'].sum().sort_values(ascending=False)\n",
    "\n",
    "plt.figure(figsize=(8, 5))\n",
    "data_amount_service.plot(kind='bar', color='purple')\n",
    "plt.title('Выручка по услугам')\n",
    "plt.xlabel('Услуга')\n",
    "plt.ylabel('Суммарная выручка')\n",
    "plt.xticks(rotation=45, ha='right')\n",
    "plt.grid(axis='y')\n",
    "plt.tight_layout()\n",
    "plt.show()\n"
   ]
  },
  {
   "cell_type": "markdown",
   "id": "a8842b2a",
   "metadata": {},
   "source": [
    "##### Построить график зависимости средней суммы транзакции от возраста клиентов."
   ]
  },
  {
   "cell_type": "code",
   "execution_count": 268,
   "id": "b9b98f12",
   "metadata": {},
   "outputs": [
    {
     "data": {
      "image/png": "[encoded data removed]",
      "text/plain": [
       "<Figure size 800x500 with 1 Axes>"
      ]
     },
     "metadata": {},
     "output_type": "display_data"
    }
   ],
   "source": [
    "data_amount_age = df_merged.groupby(\"age\")[\"amount\"].mean()\n",
    "\n",
    "plt.figure(figsize=(8, 5))\n",
    "sns.lineplot(x=data_amount_age.index, y=data_amount_age, marker='o', color='coral')\n",
    "plt.title('Зависимость средней суммы транзакции от возраста')\n",
    "plt.xlabel('Возраст')\n",
    "plt.ylabel('Средняя сумма')\n",
    "plt.grid(True)\n",
    "plt.tight_layout()\n",
    "plt.show()\n"
   ]
  },
  {
   "cell_type": "markdown",
   "id": "f143a312",
   "metadata": {},
   "source": [
    "#### 5. Прогнозирование."
   ]
  },
  {
   "cell_type": "markdown",
   "id": "c4661b2b",
   "metadata": {},
   "source": [
    "##### Создание первой модели, анализ "
   ]
  },
  {
   "cell_type": "markdown",
   "id": "3e62f4fb",
   "metadata": {},
   "source": [
    "Импорт библиотек"
   ]
  },
  {
   "cell_type": "code",
   "execution_count": 269,
   "id": "a076a23e",
   "metadata": {},
   "outputs": [],
   "source": [
    "from xgboost import XGBRegressor\n",
    "from sklearn.model_selection import GridSearchCV\n",
    "from sklearn.model_selection import train_test_split\n",
    "from sklearn.metrics import root_mean_squared_error, mean_squared_error, r2_score"
   ]
  },
  {
   "cell_type": "markdown",
   "id": "628fbc59",
   "metadata": {},
   "source": [
    "Предобработка данных"
   ]
  },
  {
   "cell_type": "code",
   "execution_count": 270,
   "id": "0b3a1b33",
   "metadata": {},
   "outputs": [],
   "source": [
    "df_merged['week'] = df_merged['transaction_date'].dt.to_period('W').apply(lambda r: r.start_time)\n",
    "cols_to_drop = [\"amount\", \"transaction_id\", \"client_id\", \"id\", \"transaction_date\"]\n",
    "X = df_merged.drop(columns=existing_cols)\n",
    "Y = df_merged[\"amount\"]\n",
    "\n",
    "for col in X.select_dtypes(include='object').columns:\n",
    "    X[col] = X[col].astype('category')\n",
    "\n",
    "X= X.drop(columns=['week'])\n"
   ]
  },
  {
   "cell_type": "code",
   "execution_count": 271,
   "id": "5a274efd",
   "metadata": {},
   "outputs": [
    {
     "name": "stdout",
     "output_type": "stream",
     "text": [
      "<class 'pandas.core.frame.DataFrame'>\n",
      "RangeIndex: 8012 entries, 0 to 8011\n",
      "Data columns (total 8 columns):\n",
      " #   Column          Non-Null Count  Dtype   \n",
      "---  ------          --------------  -----   \n",
      " 0   service         8012 non-null   category\n",
      " 1   payment_method  8012 non-null   category\n",
      " 2   city            8012 non-null   category\n",
      " 3   consultant      8012 non-null   category\n",
      " 4   age             7179 non-null   float64 \n",
      " 5   gender          5313 non-null   category\n",
      " 6   net_worth       7621 non-null   float64 \n",
      " 7   asset_level     8012 non-null   category\n",
      "dtypes: category(6), float64(2)\n",
      "memory usage: 177.8 KB\n"
     ]
    }
   ],
   "source": [
    "X.info()"
   ]
  },
  {
   "cell_type": "markdown",
   "id": "0c4aab13",
   "metadata": {},
   "source": [
    "Разделение данных на тестовую и тренировочную выборку"
   ]
  },
  {
   "cell_type": "code",
   "execution_count": 272,
   "id": "b05f41ee",
   "metadata": {},
   "outputs": [],
   "source": [
    "X_train, X_test, y_train, y_test = train_test_split(X, Y, test_size=0.2, random_state=42) "
   ]
  },
  {
   "cell_type": "code",
   "execution_count": 273,
   "id": "3fe677c2",
   "metadata": {},
   "outputs": [],
   "source": [
    "model = XGBRegressor(enable_categorical=True, random_state = 42)\n",
    "\n",
    "param_grid = {\n",
    "    \"n_estimators\": [100, 500],\n",
    "    \"max_depth\": [3, 5],\n",
    "    \"learning_rate\": [0.05, 0.1],\n",
    "    \"subsample\": [0.8, 0.9] \n",
    "}\n",
    "\n",
    "GS = GridSearchCV(model, param_grid, cv = 5, scoring=\"neg_root_mean_squared_error\", n_jobs=-1)\n",
    "\n",
    "GS.fit(X_train, y_train)\n",
    "\n",
    "modelXGB = GS.best_estimator_"
   ]
  },
  {
   "cell_type": "code",
   "execution_count": 274,
   "id": "a82927be",
   "metadata": {},
   "outputs": [
    {
     "name": "stdout",
     "output_type": "stream",
     "text": [
      "RMSE: 38431\n",
      "Для сравнения посмотрим среднее значение у amount: 49745\n"
     ]
    },
    {
     "data": {
      "text/html": [
       "<div>\n",
       "<style scoped>\n",
       "    .dataframe tbody tr th:only-of-type {\n",
       "        vertical-align: middle;\n",
       "    }\n",
       "\n",
       "    .dataframe tbody tr th {\n",
       "        vertical-align: top;\n",
       "    }\n",
       "\n",
       "    .dataframe thead th {\n",
       "        text-align: right;\n",
       "    }\n",
       "</style>\n",
       "<table border=\"1\" class=\"dataframe\">\n",
       "  <thead>\n",
       "    <tr style=\"text-align: right;\">\n",
       "      <th></th>\n",
       "      <th>Predict</th>\n",
       "      <th>Actual</th>\n",
       "    </tr>\n",
       "  </thead>\n",
       "  <tbody>\n",
       "    <tr>\n",
       "      <th>4523</th>\n",
       "      <td>60213.539062</td>\n",
       "      <td>8882.162414</td>\n",
       "    </tr>\n",
       "    <tr>\n",
       "      <th>4680</th>\n",
       "      <td>59847.257812</td>\n",
       "      <td>73022.469291</td>\n",
       "    </tr>\n",
       "    <tr>\n",
       "      <th>5832</th>\n",
       "      <td>43529.433594</td>\n",
       "      <td>9085.389845</td>\n",
       "    </tr>\n",
       "    <tr>\n",
       "      <th>3827</th>\n",
       "      <td>44899.050781</td>\n",
       "      <td>42864.095637</td>\n",
       "    </tr>\n",
       "    <tr>\n",
       "      <th>2470</th>\n",
       "      <td>44591.089844</td>\n",
       "      <td>49189.803068</td>\n",
       "    </tr>\n",
       "  </tbody>\n",
       "</table>\n",
       "</div>"
      ],
      "text/plain": [
       "           Predict        Actual\n",
       "4523  60213.539062   8882.162414\n",
       "4680  59847.257812  73022.469291\n",
       "5832  43529.433594   9085.389845\n",
       "3827  44899.050781  42864.095637\n",
       "2470  44591.089844  49189.803068"
      ]
     },
     "execution_count": 274,
     "metadata": {},
     "output_type": "execute_result"
    }
   ],
   "source": [
    "y_pred = modelXGB.predict(X_test)\n",
    "\n",
    "rmse = root_mean_squared_error(y_test, y_pred)\n",
    "rmse = round(rmse)\n",
    "\n",
    "print(f\"RMSE: {rmse}\")\n",
    "print(f\"Для сравнения посмотрим среднее значение у amount: {round(Y.mean())}\")\n",
    "\n",
    "predict_and_test = pd.DataFrame({\n",
    "    \"Predict\": y_pred,\n",
    "    \"Actual\": y_test\n",
    "})\n",
    "\n",
    "predict_and_test.head()"
   ]
  },
  {
   "cell_type": "markdown",
   "id": "17b307d2",
   "metadata": {},
   "source": [
    "Ошибка больша, и насколько я вижу по данным, значения колебляться рядом со средним, проверим теорию"
   ]
  },
  {
   "cell_type": "code",
   "execution_count": 275,
   "id": "ad59e9f7",
   "metadata": {},
   "outputs": [
    {
     "name": "stdout",
     "output_type": "stream",
     "text": [
      "Ошибка чисто средних показаний: 38022\n"
     ]
    }
   ],
   "source": [
    "y_mean = np.full_like(y_test, y_train.mean())\n",
    "\n",
    "rmse_mean = root_mean_squared_error(y_test, y_mean)\n",
    "rmse_mean = round(rmse_mean)\n",
    "\n",
    "print(f\"Ошибка чисто средних показаний: {rmse_mean}\")"
   ]
  },
  {
   "cell_type": "markdown",
   "id": "83b9935c",
   "metadata": {},
   "source": [
    "Как я и говорил, ошибка даже меньше нежели у XGB, проанализируем вклад различных признаков"
   ]
  },
  {
   "cell_type": "code",
   "execution_count": 276,
   "id": "158ce2d8",
   "metadata": {},
   "outputs": [
    {
     "data": {
      "image/png": "[encoded data removed]",
      "text/plain": [
       "<Figure size 640x480 with 1 Axes>"
      ]
     },
     "metadata": {},
     "output_type": "display_data"
    }
   ],
   "source": [
    "import xgboost as xgb\n",
    "\n",
    "xgb.plot_importance(modelXGB, importance_type='gain', height=0.5)\n",
    "plt.title(\"Важность признаков\")\n",
    "plt.tight_layout()\n",
    "plt.show()"
   ]
  },
  {
   "cell_type": "markdown",
   "id": "5ec3cc63",
   "metadata": {},
   "source": [
    "Думаю что модель переобучилась из-за множества городов и консультантов, под которых она подстроилась, удалим данные столбцы из данных тренировки,логарифмируем целевую переменную для сужения диапозона значений и добавим столбец отражающий временной ряд"
   ]
  },
  {
   "cell_type": "code",
   "execution_count": 277,
   "id": "eac6181f",
   "metadata": {},
   "outputs": [
    {
     "name": "stdout",
     "output_type": "stream",
     "text": [
      "Лучшие параметры: {'learning_rate': 0.05, 'max_depth': 3, 'n_estimators': 100, 'subsample': 0.9}\n"
     ]
    }
   ],
   "source": [
    "print(\"Лучшие параметры:\", GS.best_params_) # для справки"
   ]
  },
  {
   "cell_type": "markdown",
   "id": "db018d69",
   "metadata": {},
   "source": [
    "##### Создание основной модели"
   ]
  },
  {
   "cell_type": "code",
   "execution_count": 278,
   "id": "fc10c53b",
   "metadata": {},
   "outputs": [],
   "source": [
    "def round_age(age):\n",
    "    return 10 * (age // 10 % 10) + (5 if age % 10 >= 5 else 0)"
   ]
  },
  {
   "cell_type": "code",
   "execution_count": 300,
   "id": "c2740f47",
   "metadata": {},
   "outputs": [
    {
     "data": {
      "text/html": [
       "<div>\n",
       "<style scoped>\n",
       "    .dataframe tbody tr th:only-of-type {\n",
       "        vertical-align: middle;\n",
       "    }\n",
       "\n",
       "    .dataframe tbody tr th {\n",
       "        vertical-align: top;\n",
       "    }\n",
       "\n",
       "    .dataframe thead th {\n",
       "        text-align: right;\n",
       "    }\n",
       "</style>\n",
       "<table border=\"1\" class=\"dataframe\">\n",
       "  <thead>\n",
       "    <tr style=\"text-align: right;\">\n",
       "      <th></th>\n",
       "      <th>service</th>\n",
       "      <th>payment_method</th>\n",
       "      <th>age</th>\n",
       "      <th>gender</th>\n",
       "      <th>net_worth</th>\n",
       "      <th>asset_level</th>\n",
       "      <th>week_num</th>\n",
       "    </tr>\n",
       "  </thead>\n",
       "  <tbody>\n",
       "    <tr>\n",
       "      <th>0</th>\n",
       "      <td>Структурирование капитала</td>\n",
       "      <td>Банковский перевод</td>\n",
       "      <td>40.0</td>\n",
       "      <td>Мужчина</td>\n",
       "      <td>2514729.46</td>\n",
       "      <td>Высокий капитал</td>\n",
       "      <td>0</td>\n",
       "    </tr>\n",
       "    <tr>\n",
       "      <th>1</th>\n",
       "      <td>Структурирование капитала</td>\n",
       "      <td>Неизвестно</td>\n",
       "      <td>25.0</td>\n",
       "      <td>Мужчина</td>\n",
       "      <td>566568.29</td>\n",
       "      <td>Средний капитал</td>\n",
       "      <td>10</td>\n",
       "    </tr>\n",
       "    <tr>\n",
       "      <th>2</th>\n",
       "      <td>Структурирование капитала</td>\n",
       "      <td>Неизвестно</td>\n",
       "      <td>55.0</td>\n",
       "      <td>Женщина</td>\n",
       "      <td>1896001.28</td>\n",
       "      <td>Высокий капитал</td>\n",
       "      <td>6</td>\n",
       "    </tr>\n",
       "    <tr>\n",
       "      <th>3</th>\n",
       "      <td>Структурирование капитала</td>\n",
       "      <td>Неизвестно</td>\n",
       "      <td>30.0</td>\n",
       "      <td>Мужчина</td>\n",
       "      <td>4865849.92</td>\n",
       "      <td>Высокий капитал</td>\n",
       "      <td>11</td>\n",
       "    </tr>\n",
       "    <tr>\n",
       "      <th>4</th>\n",
       "      <td>Инвестиционное консультирование</td>\n",
       "      <td>Кредитная карта</td>\n",
       "      <td>55.0</td>\n",
       "      <td>Женщина</td>\n",
       "      <td>3992281.84</td>\n",
       "      <td>Высокий капитал</td>\n",
       "      <td>7</td>\n",
       "    </tr>\n",
       "  </tbody>\n",
       "</table>\n",
       "</div>"
      ],
      "text/plain": [
       "                           service      payment_method   age   gender  \\\n",
       "0        Структурирование капитала  Банковский перевод  40.0  Мужчина   \n",
       "1        Структурирование капитала          Неизвестно  25.0  Мужчина   \n",
       "2        Структурирование капитала          Неизвестно  55.0  Женщина   \n",
       "3        Структурирование капитала          Неизвестно  30.0  Мужчина   \n",
       "4  Инвестиционное консультирование     Кредитная карта  55.0  Женщина   \n",
       "\n",
       "    net_worth      asset_level  week_num  \n",
       "0  2514729.46  Высокий капитал         0  \n",
       "1   566568.29  Средний капитал        10  \n",
       "2  1896001.28  Высокий капитал         6  \n",
       "3  4865849.92  Высокий капитал        11  \n",
       "4  3992281.84  Высокий капитал         7  "
      ]
     },
     "execution_count": 300,
     "metadata": {},
     "output_type": "execute_result"
    }
   ],
   "source": [
    "df_merged['week_num'] = ((df_merged['week'] - df_merged['week'].min()) // 7).dt.days \n",
    "df_merged[\"age\"] = df_merged[\"age\"].apply(round_age)\n",
    "\n",
    "cols_to_drop = [\"amount\", \"transaction_id\", \"client_id\", \"id\", \"transaction_date\", \"week\", \"consultant\", \"city\"]\n",
    "\n",
    "X = df_merged.drop(columns=cols_to_drop)\n",
    "Y = df_merged[\"amount\"]\n",
    "\n",
    "for col in X.select_dtypes(include='object').columns:\n",
    "    X[col] = X[col].astype('category')\n",
    "\n",
    "X.head()"
   ]
  },
  {
   "cell_type": "code",
   "execution_count": 301,
   "id": "2e52af10",
   "metadata": {},
   "outputs": [],
   "source": [
    "X_train, X_test, y_train, y_test = train_test_split(X, Y, test_size=0.2, random_state=42)"
   ]
  },
  {
   "cell_type": "code",
   "execution_count": 281,
   "id": "1956348c",
   "metadata": {},
   "outputs": [],
   "source": [
    "model = XGBRegressor(min_child_weight = 10, alpha = 0.1, enable_categorical=True, random_state = 42)\n",
    "\n",
    "param_grid = {\n",
    "    \"n_estimators\": [100, 350],\n",
    "    \"max_depth\": [3, 5, 7],\n",
    "    \"learning_rate\": [0.01, 0.05],\n",
    "    \"subsample\": [0.8, 0.9, 1] \n",
    "}\n",
    "\n",
    "GS = GridSearchCV(model, param_grid, cv = 5, scoring=\"neg_root_mean_squared_error\", n_jobs=-1)\n",
    "\n",
    "GS.fit(X_train, y_train)\n",
    "\n",
    "modelXGB = GS.best_estimator_"
   ]
  },
  {
   "cell_type": "code",
   "execution_count": 302,
   "id": "6add295b",
   "metadata": {},
   "outputs": [
    {
     "name": "stdout",
     "output_type": "stream",
     "text": [
      "RMSE: 38041\n",
      "Для сравнения посмотрим среднее значение у amount: 49745\n"
     ]
    },
    {
     "data": {
      "text/html": [
       "<div>\n",
       "<style scoped>\n",
       "    .dataframe tbody tr th:only-of-type {\n",
       "        vertical-align: middle;\n",
       "    }\n",
       "\n",
       "    .dataframe tbody tr th {\n",
       "        vertical-align: top;\n",
       "    }\n",
       "\n",
       "    .dataframe thead th {\n",
       "        text-align: right;\n",
       "    }\n",
       "</style>\n",
       "<table border=\"1\" class=\"dataframe\">\n",
       "  <thead>\n",
       "    <tr style=\"text-align: right;\">\n",
       "      <th></th>\n",
       "      <th>Predict</th>\n",
       "      <th>Actual</th>\n",
       "    </tr>\n",
       "  </thead>\n",
       "  <tbody>\n",
       "    <tr>\n",
       "      <th>4523</th>\n",
       "      <td>48238.894531</td>\n",
       "      <td>8882.162414</td>\n",
       "    </tr>\n",
       "    <tr>\n",
       "      <th>4680</th>\n",
       "      <td>49507.683594</td>\n",
       "      <td>73022.469291</td>\n",
       "    </tr>\n",
       "    <tr>\n",
       "      <th>5832</th>\n",
       "      <td>50581.441406</td>\n",
       "      <td>9085.389845</td>\n",
       "    </tr>\n",
       "    <tr>\n",
       "      <th>3827</th>\n",
       "      <td>50817.332031</td>\n",
       "      <td>42864.095637</td>\n",
       "    </tr>\n",
       "    <tr>\n",
       "      <th>2470</th>\n",
       "      <td>51174.929688</td>\n",
       "      <td>49189.803068</td>\n",
       "    </tr>\n",
       "  </tbody>\n",
       "</table>\n",
       "</div>"
      ],
      "text/plain": [
       "           Predict        Actual\n",
       "4523  48238.894531   8882.162414\n",
       "4680  49507.683594  73022.469291\n",
       "5832  50581.441406   9085.389845\n",
       "3827  50817.332031  42864.095637\n",
       "2470  51174.929688  49189.803068"
      ]
     },
     "execution_count": 302,
     "metadata": {},
     "output_type": "execute_result"
    }
   ],
   "source": [
    "y_pred = modelXGB.predict(X_test)\n",
    "\n",
    "rmse = root_mean_squared_error(y_test, y_pred)\n",
    "rmse = round(rmse)\n",
    "\n",
    "print(f\"RMSE: {rmse}\")\n",
    "print(f\"Для сравнения посмотрим среднее значение у amount: {round(Y.mean())}\")\n",
    "\n",
    "predict_and_test = pd.DataFrame({\n",
    "    \"Predict\": y_pred,\n",
    "    \"Actual\": y_test\n",
    "})\n",
    "\n",
    "predict_and_test.head()"
   ]
  },
  {
   "cell_type": "code",
   "execution_count": 303,
   "id": "7d0ed565",
   "metadata": {},
   "outputs": [
    {
     "name": "stdout",
     "output_type": "stream",
     "text": [
      "Лучшие параметры: {'learning_rate': 0.01, 'max_depth': 3, 'n_estimators': 100, 'subsample': 0.8}\n"
     ]
    }
   ],
   "source": [
    "print(\"Лучшие параметры:\", GS.best_params_)"
   ]
  },
  {
   "cell_type": "code",
   "execution_count": 304,
   "id": "4cbed792",
   "metadata": {},
   "outputs": [
    {
     "data": {
      "image/png": "[encoded data removed]",
      "text/plain": [
       "<Figure size 640x480 with 1 Axes>"
      ]
     },
     "metadata": {},
     "output_type": "display_data"
    }
   ],
   "source": [
    "xgb.plot_importance(modelXGB, importance_type='gain', height=0.5)\n",
    "plt.title(\"Важность признаков\")\n",
    "plt.tight_layout()\n",
    "plt.show()"
   ]
  },
  {
   "cell_type": "markdown",
   "id": "980a1a07",
   "metadata": {},
   "source": [
    "Осталась большая ошибка, попробуем линейную модель"
   ]
  },
  {
   "cell_type": "code",
   "execution_count": 285,
   "id": "7bd489f4",
   "metadata": {},
   "outputs": [],
   "source": [
    "from sklearn.preprocessing import StandardScaler, OneHotEncoder\n",
    "from sklearn.compose import ColumnTransformer\n",
    "from sklearn.pipeline import Pipeline\n",
    "from sklearn.linear_model import Ridge"
   ]
  },
  {
   "cell_type": "code",
   "execution_count": 288,
   "id": "4f83ba0a",
   "metadata": {},
   "outputs": [
    {
     "data": {
      "text/plain": [
       "transaction_id         0\n",
       "client_id              0\n",
       "transaction_date       0\n",
       "service                0\n",
       "amount                 0\n",
       "payment_method         0\n",
       "city                   0\n",
       "consultant             0\n",
       "id                     0\n",
       "age                  833\n",
       "gender              2699\n",
       "net_worth            391\n",
       "asset_level            0\n",
       "week                   0\n",
       "week_num               0\n",
       "dtype: int64"
      ]
     },
     "execution_count": 288,
     "metadata": {},
     "output_type": "execute_result"
    }
   ],
   "source": [
    "df_merged.isnull().sum()"
   ]
  },
  {
   "cell_type": "code",
   "execution_count": 291,
   "id": "aa121615",
   "metadata": {},
   "outputs": [
    {
     "data": {
      "text/plain": [
       "transaction_id      0\n",
       "client_id           0\n",
       "transaction_date    0\n",
       "service             0\n",
       "amount              0\n",
       "payment_method      0\n",
       "city                0\n",
       "consultant          0\n",
       "id                  0\n",
       "age                 0\n",
       "gender              0\n",
       "net_worth           0\n",
       "asset_level         0\n",
       "week                0\n",
       "week_num            0\n",
       "dtype: int64"
      ]
     },
     "execution_count": 291,
     "metadata": {},
     "output_type": "execute_result"
    }
   ],
   "source": [
    "df_merged[\"age\"].fillna(df_merged[\"age\"].mean())\n",
    "df_merged[\"net_worth\"].fillna(df_merged[\"net_worth\"].mean())\n",
    "df_merged[\"gender\"].fillna('Unknown')\n",
    "\n",
    "df_merged.isnull().sum()"
   ]
  },
  {
   "cell_type": "code",
   "execution_count": 307,
   "id": "cbc8b5f5",
   "metadata": {},
   "outputs": [
    {
     "name": "stdout",
     "output_type": "stream",
     "text": [
      "RMSE: 38122.16\n",
      "R2: -0.01\n"
     ]
    }
   ],
   "source": [
    "features = ['service', 'payment_method', 'age', 'gender', 'net_worth', 'asset_level', 'week_num']\n",
    "target = 'amount'\n",
    "\n",
    "X = df_merged[features]\n",
    "y = df_merged[target]\n",
    "\n",
    "X_train, X_test, y_train, y_test = train_test_split(X, y, test_size=0.2, random_state=42)\n",
    "\n",
    "categorical_features = ['service', 'payment_method', 'gender', 'asset_level']\n",
    "numerical_features = ['age', 'net_worth', 'week_num']\n",
    "\n",
    "categorical_transformer = OneHotEncoder(drop='first', handle_unknown='ignore')\n",
    "\n",
    "numerical_transformer = StandardScaler()\n",
    "\n",
    "preprocessor = ColumnTransformer(\n",
    "    transformers=[\n",
    "        ('num', numerical_transformer, numerical_features),\n",
    "        ('cat', categorical_transformer, categorical_features)\n",
    "    ]\n",
    ")\n",
    "\n",
    "model = Pipeline(steps=[\n",
    "    ('preprocessor', preprocessor),\n",
    "    ('regressor', Ridge(alpha=1.0))\n",
    "])\n",
    "\n",
    "model.fit(X_train, y_train)\n",
    "\n",
    "y_pred = model.predict(X_test)\n",
    "\n",
    "rmse = root_mean_squared_error(y_test, y_pred)\n",
    "r2 = r2_score(y_test, y_pred)\n",
    "\n",
    "print(f\"RMSE: {rmse:.2f}\")\n",
    "print(f\"R2: {r2:.2f}\")\n"
   ]
  },
  {
   "cell_type": "code",
   "execution_count": 306,
   "id": "209088ed",
   "metadata": {},
   "outputs": [
    {
     "name": "stdout",
     "output_type": "stream",
     "text": [
      "                              Feature  Coefficient\n",
      "14         asset_level_Низкий капитал -5088.412566\n",
      "5   service_Структурирование капитала -2567.616058\n",
      "15        asset_level_Средний капитал -2189.565518\n",
      "12                     gender_Женщина  2053.836813\n",
      "9         payment_method_Криптовалюта  2020.448761\n",
      "3      service_Налоговое планирование -1959.664331\n",
      "11          payment_method_Неизвестно  1519.927694\n",
      "7     service_Финансовое планирование -1133.769642\n",
      "4          service_Неизвестная услуга   954.633243\n",
      "6         service_Управление активами  -775.723792\n",
      "8      payment_method_Кредитная карта  -775.164636\n",
      "1                           net_worth  -609.569352\n",
      "2                            week_num  -549.467101\n",
      "0                                 age   539.805452\n",
      "13                     gender_Мужчина  -357.322725\n",
      "10            payment_method_Наличные  -287.240762\n"
     ]
    }
   ],
   "source": [
    "# Получим имена признаков после трансформации\n",
    "feature_names_num = numerical_features\n",
    "feature_names_cat = model.named_steps['preprocessor'].named_transformers_['cat'].get_feature_names_out(categorical_features)\n",
    "all_feature_names = np.concatenate([feature_names_num, feature_names_cat])\n",
    "\n",
    "# Получим коэффициенты линейной модели\n",
    "coefficients = model.named_steps['regressor'].coef_\n",
    "\n",
    "# Объединим в DataFrame для анализа\n",
    "coef_df = pd.DataFrame({\n",
    "    'Feature': all_feature_names,\n",
    "    'Coefficient': coefficients\n",
    "}).sort_values(by='Coefficient', key=abs, ascending=False)\n",
    "\n",
    "print(coef_df)\n"
   ]
  }
 ],
 "metadata": {
  "kernelspec": {
   "display_name": "Python 3",
   "language": "python",
   "name": "python3"
  },
  "language_info": {
   "codemirror_mode": {
    "name": "ipython",
    "version": 3
   },
   "file_extension": ".py",
   "mimetype": "text/x-python",
   "name": "python",
   "nbconvert_exporter": "python",
   "pygments_lexer": "ipython3",
   "version": "3.11.2"
  }
 },
 "nbformat": 4,
 "nbformat_minor": 5
}
