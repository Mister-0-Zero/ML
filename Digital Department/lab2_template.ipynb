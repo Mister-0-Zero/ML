{
 "cells": [
  {
   "cell_type": "markdown",
   "metadata": {},
   "source": [
    "<div class='alert alert-info'>\n",
    "<h1>Инструкция</h1>\n",
    "\n",
    "1) Ваша задача завершить 2 функции: `matrix_multiply` и `matrix_multiply_cuda`.\n",
    "2) Не изменяйте вообще никакие ячейки, если явно не сказано обратное.\n",
    "3) Обратите внимание, что в лабе необходима CUDA. Если на вашем устройстве она недоступна, вылетит ошибка. В таком случае, пожалуйста, используйте другое устройство. Также можно использовать Google Colab. Если нет вообще никаких вариантов использовать устройство с CUDA, напишите код и отправьте его без проверок.\n",
    "4) Для сдачи необходимо отправить письмо на почту spinteh.data.analysis@gmail.com.  \n",
    "**Тема письма**: ФИО, номер ЛР и группа, например *Иванов Иван Иванович ЛР 2, группа 5*.  \n",
    "**Контент** прикрепите текстовый файл (только `.py` или `.txt`), который содержит 2 функции (которые вы дописали). Или можно использовать сервисы вставки кода, например, [hastebin](https://www.toptal.com/developers/hastebin).\n",
    "5) CPU версию (функция `matrix_multiply`) необходимо реализовать самим (через циклы). Использовать готовые функции нельзя.\n",
    "</div>"
   ]
  },
  {
   "cell_type": "code",
   "execution_count": null,
   "metadata": {},
   "outputs": [
    {
     "ename": "",
     "evalue": "",
     "output_type": "error",
     "traceback": [
      "\u001b[1;31mRunning cells with 'Python 3.11.2' requires the ipykernel package.\n",
      "\u001b[1;31mRun the following command to install 'ipykernel' into the Python environment. \n",
      "\u001b[1;31mCommand: 'c:/Users/Alexey/AppData/Local/Programs/Python/Python311/python.exe -m pip install ipykernel -U --user --force-reinstall'"
     ]
    }
   ],
   "source": [
    "from IPython.display import clear_output"
   ]
  },
  {
   "cell_type": "code",
   "execution_count": null,
   "metadata": {},
   "outputs": [],
   "source": [
    "%pip install -q numpy==1.26.4\n",
    "%pip install -U -q numba\n",
    "\n",
    "clear_output()"
   ]
  },
  {
   "cell_type": "code",
   "execution_count": null,
   "metadata": {},
   "outputs": [],
   "source": [
    "import numpy as np\n",
    "from numba import cuda"
   ]
  },
  {
   "cell_type": "code",
   "execution_count": null,
   "metadata": {},
   "outputs": [],
   "source": [
    "if not cuda.is_available():\n",
    "    raise ValueError('CUDA is not available. You will not be able to complete the lab.')"
   ]
  },
  {
   "cell_type": "code",
   "execution_count": null,
   "metadata": {},
   "outputs": [],
   "source": [
    "A = np.array([[1, 2, 3],\n",
    "              [4, 5, 6]], dtype=np.float32)\n",
    "\n",
    "B = np.array([[7, 8],\n",
    "              [9, 10],\n",
    "              [11, 12]], dtype=np.float32)"
   ]
  },
  {
   "cell_type": "markdown",
   "metadata": {},
   "source": [
    "## CPU"
   ]
  },
  {
   "cell_type": "code",
   "execution_count": null,
   "metadata": {},
   "outputs": [],
   "source": [
    "def matrix_multiply(A: np.ndarray, B: np.ndarray) -> np.ndarray:\n",
    "    \"\"\"Function to multiply matrices on CPU\n",
    "\n",
    "    Args:\n",
    "        A (np.ndarray): first matrix to multiply\n",
    "        B (np.ndarray): second matrix to multiply\n",
    "\n",
    "    Raises:\n",
    "        ValueError: if the matrices cannot be multiplied due to their shapes\n",
    "\n",
    "    Returns:\n",
    "        np.ndarray: The result of matrix multiplication\n",
    "    \"\"\"\n",
    "\n",
    "    # do NOT change code in the block below\n",
    "    n, m1 = A.shape\n",
    "    m2, p = B.shape\n",
    "\n",
    "    if m1 != m2:\n",
    "        raise ValueError('Matrices cannot be multiplied')\n",
    "\n",
    "    m = m1\n",
    "    res = np.zeros((A.shape[0], B.shape[1]), dtype=np.float32)\n",
    "    # end of block\n",
    "    for i in range(A.shape[0]):\n",
    "        for j in range(B.shape[1]):\n",
    "            res[i, j] = sum([A[i][k] * B[v][j] for k in range(A.shape[0]) for v in range(B.shape[1])])\n",
    "    # Finish code\n",
    "    return res"
   ]
  },
  {
   "cell_type": "code",
   "execution_count": null,
   "metadata": {},
   "outputs": [],
   "source": [
    "true_c = np.dot(A, B)\n",
    "true_c"
   ]
  },
  {
   "cell_type": "code",
   "execution_count": null,
   "metadata": {},
   "outputs": [],
   "source": [
    "cpu_c = matrix_multiply(A, B)\n",
    "cpu_c"
   ]
  },
  {
   "cell_type": "code",
   "execution_count": null,
   "metadata": {},
   "outputs": [],
   "source": [
    "assert np.allclose(true_c, cpu_c, atol=1e-6), 'Function `matrix_multiply` does not work properly.'"
   ]
  },
  {
   "cell_type": "markdown",
   "metadata": {},
   "source": [
    "## GPU"
   ]
  },
  {
   "cell_type": "code",
   "execution_count": null,
   "metadata": {},
   "outputs": [],
   "source": [
    "C = np.zeros((A.shape[0], B.shape[1]), dtype=np.float32)"
   ]
  },
  {
   "cell_type": "code",
   "execution_count": null,
   "metadata": {},
   "outputs": [],
   "source": [
    "# Определяем размер блока и сетки\n",
    "TPB = 16  # Threads per block"
   ]
  },
  {
   "cell_type": "markdown",
   "metadata": {},
   "source": [
    "**Примечание о функции ниже:**  \n",
    "Результирующая матрица уже подается на вход (`С`). Она сразу правильной формы. Ваша задача заполнить её правильными значениями. Например, если значение, которое должно находиться на позиции (0, 0) получилось у вас в переменной `tmp`, то его можно записать так:\n",
    "\n",
    "```python\n",
    "C[0, 0] = tmp\n",
    "```\n",
    "\n",
    "Явно возвращать из функции ничего не нужно."
   ]
  },
  {
   "cell_type": "code",
   "execution_count": null,
   "metadata": {},
   "outputs": [],
   "source": [
    "@cuda.jit\n",
    "def matrix_multiply_cuda(A: np.ndarray, B: np.ndarray, C: np.ndarray) -> None:\n",
    "    \"\"\"Function to multiply matrices on GPU using CUDA\n",
    "\n",
    "    Args:\n",
    "        A (np.ndarray): first matrix to multiply\n",
    "        B (np.ndarray): second matrix to multiply\n",
    "        C (np.ndarray): the result of matrix multiplication\n",
    "    \"\"\"\n",
    "    \n",
    "    row, col = cuda.grid(2)\n",
    "\n",
    "    if row < C.shape[0] and col < C.shape[1]:\n",
    "        tmp = 0.0\n",
    "\n",
    "        for k in range(A.shape[1]):\n",
    "            tmp += A[row, k] * B[k, col]\n",
    "\n",
    "        C[row, col] = tmp\n",
    "    # finish code"
   ]
  },
  {
   "cell_type": "code",
   "execution_count": null,
   "metadata": {},
   "outputs": [],
   "source": [
    "# Копируем данные в память GPU\n",
    "A_global_mem = cuda.to_device(A)\n",
    "B_global_mem = cuda.to_device(B)\n",
    "C_global_mem = cuda.to_device(C)"
   ]
  },
  {
   "cell_type": "code",
   "execution_count": null,
   "metadata": {},
   "outputs": [],
   "source": [
    "# Определяем размеры сетки и блоков\n",
    "threadsperblock = (TPB, TPB)\n",
    "\n",
    "blockspergrid_x = int(np.ceil(A.shape[0] / threadsperblock[0]))\n",
    "blockspergrid_y = int(np.ceil(B.shape[1] / threadsperblock[1]))\n",
    "blockspergrid = (blockspergrid_x, blockspergrid_y)"
   ]
  },
  {
   "cell_type": "code",
   "execution_count": null,
   "metadata": {},
   "outputs": [],
   "source": [
    "# Запускаем ядро CUDA\n",
    "matrix_multiply_cuda[blockspergrid, threadsperblock](A_global_mem, B_global_mem, C_global_mem)"
   ]
  },
  {
   "cell_type": "code",
   "execution_count": null,
   "metadata": {},
   "outputs": [],
   "source": [
    "# Копируем результат обратно в память CPU\n",
    "C = C_global_mem.copy_to_host()\n",
    "C"
   ]
  },
  {
   "cell_type": "code",
   "execution_count": null,
   "metadata": {},
   "outputs": [],
   "source": [
    "assert np.allclose(true_c, C, atol=1e-6), 'Function `matrix_multiply_cuda` does not work properly'"
   ]
  }
 ],
 "metadata": {
  "kernelspec": {
   "display_name": "Python 3",
   "language": "python",
   "name": "python3"
  },
  "language_info": {
   "codemirror_mode": {
    "name": "ipython",
    "version": 3
   },
   "file_extension": ".py",
   "mimetype": "text/x-python",
   "name": "python",
   "nbconvert_exporter": "python",
   "pygments_lexer": "ipython3",
   "version": "3.11.2"
  }
 },
 "nbformat": 4,
 "nbformat_minor": 2
}
